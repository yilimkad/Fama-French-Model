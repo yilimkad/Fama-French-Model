{
 "cells": [
  {
   "cell_type": "markdown",
   "metadata": {},
   "source": [
    "# Testing Set Period: 20140930-20141231\n"
   ]
  },
  {
   "cell_type": "code",
   "execution_count": 1,
   "metadata": {
    "collapsed": true
   },
   "outputs": [],
   "source": [
    "import pandas as pd\n",
    "import glob\n",
    "import os\n",
    "import numpy as np\n",
    "from sklearn import linear_model"
   ]
  },
  {
   "cell_type": "markdown",
   "metadata": {},
   "source": [
    "### 1. BE/ME Ratio in 2014 (same throughout the year)\n",
    "The size breakpoint for year t is the median NYSE market equity at the end of June of year t. BE/ME for June of year t is the book equity for the last fiscal year end in t-1 divided by ME for December of t-1. "
   ]
  },
  {
   "cell_type": "code",
   "execution_count": 3,
   "metadata": {
    "collapsed": true
   },
   "outputs": [],
   "source": [
    "BEME_ratio_df_2014 = pd.read_csv(\"/Users/yiliwang/Documents/ACR Internship/Intermediate Files/BEME_ratio_df_2014.csv\", header=0)"
   ]
  },
  {
   "cell_type": "code",
   "execution_count": 35,
   "metadata": {
    "collapsed": false,
    "scrolled": true
   },
   "outputs": [],
   "source": [
    "norm_BEME_ratio_list = list(BEME_ratio_df_2014['norm_BEME_ratio'])# 268 companies available total"
   ]
  },
  {
   "cell_type": "markdown",
   "metadata": {},
   "source": [
    "###### X1: norm_BEME_ratio_list"
   ]
  },
  {
   "cell_type": "markdown",
   "metadata": {},
   "source": [
    "### 2. Last Quarter Return\n",
    "\n",
    "Duration: 20140630 - 20140930\n",
    "\n",
    "return = [SP(20140930) - SP(20140630)]/SP(20140630)\n",
    "\n",
    "sample pool: companies in BEME_ratio_df['WINDCODE']"
   ]
  },
  {
   "cell_type": "markdown",
   "metadata": {},
   "source": [
    "#### a) Last Quarterly Return for Individual Company"
   ]
  },
  {
   "cell_type": "code",
   "execution_count": 6,
   "metadata": {
    "collapsed": true
   },
   "outputs": [],
   "source": [
    "##### Load in all the files of Stock Price\n",
    "\n",
    "# set current working directory to the directory storing stock price data\n",
    "os.chdir('/Users/yiliwang/Documents/ACR Internship/data/')"
   ]
  },
  {
   "cell_type": "code",
   "execution_count": 7,
   "metadata": {
    "collapsed": true
   },
   "outputs": [],
   "source": [
    "files = [file for file in os.listdir( os.curdir ) if file.endswith(\".csv\")]"
   ]
  },
  {
   "cell_type": "code",
   "execution_count": 8,
   "metadata": {
    "collapsed": true
   },
   "outputs": [],
   "source": [
    "# Store files to dictionary using their own name\n",
    "frames = {}\n",
    "for each_file in files:\n",
    "    frames[os.path.splitext(each_file)[0]] = pd.read_csv(each_file)"
   ]
  },
  {
   "cell_type": "markdown",
   "metadata": {},
   "source": [
    "##### Extract Stock Price Data on Starting Day and End Day"
   ]
  },
  {
   "cell_type": "code",
   "execution_count": 10,
   "metadata": {
    "collapsed": false
   },
   "outputs": [],
   "source": [
    "# Obatin Close Price\n",
    "start_close = [None]*len(BEME_ratio_df_2014['WINDCODE'])\n",
    "end_close = [None]*len(BEME_ratio_df_2014['WINDCODE'])"
   ]
  },
  {
   "cell_type": "code",
   "execution_count": 11,
   "metadata": {
    "collapsed": true
   },
   "outputs": [],
   "source": [
    "for i in range(len(BEME_ratio_df_2014['WINDCODE'])):\n",
    "    company = BEME_ratio_df_2014['WINDCODE'][i]\n",
    "    start_close[i] =float(frames[company][frames[company]['TRADE_DT'] == 20140630]['S_DQ_ADJCLOSE'])\n",
    "    end_close[i] = float(frames[company][frames[company]['TRADE_DT'] == 20140930]['S_DQ_ADJCLOSE'])"
   ]
  },
  {
   "cell_type": "code",
   "execution_count": 12,
   "metadata": {
    "collapsed": true
   },
   "outputs": [],
   "source": [
    "# create an empty list to store return for individual company\n",
    "com_qtr_return = [None]*len(BEME_ratio_df_2014['WINDCODE'])"
   ]
  },
  {
   "cell_type": "code",
   "execution_count": 13,
   "metadata": {
    "collapsed": true
   },
   "outputs": [],
   "source": [
    "# Calculate quarterly return\n",
    "for i in range(len(BEME_ratio_df_2014['WINDCODE'])):\n",
    "    com_qtr_return[i] = (end_close[i] - start_close[i])/start_close[i]"
   ]
  },
  {
   "cell_type": "markdown",
   "metadata": {},
   "source": [
    "#### b) Last Quarterly Return for CSI300 Index"
   ]
  },
  {
   "cell_type": "code",
   "execution_count": 17,
   "metadata": {
    "collapsed": true
   },
   "outputs": [],
   "source": [
    "csi300_IndexData= pd.read_csv(\"/Users/yiliwang/Documents/ACR Internship/csi_300_IndexData_daily_.csv\", header=0)"
   ]
  },
  {
   "cell_type": "code",
   "execution_count": 18,
   "metadata": {
    "collapsed": true
   },
   "outputs": [],
   "source": [
    "index_start = float(csi300_IndexData[csi300_IndexData['date'] == '2014-06-30']['last_price']) # index price on start day\n",
    "index_end = float(csi300_IndexData[csi300_IndexData['date'] == '2014-09-30']['last_price'])  # index price on end day"
   ]
  },
  {
   "cell_type": "code",
   "execution_count": 19,
   "metadata": {
    "collapsed": true
   },
   "outputs": [],
   "source": [
    "index_qtr_return = (index_end - index_start)/index_start # calculate the index quarterly return"
   ]
  },
  {
   "cell_type": "code",
   "execution_count": 20,
   "metadata": {
    "collapsed": false
   },
   "outputs": [
    {
     "name": "stdout",
     "output_type": "stream",
     "text": [
      "0.131501358476\n"
     ]
    }
   ],
   "source": [
    "print index_qtr_return"
   ]
  },
  {
   "cell_type": "markdown",
   "metadata": {},
   "source": [
    "#### Difference = Company Return - Index Return \n",
    "Result List: norm_diff_csi300_LAST"
   ]
  },
  {
   "cell_type": "code",
   "execution_count": 22,
   "metadata": {
    "collapsed": false
   },
   "outputs": [],
   "source": [
    "diff_return_com_csi300 = [None]*len(BEME_ratio_df_2014['WINDCODE'])"
   ]
  },
  {
   "cell_type": "code",
   "execution_count": 23,
   "metadata": {
    "collapsed": true
   },
   "outputs": [],
   "source": [
    "for i in range(len(BEME_ratio_df_2014['WINDCODE'])):\n",
    "    diff_return_com_csi300[i] = com_qtr_return[i] - index_qtr_return"
   ]
  },
  {
   "cell_type": "code",
   "execution_count": 27,
   "metadata": {
    "collapsed": true
   },
   "outputs": [],
   "source": [
    "# convert into a dataframe\n",
    "Weighted_Return = pd.DataFrame({'Company':BEME_ratio_df_2014['WINDCODE'],'diff_csi300_LAST': diff_return_com_csi300})"
   ]
  },
  {
   "cell_type": "code",
   "execution_count": 26,
   "metadata": {
    "collapsed": true
   },
   "outputs": [],
   "source": [
    "# Normalize Function\n",
    "def normalize_list(input_list):\n",
    "    empty_list = [None]*len(input_list)\n",
    "    for i in range(len(input_list)):\n",
    "        empty_list[i] = (input_list[i]-input_list.mean())/input_list.std()\n",
    "    return empty_list"
   ]
  },
  {
   "cell_type": "code",
   "execution_count": 29,
   "metadata": {
    "collapsed": true
   },
   "outputs": [],
   "source": [
    "norm_diff_csi300_LAST = normalize_list(Weighted_Return['diff_csi300_LAST'])"
   ]
  },
  {
   "cell_type": "markdown",
   "metadata": {},
   "source": [
    "###### X2: norm_diff_csi300_LAST"
   ]
  },
  {
   "cell_type": "code",
   "execution_count": 31,
   "metadata": {
    "collapsed": false
   },
   "outputs": [
    {
     "data": {
      "text/plain": [
       "[-1.0777214369617809,\n",
       " 0.31444535401573076,\n",
       " -0.69929169938716784,\n",
       " -0.49593344219372876,\n",
       " -0.7913283212128851,\n",
       " -1.364737261248272,\n",
       " -0.51709908433375384,\n",
       " 0.0091953187722201308,\n",
       " 0.067746642762259252,\n",
       " -0.20761442412704131]"
      ]
     },
     "execution_count": 31,
     "metadata": {},
     "output_type": "execute_result"
    }
   ],
   "source": [
    "norm_diff_csi300_LAST[0:10] # preview"
   ]
  },
  {
   "cell_type": "markdown",
   "metadata": {},
   "source": [
    "### 3. AShareEODDerivativeIndicator['FLOAT_A_SHR_TODAY']\n",
    "total free-float shares per day * unadjusted close price"
   ]
  },
  {
   "cell_type": "code",
   "execution_count": 36,
   "metadata": {
    "collapsed": true
   },
   "outputs": [],
   "source": [
    "# Extract trading dates of certain period \n",
    "dates_trade = frames['000001.SZ']['TRADE_DT'].unique()\n",
    "dates_trade.sort() # sort the date"
   ]
  },
  {
   "cell_type": "code",
   "execution_count": 37,
   "metadata": {
    "collapsed": true
   },
   "outputs": [],
   "source": [
    "start_dateind = list(dates_trade).index(20140630) # index of start date\n",
    "end_dateind = list(dates_trade).index(20140930) # index of end date"
   ]
  },
  {
   "cell_type": "code",
   "execution_count": 38,
   "metadata": {
    "collapsed": true
   },
   "outputs": [],
   "source": [
    "# target_dates: list of trading dates in that period\n",
    "target_dates = dates_trade[start_dateind:end_dateind+1]"
   ]
  },
  {
   "cell_type": "code",
   "execution_count": 39,
   "metadata": {
    "collapsed": false
   },
   "outputs": [
    {
     "data": {
      "text/plain": [
       "array([20140630, 20140701, 20140702, 20140703, 20140704, 20140707,\n",
       "       20140708, 20140709, 20140710, 20140711, 20140714, 20140715,\n",
       "       20140716, 20140717, 20140718, 20140721, 20140722, 20140723,\n",
       "       20140724, 20140725, 20140728, 20140729, 20140730, 20140731,\n",
       "       20140801, 20140804, 20140805, 20140806, 20140807, 20140808,\n",
       "       20140811, 20140812, 20140813, 20140814, 20140815, 20140818,\n",
       "       20140819, 20140820, 20140821, 20140822, 20140825, 20140826,\n",
       "       20140827, 20140828, 20140829, 20140901, 20140902, 20140903,\n",
       "       20140904, 20140905, 20140909, 20140910, 20140911, 20140912,\n",
       "       20140915, 20140916, 20140917, 20140918, 20140919, 20140922,\n",
       "       20140923, 20140924, 20140925, 20140926, 20140929, 20140930])"
      ]
     },
     "execution_count": 39,
     "metadata": {},
     "output_type": "execute_result"
    }
   ],
   "source": [
    "target_dates"
   ]
  },
  {
   "cell_type": "code",
   "execution_count": 40,
   "metadata": {
    "collapsed": true
   },
   "outputs": [],
   "source": [
    "def find_FAST_mean(company): # For a given company, calculate mean of FLOAT_A_SHR_TODAY *close price (unadjusted) on trading days\n",
    "    FAST_product = [None]*len(target_dates)\n",
    "    \n",
    "    for i in range(len(target_dates)):\n",
    "        close_p = frames[company][frames[company]['TRADE_DT'] == target_dates[i]]['S_DQ_CLOSE'].values # get close price on a particular date\n",
    "        \n",
    "        # dataframe of the company\n",
    "        df_company = AShareEODDerivativeIndicator[AShareEODDerivativeIndicator['S_INFO_WINDCODE'] ==company]\n",
    "        FAST_day = float(df_company[df_company['TRADE_DT']==target_dates[i]]['FLOAT_A_SHR_TODAY']) #FLOAT_A_SHR_TODAY of a particular day\n",
    "        \n",
    "        FAST_product[i] = FAST_day*close_p\n",
    "        \n",
    "    FAST_mean = np.mean(FAST_product)\n",
    "    return FAST_mean"
   ]
  },
  {
   "cell_type": "code",
   "execution_count": 42,
   "metadata": {
    "collapsed": false
   },
   "outputs": [],
   "source": [
    "FAST_mean_list = [find_FAST_mean(company) for company in BEME_ratio_df_2014['WINDCODE']]"
   ]
  },
  {
   "cell_type": "code",
   "execution_count": 68,
   "metadata": {
    "collapsed": false
   },
   "outputs": [
    {
     "data": {
      "text/plain": [
       "[2475450.3060000003,\n",
       " 1214769.8451515154,\n",
       " 21731030.157131121,\n",
       " 1744583.1138873636,\n",
       " 52076357.141343422,\n",
       " 4217973.8803393338,\n",
       " 6026764.7918766821,\n",
       " 721940.02979349985,\n",
       " 5228155.3201833637,\n",
       " 4182176.1268759542]"
      ]
     },
     "execution_count": 68,
     "metadata": {},
     "output_type": "execute_result"
    }
   ],
   "source": [
    "FAST_mean_list[0:10]"
   ]
  },
  {
   "cell_type": "markdown",
   "metadata": {},
   "source": [
    "##### X3: FAST_mean_list"
   ]
  },
  {
   "cell_type": "code",
   "execution_count": 44,
   "metadata": {
    "collapsed": true
   },
   "outputs": [],
   "source": [
    "FAST_mean_df = pd.DataFrame({'Company':BEME_ratio_df_2014['WINDCODE'],'FAST_mean':FAST_mean_list})"
   ]
  },
  {
   "cell_type": "code",
   "execution_count": 67,
   "metadata": {
    "collapsed": false,
    "scrolled": true
   },
   "outputs": [
    {
     "data": {
      "text/html": [
       "<div>\n",
       "<table border=\"1\" class=\"dataframe\">\n",
       "  <thead>\n",
       "    <tr style=\"text-align: right;\">\n",
       "      <th></th>\n",
       "      <th>Company</th>\n",
       "      <th>FAST_mean</th>\n",
       "    </tr>\n",
       "  </thead>\n",
       "  <tbody>\n",
       "    <tr>\n",
       "      <th>0</th>\n",
       "      <td>002475.SZ</td>\n",
       "      <td>2.475450e+06</td>\n",
       "    </tr>\n",
       "    <tr>\n",
       "      <th>1</th>\n",
       "      <td>002470.SZ</td>\n",
       "      <td>1.214770e+06</td>\n",
       "    </tr>\n",
       "    <tr>\n",
       "      <th>2</th>\n",
       "      <td>600036.SH</td>\n",
       "      <td>2.173103e+07</td>\n",
       "    </tr>\n",
       "    <tr>\n",
       "      <th>3</th>\n",
       "      <td>002146.SZ</td>\n",
       "      <td>1.744583e+06</td>\n",
       "    </tr>\n",
       "    <tr>\n",
       "      <th>4</th>\n",
       "      <td>601988.SH</td>\n",
       "      <td>5.207636e+07</td>\n",
       "    </tr>\n",
       "    <tr>\n",
       "      <th>5</th>\n",
       "      <td>000895.SZ</td>\n",
       "      <td>4.217974e+06</td>\n",
       "    </tr>\n",
       "    <tr>\n",
       "      <th>6</th>\n",
       "      <td>600048.SH</td>\n",
       "      <td>6.026765e+06</td>\n",
       "    </tr>\n",
       "    <tr>\n",
       "      <th>7</th>\n",
       "      <td>000718.SZ</td>\n",
       "      <td>7.219400e+05</td>\n",
       "    </tr>\n",
       "    <tr>\n",
       "      <th>8</th>\n",
       "      <td>002304.SZ</td>\n",
       "      <td>5.228155e+06</td>\n",
       "    </tr>\n",
       "    <tr>\n",
       "      <th>9</th>\n",
       "      <td>600031.SH</td>\n",
       "      <td>4.182176e+06</td>\n",
       "    </tr>\n",
       "  </tbody>\n",
       "</table>\n",
       "</div>"
      ],
      "text/plain": [
       "     Company     FAST_mean\n",
       "0  002475.SZ  2.475450e+06\n",
       "1  002470.SZ  1.214770e+06\n",
       "2  600036.SH  2.173103e+07\n",
       "3  002146.SZ  1.744583e+06\n",
       "4  601988.SH  5.207636e+07\n",
       "5  000895.SZ  4.217974e+06\n",
       "6  600048.SH  6.026765e+06\n",
       "7  000718.SZ  7.219400e+05\n",
       "8  002304.SZ  5.228155e+06\n",
       "9  600031.SH  4.182176e+06"
      ]
     },
     "execution_count": 67,
     "metadata": {},
     "output_type": "execute_result"
    }
   ],
   "source": [
    "FAST_mean_df[0:10]"
   ]
  },
  {
   "cell_type": "code",
   "execution_count": 46,
   "metadata": {
    "collapsed": true
   },
   "outputs": [],
   "source": [
    "FAST_mean_df.to_csv(\"FAST_mean_df_2\") # save it as csv"
   ]
  },
  {
   "cell_type": "markdown",
   "metadata": {},
   "source": [
    "## Y : Current Quarter Return\n",
    "\n",
    "Duration: 20140930 - 20141231\n",
    "\n",
    "return = [SP(20141231) - SP(20140930)]/SP(20140930)\n",
    "\n",
    "sample pool: companies in BEME_ratio_df['WINDCODE']"
   ]
  },
  {
   "cell_type": "code",
   "execution_count": 47,
   "metadata": {
    "collapsed": true
   },
   "outputs": [],
   "source": [
    "# Obatin Close Price on starting and end dates for current qtr\n",
    "start_close_c = [None]*len(BEME_ratio_df_2014['WINDCODE'])\n",
    "end_close_c = [None]*len(BEME_ratio_df_2014['WINDCODE'])"
   ]
  },
  {
   "cell_type": "code",
   "execution_count": 48,
   "metadata": {
    "collapsed": true
   },
   "outputs": [],
   "source": [
    "# Dataframe start_close: start_close price for 268 companies\n",
    "\n",
    "for i in range(len(BEME_ratio_df_2014['WINDCODE'])):\n",
    "    company = BEME_ratio_df_2014['WINDCODE'][i]\n",
    "    start_close_c[i] =float(frames[company][frames[company]['TRADE_DT'] == 20140930]['S_DQ_ADJCLOSE'])\n",
    "    end_close_c[i] = float(frames[company][frames[company]['TRADE_DT'] ==20141231]['S_DQ_ADJCLOSE'])"
   ]
  },
  {
   "cell_type": "code",
   "execution_count": 49,
   "metadata": {
    "collapsed": true
   },
   "outputs": [],
   "source": [
    "# create an empty list to store return for individual company for current qtr\n",
    "com_qtr_return_CURRENT = [None]*len(BEME_ratio_df_2014['WINDCODE']) "
   ]
  },
  {
   "cell_type": "code",
   "execution_count": 50,
   "metadata": {
    "collapsed": true
   },
   "outputs": [],
   "source": [
    "# Calculate quarterly return\n",
    "for i in range(len(BEME_ratio_df_2014['WINDCODE'])):\n",
    "    com_qtr_return_CURRENT[i] = (end_close_c[i] - start_close_c[i])/start_close_c[i]"
   ]
  },
  {
   "cell_type": "code",
   "execution_count": 52,
   "metadata": {
    "collapsed": false
   },
   "outputs": [],
   "source": [
    "index_start_c = float(csi300_IndexData[csi300_IndexData['date'] == '2014-09-30']['last_price']) \n",
    "index_end_c = float(csi300_IndexData[csi300_IndexData['date'] == '2014-12-31']['last_price']) "
   ]
  },
  {
   "cell_type": "code",
   "execution_count": 53,
   "metadata": {
    "collapsed": true
   },
   "outputs": [],
   "source": [
    "index_qtr_return_CURRENT = (index_end_c - index_start_c)/index_start_c # calculate the index quarterly return"
   ]
  },
  {
   "cell_type": "code",
   "execution_count": 54,
   "metadata": {
    "collapsed": false
   },
   "outputs": [
    {
     "data": {
      "text/plain": [
       "0.4454066480680024"
      ]
     },
     "execution_count": 54,
     "metadata": {},
     "output_type": "execute_result"
    }
   ],
   "source": [
    "index_qtr_return_CURRENT"
   ]
  },
  {
   "cell_type": "code",
   "execution_count": 55,
   "metadata": {
    "collapsed": true
   },
   "outputs": [],
   "source": [
    "diff_return_com_csi300_CURRENT = [None]*len(BEME_ratio_df_2014['WINDCODE'])"
   ]
  },
  {
   "cell_type": "code",
   "execution_count": 56,
   "metadata": {
    "collapsed": true
   },
   "outputs": [],
   "source": [
    "for i in range(len(BEME_ratio_df_2014['WINDCODE'])):\n",
    "    diff_return_com_csi300_CURRENT[i] = com_qtr_return_CURRENT[i] - index_qtr_return_CURRENT"
   ]
  },
  {
   "cell_type": "code",
   "execution_count": 58,
   "metadata": {
    "collapsed": false
   },
   "outputs": [
    {
     "data": {
      "text/plain": [
       "[-0.6002058311857696,\n",
       " -0.3644727959279245,\n",
       " 0.1514835816836801,\n",
       " 0.04633763643665456,\n",
       " 0.08947707286223022,\n",
       " -0.5052767331450317,\n",
       " 0.504187015135372,\n",
       " -0.20842551599253065,\n",
       " -0.1932311585828681,\n",
       " 0.2605780685847933]"
      ]
     },
     "execution_count": 58,
     "metadata": {},
     "output_type": "execute_result"
    }
   ],
   "source": [
    "diff_return_com_csi300_CURRENT[0:10]"
   ]
  },
  {
   "cell_type": "markdown",
   "metadata": {},
   "source": [
    "##### Y: diff_return_com_csi300_CURRENT"
   ]
  },
  {
   "cell_type": "code",
   "execution_count": 59,
   "metadata": {
    "collapsed": true
   },
   "outputs": [],
   "source": [
    "# Model Prep\n",
    "Y = diff_return_com_csi300_CURRENT\n",
    "X_1 = norm_BEME_ratio_list\n",
    "X_2 = norm_diff_csi300_LAST\n",
    "X_3 = FAST_mean_list"
   ]
  },
  {
   "cell_type": "code",
   "execution_count": 60,
   "metadata": {
    "collapsed": true
   },
   "outputs": [],
   "source": [
    "X1_matrix = np.column_stack((X_1, X_2, X_3))"
   ]
  },
  {
   "cell_type": "code",
   "execution_count": 63,
   "metadata": {
    "collapsed": false
   },
   "outputs": [],
   "source": [
    "Y1_matrix = np.array(Y)[:,np.newaxis] # matrix Y1: 268*1"
   ]
  },
  {
   "cell_type": "code",
   "execution_count": 66,
   "metadata": {
    "collapsed": false
   },
   "outputs": [],
   "source": [
    "# save as csv\n",
    "pd.DataFrame(X1_matrix).to_csv(\"X1_test.csv\") \n",
    "pd.DataFrame(Y1_matrix).to_csv(\"Y1_test.csv\") "
   ]
  },
  {
   "cell_type": "code",
   "execution_count": null,
   "metadata": {
    "collapsed": true
   },
   "outputs": [],
   "source": []
  }
 ],
 "metadata": {
  "kernelspec": {
   "display_name": "Python [conda root]",
   "language": "python",
   "name": "conda-root-py"
  },
  "language_info": {
   "codemirror_mode": {
    "name": "ipython",
    "version": 2
   },
   "file_extension": ".py",
   "mimetype": "text/x-python",
   "name": "python",
   "nbconvert_exporter": "python",
   "pygments_lexer": "ipython2",
   "version": "2.7.12"
  }
 },
 "nbformat": 4,
 "nbformat_minor": 1
}
