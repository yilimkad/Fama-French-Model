{
 "cells": [
  {
   "cell_type": "code",
   "execution_count": 242,
   "metadata": {
    "collapsed": true
   },
   "outputs": [],
   "source": [
    "import pandas as pd\n",
    "import glob\n",
    "import os\n",
    "import numpy as np\n",
    "from sklearn import linear_model"
   ]
  },
  {
   "cell_type": "markdown",
   "metadata": {},
   "source": [
    "### 1. BE/ME Ratio in 2014\n",
    "The size breakpoint for year t is the median NYSE market equity at the end of June of year t. BE/ME for June of year t is the book equity for the last fiscal year end in t-1 divided by ME for December of t-1. "
   ]
  },
  {
   "cell_type": "code",
   "execution_count": 78,
   "metadata": {
    "collapsed": true
   },
   "outputs": [],
   "source": [
    "AShareEODDerivativeIndicator = pd.read_csv(\"/Users/yiliwang/Documents/ACR Internship/Supplementary datasets/EODDerivativeIndicator.csv\", header=0)"
   ]
  },
  {
   "cell_type": "markdown",
   "metadata": {},
   "source": [
    "#### Dataframe: Companies' ME on 20131231 (269 companies total)\n",
    "dataframe name: ME_df_20131231"
   ]
  },
  {
   "cell_type": "code",
   "execution_count": 79,
   "metadata": {
    "collapsed": true
   },
   "outputs": [],
   "source": [
    "ME_20131231_list = AShareEODDerivativeIndicator[AShareEODDerivativeIndicator['TRADE_DT'] == 20131231]['S_VAL_MV'] # 269 stocks available at 20121231"
   ]
  },
  {
   "cell_type": "code",
   "execution_count": 80,
   "metadata": {
    "collapsed": false
   },
   "outputs": [],
   "source": [
    "# name list\n",
    "ME_20131231_list = AShareEODDerivativeIndicator[AShareEODDerivativeIndicator['TRADE_DT'] == 20131231]['S_VAL_MV'] # 269 stocks available at 20121231"
   ]
  },
  {
   "cell_type": "code",
   "execution_count": 81,
   "metadata": {
    "collapsed": true
   },
   "outputs": [],
   "source": [
    "ME_df_20131231 = pd.DataFrame({'WINDCODE': S_INFO_WINDCODE_ME,'ME_20131231': ME_20131231_list})"
   ]
  },
  {
   "cell_type": "code",
   "execution_count": 82,
   "metadata": {
    "collapsed": false,
    "scrolled": true
   },
   "outputs": [],
   "source": [
    "#ME_df_20130630 = ME_df_20130630_0.set_index('WINDCODE') # set ticker as index\n",
    "#ME_df_20130630.index.name = None"
   ]
  },
  {
   "cell_type": "code",
   "execution_count": 83,
   "metadata": {
    "collapsed": false
   },
   "outputs": [
    {
     "data": {
      "text/html": [
       "<div>\n",
       "<table border=\"1\" class=\"dataframe\">\n",
       "  <thead>\n",
       "    <tr style=\"text-align: right;\">\n",
       "      <th></th>\n",
       "      <th>ME_20131231</th>\n",
       "      <th>WINDCODE</th>\n",
       "    </tr>\n",
       "  </thead>\n",
       "  <tbody>\n",
       "    <tr>\n",
       "      <th>1248357</th>\n",
       "      <td>1.381897e+06</td>\n",
       "      <td>002465.SZ</td>\n",
       "    </tr>\n",
       "    <tr>\n",
       "      <th>1248358</th>\n",
       "      <td>2.920860e+06</td>\n",
       "      <td>601118.SH</td>\n",
       "    </tr>\n",
       "    <tr>\n",
       "      <th>1248359</th>\n",
       "      <td>1.252566e+07</td>\n",
       "      <td>601633.SH</td>\n",
       "    </tr>\n",
       "    <tr>\n",
       "      <th>1248360</th>\n",
       "      <td>1.544400e+05</td>\n",
       "      <td>600233.SH</td>\n",
       "    </tr>\n",
       "    <tr>\n",
       "      <th>1248361</th>\n",
       "      <td>4.049025e+06</td>\n",
       "      <td>600795.SH</td>\n",
       "    </tr>\n",
       "    <tr>\n",
       "      <th>1248362</th>\n",
       "      <td>1.230963e+07</td>\n",
       "      <td>601818.SH</td>\n",
       "    </tr>\n",
       "    <tr>\n",
       "      <th>1248363</th>\n",
       "      <td>3.294435e+06</td>\n",
       "      <td>603993.SH</td>\n",
       "    </tr>\n",
       "    <tr>\n",
       "      <th>1248364</th>\n",
       "      <td>1.700103e+06</td>\n",
       "      <td>600827.SH</td>\n",
       "    </tr>\n",
       "    <tr>\n",
       "      <th>1248365</th>\n",
       "      <td>1.509987e+06</td>\n",
       "      <td>600060.SH</td>\n",
       "    </tr>\n",
       "    <tr>\n",
       "      <th>1248366</th>\n",
       "      <td>6.471064e+05</td>\n",
       "      <td>600816.SH</td>\n",
       "    </tr>\n",
       "  </tbody>\n",
       "</table>\n",
       "</div>"
      ],
      "text/plain": [
       "          ME_20131231   WINDCODE\n",
       "1248357  1.381897e+06  002465.SZ\n",
       "1248358  2.920860e+06  601118.SH\n",
       "1248359  1.252566e+07  601633.SH\n",
       "1248360  1.544400e+05  600233.SH\n",
       "1248361  4.049025e+06  600795.SH\n",
       "1248362  1.230963e+07  601818.SH\n",
       "1248363  3.294435e+06  603993.SH\n",
       "1248364  1.700103e+06  600827.SH\n",
       "1248365  1.509987e+06  600060.SH\n",
       "1248366  6.471064e+05  600816.SH"
      ]
     },
     "execution_count": 83,
     "metadata": {},
     "output_type": "execute_result"
    }
   ],
   "source": [
    "ME_df_20131231[:10] # preview the first 10 rows"
   ]
  },
  {
   "cell_type": "markdown",
   "metadata": {},
   "source": [
    "#### Dataframe: Companies' BE on 20130930 (276 companies total)\n",
    "dataframe name: BE_df_20130930"
   ]
  },
  {
   "cell_type": "code",
   "execution_count": 7,
   "metadata": {
    "collapsed": true
   },
   "outputs": [],
   "source": [
    "AShareBalanceSheet = pd.read_csv(\"/Users/yiliwang/Documents/ACR Internship/Supplementary datasets/BalanceSheet.csv\", header=0)"
   ]
  },
  {
   "cell_type": "code",
   "execution_count": 8,
   "metadata": {
    "collapsed": false
   },
   "outputs": [],
   "source": [
    "BE_20130930_df  = AShareBalanceSheet[AShareBalanceSheet['REPORT_PERIOD']==20130930]\n",
    "BE_20130930_T1 = BE_20130930_df[BE_20130930_df['STATEMENT_TYPE'] == 408001000] # 20120930 合并报表 BE, len = 274"
   ]
  },
  {
   "cell_type": "code",
   "execution_count": 9,
   "metadata": {
    "collapsed": false
   },
   "outputs": [],
   "source": [
    "WINDCODE_BE = BE_20130930_T1['S_INFO_WINDCODE']\n",
    "BE_20130930_list = BE_20130930_T1['TOT_SHRHLDR_EQY_INCL_MIN_INT']"
   ]
  },
  {
   "cell_type": "code",
   "execution_count": 10,
   "metadata": {
    "collapsed": false
   },
   "outputs": [],
   "source": [
    "BE_df_20130930 = pd.DataFrame({'WINDCODE': WINDCODE_BE,'BE_20130930': BE_20130930_list})"
   ]
  },
  {
   "cell_type": "code",
   "execution_count": 11,
   "metadata": {
    "collapsed": false,
    "scrolled": true
   },
   "outputs": [],
   "source": [
    "# Merge dataframes of ME and BE together\n",
    "BEME_ratio_df = BE_df_20130930.merge(ME_df_20131231, left_on='WINDCODE', right_on='WINDCODE', how='inner')"
   ]
  },
  {
   "cell_type": "markdown",
   "metadata": {},
   "source": [
    "#### BEME_ratio_df has 268 companies."
   ]
  },
  {
   "cell_type": "code",
   "execution_count": 12,
   "metadata": {
    "collapsed": false,
    "scrolled": true
   },
   "outputs": [],
   "source": [
    "# obtain BE/ME\n",
    "BEME_ratio = BEME_ratio_df['BE_20130930']/BEME_ratio_df['ME_20131231']"
   ]
  },
  {
   "cell_type": "code",
   "execution_count": 13,
   "metadata": {
    "collapsed": false
   },
   "outputs": [],
   "source": [
    "# Add BE/ME ratio as a new column to dataframe BEME_ratio_df\n",
    "se = pd.Series(BEME_ratio)\n",
    "BEME_ratio_df[\"BE_ME_ratio\"] = se.values"
   ]
  },
  {
   "cell_type": "code",
   "execution_count": 14,
   "metadata": {
    "collapsed": false,
    "scrolled": true
   },
   "outputs": [],
   "source": [
    "BEME_ratio_df = BEME_ratio_df[['WINDCODE', 'BE_20130930', 'ME_20131231', 'BE_ME_ratio']] # rearrange the order of columns"
   ]
  },
  {
   "cell_type": "code",
   "execution_count": 15,
   "metadata": {
    "collapsed": false,
    "scrolled": true
   },
   "outputs": [
    {
     "data": {
      "text/html": [
       "<div>\n",
       "<table border=\"1\" class=\"dataframe\">\n",
       "  <thead>\n",
       "    <tr style=\"text-align: right;\">\n",
       "      <th></th>\n",
       "      <th>WINDCODE</th>\n",
       "      <th>BE_20130930</th>\n",
       "      <th>ME_20131231</th>\n",
       "      <th>BE_ME_ratio</th>\n",
       "    </tr>\n",
       "  </thead>\n",
       "  <tbody>\n",
       "    <tr>\n",
       "      <th>0</th>\n",
       "      <td>002475.SZ</td>\n",
       "      <td>2.801723e+09</td>\n",
       "      <td>1.829645e+06</td>\n",
       "      <td>1531.293618</td>\n",
       "    </tr>\n",
       "    <tr>\n",
       "      <th>1</th>\n",
       "      <td>002470.SZ</td>\n",
       "      <td>4.129302e+09</td>\n",
       "      <td>1.491000e+06</td>\n",
       "      <td>2769.484781</td>\n",
       "    </tr>\n",
       "    <tr>\n",
       "      <th>2</th>\n",
       "      <td>600036.SH</td>\n",
       "      <td>2.572740e+11</td>\n",
       "      <td>2.746441e+07</td>\n",
       "      <td>9367.540849</td>\n",
       "    </tr>\n",
       "    <tr>\n",
       "      <th>3</th>\n",
       "      <td>002146.SZ</td>\n",
       "      <td>1.128011e+10</td>\n",
       "      <td>1.890841e+06</td>\n",
       "      <td>5965.655755</td>\n",
       "    </tr>\n",
       "    <tr>\n",
       "      <th>4</th>\n",
       "      <td>601988.SH</td>\n",
       "      <td>9.256610e+11</td>\n",
       "      <td>7.313690e+07</td>\n",
       "      <td>12656.551909</td>\n",
       "    </tr>\n",
       "    <tr>\n",
       "      <th>5</th>\n",
       "      <td>000895.SZ</td>\n",
       "      <td>1.411834e+10</td>\n",
       "      <td>1.036032e+07</td>\n",
       "      <td>1362.731890</td>\n",
       "    </tr>\n",
       "    <tr>\n",
       "      <th>6</th>\n",
       "      <td>600048.SH</td>\n",
       "      <td>6.049754e+10</td>\n",
       "      <td>5.888845e+06</td>\n",
       "      <td>10273.243188</td>\n",
       "    </tr>\n",
       "    <tr>\n",
       "      <th>7</th>\n",
       "      <td>000718.SZ</td>\n",
       "      <td>4.495358e+09</td>\n",
       "      <td>9.337390e+05</td>\n",
       "      <td>4814.362528</td>\n",
       "    </tr>\n",
       "    <tr>\n",
       "      <th>8</th>\n",
       "      <td>002304.SZ</td>\n",
       "      <td>1.699384e+10</td>\n",
       "      <td>4.408560e+06</td>\n",
       "      <td>3854.736103</td>\n",
       "    </tr>\n",
       "    <tr>\n",
       "      <th>9</th>\n",
       "      <td>600031.SH</td>\n",
       "      <td>2.530321e+10</td>\n",
       "      <td>4.889796e+06</td>\n",
       "      <td>5174.696881</td>\n",
       "    </tr>\n",
       "  </tbody>\n",
       "</table>\n",
       "</div>"
      ],
      "text/plain": [
       "    WINDCODE   BE_20130930   ME_20131231   BE_ME_ratio\n",
       "0  002475.SZ  2.801723e+09  1.829645e+06   1531.293618\n",
       "1  002470.SZ  4.129302e+09  1.491000e+06   2769.484781\n",
       "2  600036.SH  2.572740e+11  2.746441e+07   9367.540849\n",
       "3  002146.SZ  1.128011e+10  1.890841e+06   5965.655755\n",
       "4  601988.SH  9.256610e+11  7.313690e+07  12656.551909\n",
       "5  000895.SZ  1.411834e+10  1.036032e+07   1362.731890\n",
       "6  600048.SH  6.049754e+10  5.888845e+06  10273.243188\n",
       "7  000718.SZ  4.495358e+09  9.337390e+05   4814.362528\n",
       "8  002304.SZ  1.699384e+10  4.408560e+06   3854.736103\n",
       "9  600031.SH  2.530321e+10  4.889796e+06   5174.696881"
      ]
     },
     "execution_count": 15,
     "metadata": {},
     "output_type": "execute_result"
    }
   ],
   "source": [
    "BEME_ratio_df[:10] # preview the first 10 rowsc"
   ]
  },
  {
   "cell_type": "markdown",
   "metadata": {},
   "source": [
    "#### Normalize"
   ]
  },
  {
   "cell_type": "code",
   "execution_count": 16,
   "metadata": {
    "collapsed": false
   },
   "outputs": [],
   "source": [
    "def normalize_list(input_list):\n",
    "    empty_list = [None]*len(input_list)\n",
    "    for i in range(len(input_list)):\n",
    "        empty_list[i] = (input_list[i]-input_list.mean())/input_list.std()\n",
    "    return empty_list"
   ]
  },
  {
   "cell_type": "code",
   "execution_count": 17,
   "metadata": {
    "collapsed": false
   },
   "outputs": [],
   "source": [
    "norm_BEME_ratio = normalize_list(BEME_ratio_df['BE_ME_ratio'])"
   ]
  },
  {
   "cell_type": "code",
   "execution_count": 18,
   "metadata": {
    "collapsed": false
   },
   "outputs": [],
   "source": [
    "#for i in range(BEME_ratio_df.shape[0]):\n",
    "#    norm_BEME_ratio[i] = (BEME_ratio_df['BE_ME_ratio'][i]-BEME_ratio_df['BE_ME_ratio'].mean())/BEME_ratio_df['BE_ME_ratio'].std()"
   ]
  },
  {
   "cell_type": "code",
   "execution_count": 19,
   "metadata": {
    "collapsed": false
   },
   "outputs": [],
   "source": [
    "# Add norm_BEME_ratio as a new column to dataframe BEME_ratio_df\n",
    "se_norm = pd.Series(norm_BEME_ratio)\n",
    "BEME_ratio_df[\"norm_BEME_ratio\"] = se_norm.values"
   ]
  },
  {
   "cell_type": "code",
   "execution_count": 199,
   "metadata": {
    "collapsed": false
   },
   "outputs": [
    {
     "data": {
      "text/html": [
       "<div>\n",
       "<table border=\"1\" class=\"dataframe\">\n",
       "  <thead>\n",
       "    <tr style=\"text-align: right;\">\n",
       "      <th></th>\n",
       "      <th>WINDCODE</th>\n",
       "      <th>BE_20130930</th>\n",
       "      <th>ME_20131231</th>\n",
       "      <th>BE_ME_ratio</th>\n",
       "      <th>norm_BEME_ratio</th>\n",
       "    </tr>\n",
       "  </thead>\n",
       "  <tbody>\n",
       "    <tr>\n",
       "      <th>0</th>\n",
       "      <td>002475.SZ</td>\n",
       "      <td>2.801723e+09</td>\n",
       "      <td>1.829645e+06</td>\n",
       "      <td>1531.293618</td>\n",
       "      <td>-0.943715</td>\n",
       "    </tr>\n",
       "    <tr>\n",
       "      <th>1</th>\n",
       "      <td>002470.SZ</td>\n",
       "      <td>4.129302e+09</td>\n",
       "      <td>1.491000e+06</td>\n",
       "      <td>2769.484781</td>\n",
       "      <td>-0.663215</td>\n",
       "    </tr>\n",
       "    <tr>\n",
       "      <th>2</th>\n",
       "      <td>600036.SH</td>\n",
       "      <td>2.572740e+11</td>\n",
       "      <td>2.746441e+07</td>\n",
       "      <td>9367.540849</td>\n",
       "      <td>0.831511</td>\n",
       "    </tr>\n",
       "    <tr>\n",
       "      <th>3</th>\n",
       "      <td>002146.SZ</td>\n",
       "      <td>1.128011e+10</td>\n",
       "      <td>1.890841e+06</td>\n",
       "      <td>5965.655755</td>\n",
       "      <td>0.060847</td>\n",
       "    </tr>\n",
       "    <tr>\n",
       "      <th>4</th>\n",
       "      <td>601988.SH</td>\n",
       "      <td>9.256610e+11</td>\n",
       "      <td>7.313690e+07</td>\n",
       "      <td>12656.551909</td>\n",
       "      <td>1.576604</td>\n",
       "    </tr>\n",
       "    <tr>\n",
       "      <th>5</th>\n",
       "      <td>000895.SZ</td>\n",
       "      <td>1.411834e+10</td>\n",
       "      <td>1.036032e+07</td>\n",
       "      <td>1362.731890</td>\n",
       "      <td>-0.981901</td>\n",
       "    </tr>\n",
       "    <tr>\n",
       "      <th>6</th>\n",
       "      <td>600048.SH</td>\n",
       "      <td>6.049754e+10</td>\n",
       "      <td>5.888845e+06</td>\n",
       "      <td>10273.243188</td>\n",
       "      <td>1.036689</td>\n",
       "    </tr>\n",
       "    <tr>\n",
       "      <th>7</th>\n",
       "      <td>000718.SZ</td>\n",
       "      <td>4.495358e+09</td>\n",
       "      <td>9.337390e+05</td>\n",
       "      <td>4814.362528</td>\n",
       "      <td>-0.199968</td>\n",
       "    </tr>\n",
       "    <tr>\n",
       "      <th>8</th>\n",
       "      <td>002304.SZ</td>\n",
       "      <td>1.699384e+10</td>\n",
       "      <td>4.408560e+06</td>\n",
       "      <td>3854.736103</td>\n",
       "      <td>-0.417362</td>\n",
       "    </tr>\n",
       "    <tr>\n",
       "      <th>9</th>\n",
       "      <td>600031.SH</td>\n",
       "      <td>2.530321e+10</td>\n",
       "      <td>4.889796e+06</td>\n",
       "      <td>5174.696881</td>\n",
       "      <td>-0.118337</td>\n",
       "    </tr>\n",
       "  </tbody>\n",
       "</table>\n",
       "</div>"
      ],
      "text/plain": [
       "    WINDCODE   BE_20130930   ME_20131231   BE_ME_ratio  norm_BEME_ratio\n",
       "0  002475.SZ  2.801723e+09  1.829645e+06   1531.293618        -0.943715\n",
       "1  002470.SZ  4.129302e+09  1.491000e+06   2769.484781        -0.663215\n",
       "2  600036.SH  2.572740e+11  2.746441e+07   9367.540849         0.831511\n",
       "3  002146.SZ  1.128011e+10  1.890841e+06   5965.655755         0.060847\n",
       "4  601988.SH  9.256610e+11  7.313690e+07  12656.551909         1.576604\n",
       "5  000895.SZ  1.411834e+10  1.036032e+07   1362.731890        -0.981901\n",
       "6  600048.SH  6.049754e+10  5.888845e+06  10273.243188         1.036689\n",
       "7  000718.SZ  4.495358e+09  9.337390e+05   4814.362528        -0.199968\n",
       "8  002304.SZ  1.699384e+10  4.408560e+06   3854.736103        -0.417362\n",
       "9  600031.SH  2.530321e+10  4.889796e+06   5174.696881        -0.118337"
      ]
     },
     "execution_count": 199,
     "metadata": {},
     "output_type": "execute_result"
    }
   ],
   "source": [
    "BEME_ratio_df[0:10]"
   ]
  },
  {
   "cell_type": "code",
   "execution_count": 244,
   "metadata": {
    "collapsed": true
   },
   "outputs": [],
   "source": [
    "# Save df as csv for 2014 whole year use\n",
    "BEME_ratio_df.to_csv(\"BEME_ratio_df_2014.csv\")"
   ]
  },
  {
   "cell_type": "markdown",
   "metadata": {},
   "source": [
    "### 2. Last Quarter Return\n",
    "\n",
    "Duration: 20140331 - 20140630\n",
    "\n",
    "return = [SP(20140630) - SP(20140331)]/SP(20140331)\n",
    "\n",
    "sample pool: companies in BEME_ratio_df['WINDCODE']"
   ]
  },
  {
   "cell_type": "markdown",
   "metadata": {},
   "source": [
    "#### a) Last Quarterly Return for Individual Company"
   ]
  },
  {
   "cell_type": "code",
   "execution_count": 21,
   "metadata": {
    "collapsed": false,
    "scrolled": true
   },
   "outputs": [],
   "source": [
    "##### Load in all the files of Stock Price\n",
    "\n",
    "# set current working directory to the directory storing stock price data\n",
    "os.chdir('/Users/yiliwang/Documents/ACR Internship/data/')"
   ]
  },
  {
   "cell_type": "code",
   "execution_count": 28,
   "metadata": {
    "collapsed": true
   },
   "outputs": [],
   "source": [
    "files = [file for file in os.listdir( os.curdir ) if file.endswith(\".csv\")]"
   ]
  },
  {
   "cell_type": "code",
   "execution_count": 31,
   "metadata": {
    "collapsed": false
   },
   "outputs": [],
   "source": [
    "# Store files to dictionary using their own name\n",
    "frames = {}\n",
    "for each_file in files:\n",
    "    frames[os.path.splitext(each_file)[0]] = pd.read_csv(each_file)"
   ]
  },
  {
   "cell_type": "code",
   "execution_count": 32,
   "metadata": {
    "collapsed": false,
    "scrolled": true
   },
   "outputs": [
    {
     "data": {
      "text/html": [
       "<div>\n",
       "<table border=\"1\" class=\"dataframe\">\n",
       "  <thead>\n",
       "    <tr style=\"text-align: right;\">\n",
       "      <th></th>\n",
       "      <th>S_INFO_WINDCODE</th>\n",
       "      <th>TRADE_DT</th>\n",
       "      <th>S_DQ_OPEN</th>\n",
       "      <th>S_DQ_HIGH</th>\n",
       "      <th>S_DQ_LOW</th>\n",
       "      <th>S_DQ_CLOSE</th>\n",
       "      <th>S_DQ_VOLUME</th>\n",
       "      <th>S_DQ_ADJOPEN</th>\n",
       "      <th>S_DQ_ADJHIGH</th>\n",
       "      <th>S_DQ_ADJLOW</th>\n",
       "      <th>S_DQ_ADJCLOSE</th>\n",
       "      <th>S_DQ_ADJFACTOR</th>\n",
       "      <th>S_DQ_TRADESTATUS_ENG</th>\n",
       "    </tr>\n",
       "  </thead>\n",
       "  <tbody>\n",
       "    <tr>\n",
       "      <th>0</th>\n",
       "      <td>000002.SZ</td>\n",
       "      <td>20130104</td>\n",
       "      <td>10.12</td>\n",
       "      <td>10.12</td>\n",
       "      <td>10.12</td>\n",
       "      <td>10.12</td>\n",
       "      <td>0.0</td>\n",
       "      <td>1163.93</td>\n",
       "      <td>1163.93</td>\n",
       "      <td>1163.93</td>\n",
       "      <td>1163.93</td>\n",
       "      <td>115.012731</td>\n",
       "      <td>SUSPEND</td>\n",
       "    </tr>\n",
       "    <tr>\n",
       "      <th>1</th>\n",
       "      <td>000002.SZ</td>\n",
       "      <td>20130107</td>\n",
       "      <td>10.12</td>\n",
       "      <td>10.12</td>\n",
       "      <td>10.12</td>\n",
       "      <td>10.12</td>\n",
       "      <td>0.0</td>\n",
       "      <td>1163.93</td>\n",
       "      <td>1163.93</td>\n",
       "      <td>1163.93</td>\n",
       "      <td>1163.93</td>\n",
       "      <td>115.012731</td>\n",
       "      <td>SUSPEND</td>\n",
       "    </tr>\n",
       "    <tr>\n",
       "      <th>2</th>\n",
       "      <td>000002.SZ</td>\n",
       "      <td>20130108</td>\n",
       "      <td>10.12</td>\n",
       "      <td>10.12</td>\n",
       "      <td>10.12</td>\n",
       "      <td>10.12</td>\n",
       "      <td>0.0</td>\n",
       "      <td>1163.93</td>\n",
       "      <td>1163.93</td>\n",
       "      <td>1163.93</td>\n",
       "      <td>1163.93</td>\n",
       "      <td>115.012731</td>\n",
       "      <td>SUSPEND</td>\n",
       "    </tr>\n",
       "    <tr>\n",
       "      <th>3</th>\n",
       "      <td>000002.SZ</td>\n",
       "      <td>20130109</td>\n",
       "      <td>10.12</td>\n",
       "      <td>10.12</td>\n",
       "      <td>10.12</td>\n",
       "      <td>10.12</td>\n",
       "      <td>0.0</td>\n",
       "      <td>1163.93</td>\n",
       "      <td>1163.93</td>\n",
       "      <td>1163.93</td>\n",
       "      <td>1163.93</td>\n",
       "      <td>115.012731</td>\n",
       "      <td>SUSPEND</td>\n",
       "    </tr>\n",
       "    <tr>\n",
       "      <th>4</th>\n",
       "      <td>000002.SZ</td>\n",
       "      <td>20130110</td>\n",
       "      <td>10.12</td>\n",
       "      <td>10.12</td>\n",
       "      <td>10.12</td>\n",
       "      <td>10.12</td>\n",
       "      <td>0.0</td>\n",
       "      <td>1163.93</td>\n",
       "      <td>1163.93</td>\n",
       "      <td>1163.93</td>\n",
       "      <td>1163.93</td>\n",
       "      <td>115.012731</td>\n",
       "      <td>SUSPEND</td>\n",
       "    </tr>\n",
       "  </tbody>\n",
       "</table>\n",
       "</div>"
      ],
      "text/plain": [
       "  S_INFO_WINDCODE  TRADE_DT  S_DQ_OPEN  S_DQ_HIGH  S_DQ_LOW  S_DQ_CLOSE  \\\n",
       "0       000002.SZ  20130104      10.12      10.12     10.12       10.12   \n",
       "1       000002.SZ  20130107      10.12      10.12     10.12       10.12   \n",
       "2       000002.SZ  20130108      10.12      10.12     10.12       10.12   \n",
       "3       000002.SZ  20130109      10.12      10.12     10.12       10.12   \n",
       "4       000002.SZ  20130110      10.12      10.12     10.12       10.12   \n",
       "\n",
       "   S_DQ_VOLUME  S_DQ_ADJOPEN  S_DQ_ADJHIGH  S_DQ_ADJLOW  S_DQ_ADJCLOSE  \\\n",
       "0          0.0       1163.93       1163.93      1163.93        1163.93   \n",
       "1          0.0       1163.93       1163.93      1163.93        1163.93   \n",
       "2          0.0       1163.93       1163.93      1163.93        1163.93   \n",
       "3          0.0       1163.93       1163.93      1163.93        1163.93   \n",
       "4          0.0       1163.93       1163.93      1163.93        1163.93   \n",
       "\n",
       "   S_DQ_ADJFACTOR S_DQ_TRADESTATUS_ENG  \n",
       "0      115.012731              SUSPEND  \n",
       "1      115.012731              SUSPEND  \n",
       "2      115.012731              SUSPEND  \n",
       "3      115.012731              SUSPEND  \n",
       "4      115.012731              SUSPEND  "
      ]
     },
     "execution_count": 32,
     "metadata": {},
     "output_type": "execute_result"
    }
   ],
   "source": [
    "# For instance, call '000002.SZ' stock data:\n",
    "frames['000002.SZ'][:5]"
   ]
  },
  {
   "cell_type": "markdown",
   "metadata": {},
   "source": [
    "##### Extract Stock Price Data on Starting Day (20140331) and End Day (20140630)"
   ]
  },
  {
   "cell_type": "code",
   "execution_count": 33,
   "metadata": {
    "collapsed": true
   },
   "outputs": [],
   "source": [
    "# Obatin Close Price on 20140331 and 20140630\n",
    "start_close = [None]*len(BEME_ratio_df['WINDCODE'])\n",
    "end_close = [None]*len(BEME_ratio_df['WINDCODE'])"
   ]
  },
  {
   "cell_type": "code",
   "execution_count": 34,
   "metadata": {
    "collapsed": false
   },
   "outputs": [],
   "source": [
    "# Dataframe start_close: start_close price for 268 companies\n",
    "\n",
    "for i in range(len(BEME_ratio_df['WINDCODE'])):\n",
    "    company = BEME_ratio_df['WINDCODE'][i]\n",
    "    start_close[i] =float(frames[company][frames[company]['TRADE_DT'] == 20140331]['S_DQ_ADJCLOSE'])\n",
    "    end_close[i] = float(frames[company][frames[company]['TRADE_DT'] == 20140630]['S_DQ_ADJCLOSE'])"
   ]
  },
  {
   "cell_type": "code",
   "execution_count": 35,
   "metadata": {
    "collapsed": false,
    "scrolled": false
   },
   "outputs": [],
   "source": [
    "com_qtr_return = [None]*len(BEME_ratio_df['WINDCODE']) # create an empty list to store return for individual company"
   ]
  },
  {
   "cell_type": "code",
   "execution_count": 36,
   "metadata": {
    "collapsed": false
   },
   "outputs": [],
   "source": [
    "# Calculate quarterly return for 20140331 - 20140630\n",
    "for i in range(len(BEME_ratio_df['WINDCODE'])):\n",
    "    com_qtr_return[i] = (end_close[i] - start_close[i])/start_close[i]"
   ]
  },
  {
   "cell_type": "code",
   "execution_count": 248,
   "metadata": {
    "collapsed": false,
    "scrolled": true
   },
   "outputs": [],
   "source": [
    "# com_qtr_return"
   ]
  },
  {
   "cell_type": "code",
   "execution_count": 37,
   "metadata": {
    "collapsed": false
   },
   "outputs": [],
   "source": [
    "### Dataframe Summary: ###\n",
    "# start_close:  close price on 20140331\n",
    "# end_close: close price on 20140630\n",
    "# BEME_ratio_df['WINDCODE']: company name\n",
    "# com_qtr_return: quarterly return for the period 20140331- 20140630\n",
    "\n",
    "# 268 observations for each df"
   ]
  },
  {
   "cell_type": "markdown",
   "metadata": {},
   "source": [
    "#### b) Last Quarterly Return for CSI300 Index"
   ]
  },
  {
   "cell_type": "code",
   "execution_count": 38,
   "metadata": {
    "collapsed": true
   },
   "outputs": [],
   "source": [
    "csi300_IndexData= pd.read_csv(\"/Users/yiliwang/Documents/ACR Internship/csi_300_IndexData_daily_.csv\", header=0)"
   ]
  },
  {
   "cell_type": "code",
   "execution_count": 39,
   "metadata": {
    "collapsed": false
   },
   "outputs": [],
   "source": [
    "index_start = float(csi300_IndexData[csi300_IndexData['date'] == '2014-03-31']['last_price']) # index price on start day: 2014-03-31\n",
    "index_end = float(csi300_IndexData[csi300_IndexData['date'] == '2014-06-30']['last_price'])  # index price on end day: 2014-06-30"
   ]
  },
  {
   "cell_type": "code",
   "execution_count": 40,
   "metadata": {
    "collapsed": false
   },
   "outputs": [],
   "source": [
    "index_qtr_return = (index_end - index_start)/index_start # calculate the index quarterly return"
   ]
  },
  {
   "cell_type": "code",
   "execution_count": 41,
   "metadata": {
    "collapsed": false
   },
   "outputs": [
    {
     "name": "stdout",
     "output_type": "stream",
     "text": [
      "0.00649408125521\n"
     ]
    }
   ],
   "source": [
    "print index_qtr_return"
   ]
  },
  {
   "cell_type": "markdown",
   "metadata": {},
   "source": [
    "#### Difference = Company Return - Index Return \n",
    "Result List: diff_return_com_csi300"
   ]
  },
  {
   "cell_type": "code",
   "execution_count": 151,
   "metadata": {
    "collapsed": false
   },
   "outputs": [],
   "source": [
    "diff_return_com_csi300 = [None]*len(BEME_ratio_df['WINDCODE'])"
   ]
  },
  {
   "cell_type": "code",
   "execution_count": 152,
   "metadata": {
    "collapsed": true
   },
   "outputs": [],
   "source": [
    "for i in range(len(BEME_ratio_df['WINDCODE'])):\n",
    "    diff_return_com_csi300[i] = com_qtr_return[i] - index_qtr_return"
   ]
  },
  {
   "cell_type": "code",
   "execution_count": 153,
   "metadata": {
    "collapsed": false,
    "scrolled": true
   },
   "outputs": [
    {
     "data": {
      "text/plain": [
       "[0.272114614396962,\n",
       " 0.007316660432767689,\n",
       " 0.03609802744612069,\n",
       " -0.22416849985986306,\n",
       " 0.05455243037269514,\n",
       " -0.06049438720595377,\n",
       " 0.01095526878577652,\n",
       " 0.04480049617517414,\n",
       " 0.06460092679631796,\n",
       " -0.1000040580910715]"
      ]
     },
     "execution_count": 153,
     "metadata": {},
     "output_type": "execute_result"
    }
   ],
   "source": [
    "diff_return_com_csi300[0:10] # preview the head of the list"
   ]
  },
  {
   "cell_type": "code",
   "execution_count": 180,
   "metadata": {
    "collapsed": true
   },
   "outputs": [],
   "source": [
    "# combine all the lists of qtrly return into a large dataframe\n",
    "Weighted_Return = pd.DataFrame({'Company':BEME_ratio_df['WINDCODE'],'start_price': start_close,'end_price': end_close,'qtr_return':com_qtr_return,'diff_csi300_LAST':diff_return_com_csi300})"
   ]
  },
  {
   "cell_type": "code",
   "execution_count": 181,
   "metadata": {
    "collapsed": false
   },
   "outputs": [],
   "source": [
    "# Normalize\n",
    "norm_return_diff = normalize_list(Weighted_Return['diff_csi300_LAST'])"
   ]
  },
  {
   "cell_type": "code",
   "execution_count": 182,
   "metadata": {
    "collapsed": false
   },
   "outputs": [],
   "source": [
    "# Add a new column to dataframe BEME_ratio_df\n",
    "se_norm_diff = pd.Series(norm_return_diff)\n",
    "Weighted_Return[\"norm_return_diff_LAST\"] = se_norm_diff.values"
   ]
  },
  {
   "cell_type": "code",
   "execution_count": 203,
   "metadata": {
    "collapsed": false
   },
   "outputs": [
    {
     "data": {
      "text/html": [
       "<div>\n",
       "<table border=\"1\" class=\"dataframe\">\n",
       "  <thead>\n",
       "    <tr style=\"text-align: right;\">\n",
       "      <th></th>\n",
       "      <th>Company</th>\n",
       "      <th>diff_csi300_LAST</th>\n",
       "      <th>end_price</th>\n",
       "      <th>qtr_return</th>\n",
       "      <th>start_price</th>\n",
       "      <th>norm_return_diff_LAST</th>\n",
       "    </tr>\n",
       "  </thead>\n",
       "  <tbody>\n",
       "    <tr>\n",
       "      <th>0</th>\n",
       "      <td>002475.SZ</td>\n",
       "      <td>0.272115</td>\n",
       "      <td>147.04</td>\n",
       "      <td>0.278609</td>\n",
       "      <td>115.00</td>\n",
       "      <td>1.944860</td>\n",
       "    </tr>\n",
       "    <tr>\n",
       "      <th>1</th>\n",
       "      <td>002470.SZ</td>\n",
       "      <td>0.007317</td>\n",
       "      <td>19.82</td>\n",
       "      <td>0.013811</td>\n",
       "      <td>19.55</td>\n",
       "      <td>-0.229808</td>\n",
       "    </tr>\n",
       "    <tr>\n",
       "      <th>2</th>\n",
       "      <td>600036.SH</td>\n",
       "      <td>0.036098</td>\n",
       "      <td>39.90</td>\n",
       "      <td>0.042592</td>\n",
       "      <td>38.27</td>\n",
       "      <td>0.006560</td>\n",
       "    </tr>\n",
       "    <tr>\n",
       "      <th>3</th>\n",
       "      <td>002146.SZ</td>\n",
       "      <td>-0.224168</td>\n",
       "      <td>42.05</td>\n",
       "      <td>-0.217674</td>\n",
       "      <td>53.75</td>\n",
       "      <td>-2.130893</td>\n",
       "    </tr>\n",
       "    <tr>\n",
       "      <th>4</th>\n",
       "      <td>601988.SH</td>\n",
       "      <td>0.054552</td>\n",
       "      <td>3.65</td>\n",
       "      <td>0.061047</td>\n",
       "      <td>3.44</td>\n",
       "      <td>0.158118</td>\n",
       "    </tr>\n",
       "    <tr>\n",
       "      <th>5</th>\n",
       "      <td>000895.SZ</td>\n",
       "      <td>-0.060494</td>\n",
       "      <td>371.04</td>\n",
       "      <td>-0.054000</td>\n",
       "      <td>392.22</td>\n",
       "      <td>-0.786710</td>\n",
       "    </tr>\n",
       "    <tr>\n",
       "      <th>6</th>\n",
       "      <td>600048.SH</td>\n",
       "      <td>0.010955</td>\n",
       "      <td>86.88</td>\n",
       "      <td>0.017449</td>\n",
       "      <td>85.39</td>\n",
       "      <td>-0.199926</td>\n",
       "    </tr>\n",
       "    <tr>\n",
       "      <th>7</th>\n",
       "      <td>000718.SZ</td>\n",
       "      <td>0.044800</td>\n",
       "      <td>21.52</td>\n",
       "      <td>0.051295</td>\n",
       "      <td>20.47</td>\n",
       "      <td>0.078030</td>\n",
       "    </tr>\n",
       "    <tr>\n",
       "      <th>8</th>\n",
       "      <td>002304.SZ</td>\n",
       "      <td>0.064601</td>\n",
       "      <td>133.03</td>\n",
       "      <td>0.071095</td>\n",
       "      <td>124.20</td>\n",
       "      <td>0.240642</td>\n",
       "    </tr>\n",
       "    <tr>\n",
       "      <th>9</th>\n",
       "      <td>600031.SH</td>\n",
       "      <td>-0.100004</td>\n",
       "      <td>223.06</td>\n",
       "      <td>-0.093510</td>\n",
       "      <td>246.07</td>\n",
       "      <td>-1.111186</td>\n",
       "    </tr>\n",
       "  </tbody>\n",
       "</table>\n",
       "</div>"
      ],
      "text/plain": [
       "     Company  diff_csi300_LAST  end_price  qtr_return  start_price  \\\n",
       "0  002475.SZ          0.272115     147.04    0.278609       115.00   \n",
       "1  002470.SZ          0.007317      19.82    0.013811        19.55   \n",
       "2  600036.SH          0.036098      39.90    0.042592        38.27   \n",
       "3  002146.SZ         -0.224168      42.05   -0.217674        53.75   \n",
       "4  601988.SH          0.054552       3.65    0.061047         3.44   \n",
       "5  000895.SZ         -0.060494     371.04   -0.054000       392.22   \n",
       "6  600048.SH          0.010955      86.88    0.017449        85.39   \n",
       "7  000718.SZ          0.044800      21.52    0.051295        20.47   \n",
       "8  002304.SZ          0.064601     133.03    0.071095       124.20   \n",
       "9  600031.SH         -0.100004     223.06   -0.093510       246.07   \n",
       "\n",
       "   norm_return_diff_LAST  \n",
       "0               1.944860  \n",
       "1              -0.229808  \n",
       "2               0.006560  \n",
       "3              -2.130893  \n",
       "4               0.158118  \n",
       "5              -0.786710  \n",
       "6              -0.199926  \n",
       "7               0.078030  \n",
       "8               0.240642  \n",
       "9              -1.111186  "
      ]
     },
     "execution_count": 203,
     "metadata": {},
     "output_type": "execute_result"
    }
   ],
   "source": [
    "# Dataframe of Last Qtr Return of period 20140331-20140630\n",
    "Weighted_Return[0:10] # preview"
   ]
  },
  {
   "cell_type": "markdown",
   "metadata": {},
   "source": [
    "### 3. AShareEODDerivativeIndicator['FLOAT_A_SHR_TODAY']\n",
    "total free-float shares per day * unadjusted close price"
   ]
  },
  {
   "cell_type": "code",
   "execution_count": 49,
   "metadata": {
    "collapsed": false
   },
   "outputs": [],
   "source": [
    "# Extract trading dates of certain period \n",
    "dates_trade = frames['000001.SZ']['TRADE_DT'].unique()\n",
    "dates_trade.sort() # sort the date"
   ]
  },
  {
   "cell_type": "code",
   "execution_count": 50,
   "metadata": {
    "collapsed": false
   },
   "outputs": [],
   "source": [
    "start_dateind = list(dates_trade).index(20140331) # index of start date\n",
    "end_dateind = list(dates_trade).index(20140630) # index of end date"
   ]
  },
  {
   "cell_type": "code",
   "execution_count": 51,
   "metadata": {
    "collapsed": false
   },
   "outputs": [],
   "source": [
    "# target_dates: list of trading dates in that period\n",
    "target_dates = dates_trade[start_dateind:end_dateind+1]"
   ]
  },
  {
   "cell_type": "code",
   "execution_count": 52,
   "metadata": {
    "collapsed": false
   },
   "outputs": [
    {
     "data": {
      "text/plain": [
       "array([20140331, 20140401, 20140402, 20140403, 20140404, 20140408,\n",
       "       20140409, 20140410, 20140411, 20140414, 20140415, 20140416,\n",
       "       20140417, 20140418, 20140421, 20140422, 20140423, 20140424,\n",
       "       20140425, 20140428, 20140429, 20140430, 20140505, 20140506,\n",
       "       20140507, 20140508, 20140509, 20140512, 20140513, 20140514,\n",
       "       20140515, 20140516, 20140519, 20140520, 20140521, 20140522,\n",
       "       20140523, 20140526, 20140527, 20140528, 20140529, 20140530,\n",
       "       20140603, 20140604, 20140605, 20140606, 20140609, 20140610,\n",
       "       20140611, 20140612, 20140613, 20140616, 20140617, 20140618,\n",
       "       20140619, 20140620, 20140623, 20140624, 20140625, 20140626,\n",
       "       20140627, 20140630])"
      ]
     },
     "execution_count": 52,
     "metadata": {},
     "output_type": "execute_result"
    }
   ],
   "source": [
    "target_dates"
   ]
  },
  {
   "cell_type": "code",
   "execution_count": 72,
   "metadata": {
    "collapsed": false
   },
   "outputs": [],
   "source": [
    "def find_FAST_mean(company): # For a given company, calculate mean of FLOAT_A_SHR_TODAY *close price (unadjusted) on trading days\n",
    "    FAST_product = [None]*len(target_dates)\n",
    "    \n",
    "    for i in range(len(target_dates)):\n",
    "        close_p = frames[company][frames[company]['TRADE_DT'] == target_dates[i]]['S_DQ_CLOSE'].values # get close price on a particular date\n",
    "        \n",
    "        # dataframe of the company\n",
    "        df_company = AShareEODDerivativeIndicator[AShareEODDerivativeIndicator['S_INFO_WINDCODE'] ==company]\n",
    "        FAST_day = float(df_company[df_company['TRADE_DT']==target_dates[i]]['FLOAT_A_SHR_TODAY']) #FLOAT_A_SHR_TODAY of a particular day\n",
    "        \n",
    "        FAST_product[i] = FAST_day*close_p\n",
    "        \n",
    "    FAST_mean = np.mean(FAST_product)\n",
    "    return FAST_mean"
   ]
  },
  {
   "cell_type": "code",
   "execution_count": 73,
   "metadata": {
    "collapsed": false,
    "scrolled": true
   },
   "outputs": [
    {
     "data": {
      "text/plain": [
       "2246709.152032258"
      ]
     },
     "execution_count": 73,
     "metadata": {},
     "output_type": "execute_result"
    }
   ],
   "source": [
    "find_FAST_mean('002475.SZ')"
   ]
  },
  {
   "cell_type": "code",
   "execution_count": 110,
   "metadata": {
    "collapsed": false,
    "scrolled": true
   },
   "outputs": [],
   "source": [
    "FAST_mean_list = [find_FAST_mean(company) for company in BEME_ratio_df['WINDCODE']]"
   ]
  },
  {
   "cell_type": "code",
   "execution_count": 111,
   "metadata": {
    "collapsed": false
   },
   "outputs": [
    {
     "data": {
      "text/plain": [
       "[2246709.152032258,\n",
       " 1138794.980322581,\n",
       " 20782330.612576913,\n",
       " 1789176.1934540325,\n",
       " 52149533.012218677,\n",
       " 4429710.2093945807,\n",
       " 5402828.5449124845,\n",
       " 628312.33325143554,\n",
       " 4732042.4725486627,\n",
       " 4054059.2441080646,\n",
       " 4440218.2140538711,\n",
       " 1454241.3817566938,\n",
       " 578272.95251845161,\n",
       " 7099207.7478426127,\n",
       " 9915990.0283629056,\n",
       " 1286461.3830989518,\n",
       " 733026.71424193552,\n",
       " 2863631.5664516124,\n",
       " 2760891.9193548388,\n",
       " 1290618.4505063226,\n",
       " 3014246.0903225811,\n",
       " 1880686.1838709677,\n",
       " 454615.65179846768,\n",
       " 2002545.3501224995,\n",
       " 1873809.7865806455,\n",
       " 412306.91079662903,\n",
       " 5791029.881896209,\n",
       " 1879789.6515700649,\n",
       " 931317.80387464538,\n",
       " 1890192.8177419356,\n",
       " 1672865.1234375164,\n",
       " 140090.75766856453,\n",
       " 2746663.4261358702,\n",
       " 878198.60288351635,\n",
       " 8786958.2545161303,\n",
       " 2906991.2261910005,\n",
       " 1395012.9032258065,\n",
       " 3499522.908239516,\n",
       " 5432495.9432238089,\n",
       " 2196327.8661840647,\n",
       " 46682601.410197116,\n",
       " 1749015.1950836452,\n",
       " 5533167.6983899195,\n",
       " 3895052.0232538553,\n",
       " 3943909.6742990003,\n",
       " 69991310.554312691,\n",
       " 8842991.2409489676,\n",
       " 353045.52851806447,\n",
       " 628090.25117054826,\n",
       " 4629973.271975806,\n",
       " 486086.79764909676,\n",
       " 2243030.4185091131,\n",
       " 3165990.1310115489,\n",
       " 6654472.9101452902,\n",
       " 4406007.9809677424,\n",
       " 3574513.6739922576,\n",
       " 1386102.0622572582,\n",
       " 2101404.1785096778,\n",
       " 1791489.2054645803,\n",
       " 2910885.4975502258,\n",
       " 237325.79109995166,\n",
       " 2338705.294544613,\n",
       " 1475800.4992545485,\n",
       " 1720147.9687357266,\n",
       " 1984756.2887655646,\n",
       " 473228.59354838706,\n",
       " 1805856.0091108708,\n",
       " 28967881.273709673,\n",
       " 6711457.80371363,\n",
       " 500086.46008533868,\n",
       " 904406.78831627418,\n",
       " 2395288.218277419,\n",
       " 3869802.9527170011,\n",
       " 1861722.8158427423,\n",
       " 920965.35080645164,\n",
       " 2032759.9076937584,\n",
       " 156918.99332358062,\n",
       " 6444532.298590065,\n",
       " 2349389.1885531936,\n",
       " 3637067.3755800002,\n",
       " 2394457.2934621605,\n",
       " 204430.6281,\n",
       " 1044916.7384688386,\n",
       " 3435952.4004661925,\n",
       " 3714793.7500348394,\n",
       " 1960774.297937758,\n",
       " 869892.65182887111,\n",
       " 967049.43548387091,\n",
       " 1617524.3277130646,\n",
       " 2558378.3895769357,\n",
       " 1705543.7297498712,\n",
       " 1459097.6320161291,\n",
       " 499497.9428276128,\n",
       " 1430549.3147332901,\n",
       " 4144842.4789848379,\n",
       " 3645014.7293777424,\n",
       " 11196312.785767743,\n",
       " 7749942.2524135485,\n",
       " 268805.6451612903,\n",
       " 1179224.8566620967,\n",
       " 1971956.358889258,\n",
       " 91825.00119093548,\n",
       " 2356977.5531475325,\n",
       " 2542270.517271807,\n",
       " 1192640.9152137095,\n",
       " 352377.53000241949,\n",
       " 858163.98870967748,\n",
       " 912282.44979032245,\n",
       " 2985703.2258064514,\n",
       " 1472054.2318887096,\n",
       " 1184017.7715626452,\n",
       " 735810.27660483844,\n",
       " 1953329.9639708712,\n",
       " 1156321.1719460967,\n",
       " 468842.56240325805,\n",
       " 2107708.9082499999,\n",
       " 743385.60964632255,\n",
       " 3307529.6697256933,\n",
       " 1201348.504119484,\n",
       " 1777915.7897946774,\n",
       " 92856238.783448637,\n",
       " 1963387.3024503067,\n",
       " 967965.44851683883,\n",
       " 1401665.9661572583,\n",
       " 14460171.040908001,\n",
       " 537948.71006285481,\n",
       " 942519.01745783875,\n",
       " 16557396.985161291,\n",
       " 1070356.0571486454,\n",
       " 904354.90631241933,\n",
       " 4720478.7191216126,\n",
       " 5834360.7092206441,\n",
       " 3005502.4422870972,\n",
       " 293347.38136130647,\n",
       " 2323503.3368448387,\n",
       " 3730402.0887441928,\n",
       " 2794739.2103407583,\n",
       " 1019483.8095483871,\n",
       " 1133818.8062264354,\n",
       " 1570778.1039479356,\n",
       " 1699010.0,\n",
       " 3511565.2903301613,\n",
       " 239751.54474193553,\n",
       " 1973876.9854838708,\n",
       " 2045496.2790878708,\n",
       " 1050999.6352362421,\n",
       " 1994461.0634441611,\n",
       " 2749009.1935483869,\n",
       " 1590641.6290322584,\n",
       " 1734155.5819930325,\n",
       " 2558247.6834847578,\n",
       " 9971540.7121489532,\n",
       " 1698834.1793548388,\n",
       " 1906059.1496750321,\n",
       " 16085409.577950632,\n",
       " 1998969.7087103224,\n",
       " 4845664.3464225,\n",
       " 699940.0198321935,\n",
       " 1336878.0242961126,\n",
       " 2841248.8709677421,\n",
       " 6326537.8084959202,\n",
       " 275594.95914309676,\n",
       " 834979.30645161285,\n",
       " 1509686.3197252417,\n",
       " 416508.51534000004,\n",
       " 14374305.606519047,\n",
       " 122465.32258064517,\n",
       " 2173948.2827923871,\n",
       " 18937820.978562515,\n",
       " 1787446.2238036129,\n",
       " 1245475.071179871,\n",
       " 998601.94108877401,\n",
       " 1002094.0115628387,\n",
       " 13575924.893538225,\n",
       " 1027601.1163306453,\n",
       " 1779942.8612903226,\n",
       " 1164187.872969758,\n",
       " 1548491.3406244353,\n",
       " 6029371.1907418082,\n",
       " 308980.56435609673,\n",
       " 1230989.435483871,\n",
       " 3274330.3742307089,\n",
       " 517668.38709677418,\n",
       " 238254.07509677415,\n",
       " 177690.89864138712,\n",
       " 670077.34790722583,\n",
       " 354793.36955429037,\n",
       " 146828.25855645159,\n",
       " 2597117.7476606453,\n",
       " 962951.68949700007,\n",
       " 2880211.6129032257,\n",
       " 1096505.9533086289,\n",
       " 139675.19758064515,\n",
       " 224752.89999999999,\n",
       " 2141630.8724997421,\n",
       " 254786.22580645161,\n",
       " 892415.08677419357,\n",
       " 506760.34230887098,\n",
       " 2283801.6870322581,\n",
       " 2531526.0465371772,\n",
       " 7604906.5720170969,\n",
       " 6519948.9739127737,\n",
       " 167430.90885096771,\n",
       " 207793.19113548382,\n",
       " 2443355.670574645,\n",
       " 835895.42243433848,\n",
       " 1845263.3218687098,\n",
       " 1273855.4683727417,\n",
       " 2278488.5553032258,\n",
       " 1522141.1536828063,\n",
       " 346116.0638607096,\n",
       " 3083754.0130720963,\n",
       " 1680112.3782258064,\n",
       " 913145.56075301615,\n",
       " 1467576.8709926612,\n",
       " 274633.843677742,\n",
       " 1238554.4463911613,\n",
       " 23655595.992998067,\n",
       " 2454689.1175370961,\n",
       " 10356379.307324937,\n",
       " 1225654.6758477255,\n",
       " 2384126.0615847101,\n",
       " 2266226.0089677419,\n",
       " 3390843.9795624996,\n",
       " 17244713.449525084,\n",
       " 2300323.1905843383,\n",
       " 135355.42362774193,\n",
       " 2791007.6127223875,\n",
       " 2002126.3483870965,\n",
       " 12419416.52932558,\n",
       " 144438.87096774194,\n",
       " 1659700.3196801294,\n",
       " 817840.43161240325,\n",
       " 2047106.930646129,\n",
       " 5833073.4048473546,\n",
       " 1700589.0229274188,\n",
       " 2518493.1254584831,\n",
       " 1721533.0468711935,\n",
       " 707782.39095333871,\n",
       " 10527687.540322581,\n",
       " 659590.13058819366,\n",
       " 1308563.1620530004,\n",
       " 6483954.744534838,\n",
       " 1407236.1290322582,\n",
       " 1314705.7710199677,\n",
       " 1025382.3552822579,\n",
       " 122781332.97512315,\n",
       " 2686062.3370179678,\n",
       " 747703.11562088714,\n",
       " 1032974.4468266937,\n",
       " 1320018.6235987416,\n",
       " 4437727.6092709675,\n",
       " 947281.3794067743,\n",
       " 749433.05076270958,\n",
       " 3008683.4897989989,\n",
       " 2470539.3157548378,\n",
       " 1527733.7784249354,\n",
       " 1403908.5356302424,\n",
       " 475447.1451612903,\n",
       " 2977781.6020165151,\n",
       " 2256226.0852055484,\n",
       " 1586761.3864299355,\n",
       " 1662683.1375745158,\n",
       " 1399061.8898197417,\n",
       " 1427658.5052100646,\n",
       " 1505524.2733773228,\n",
       " 1853521.1973190005,\n",
       " 590775.40569193568]"
      ]
     },
     "execution_count": 111,
     "metadata": {},
     "output_type": "execute_result"
    }
   ],
   "source": [
    "FAST_mean_list # store 268 FAST means"
   ]
  },
  {
   "cell_type": "code",
   "execution_count": 117,
   "metadata": {
    "collapsed": false,
    "scrolled": true
   },
   "outputs": [],
   "source": [
    "FAST_mean_df = pd.DataFrame({'Company':BEME_ratio_df['WINDCODE'],'FAST_mean':FAST_mean_list})"
   ]
  },
  {
   "cell_type": "code",
   "execution_count": 206,
   "metadata": {
    "collapsed": false
   },
   "outputs": [
    {
     "data": {
      "text/html": [
       "<div>\n",
       "<table border=\"1\" class=\"dataframe\">\n",
       "  <thead>\n",
       "    <tr style=\"text-align: right;\">\n",
       "      <th></th>\n",
       "      <th>Company</th>\n",
       "      <th>FAST_mean</th>\n",
       "    </tr>\n",
       "  </thead>\n",
       "  <tbody>\n",
       "    <tr>\n",
       "      <th>0</th>\n",
       "      <td>002475.SZ</td>\n",
       "      <td>2.246709e+06</td>\n",
       "    </tr>\n",
       "    <tr>\n",
       "      <th>1</th>\n",
       "      <td>002470.SZ</td>\n",
       "      <td>1.138795e+06</td>\n",
       "    </tr>\n",
       "    <tr>\n",
       "      <th>2</th>\n",
       "      <td>600036.SH</td>\n",
       "      <td>2.078233e+07</td>\n",
       "    </tr>\n",
       "    <tr>\n",
       "      <th>3</th>\n",
       "      <td>002146.SZ</td>\n",
       "      <td>1.789176e+06</td>\n",
       "    </tr>\n",
       "    <tr>\n",
       "      <th>4</th>\n",
       "      <td>601988.SH</td>\n",
       "      <td>5.214953e+07</td>\n",
       "    </tr>\n",
       "    <tr>\n",
       "      <th>5</th>\n",
       "      <td>000895.SZ</td>\n",
       "      <td>4.429710e+06</td>\n",
       "    </tr>\n",
       "    <tr>\n",
       "      <th>6</th>\n",
       "      <td>600048.SH</td>\n",
       "      <td>5.402829e+06</td>\n",
       "    </tr>\n",
       "    <tr>\n",
       "      <th>7</th>\n",
       "      <td>000718.SZ</td>\n",
       "      <td>6.283123e+05</td>\n",
       "    </tr>\n",
       "    <tr>\n",
       "      <th>8</th>\n",
       "      <td>002304.SZ</td>\n",
       "      <td>4.732042e+06</td>\n",
       "    </tr>\n",
       "    <tr>\n",
       "      <th>9</th>\n",
       "      <td>600031.SH</td>\n",
       "      <td>4.054059e+06</td>\n",
       "    </tr>\n",
       "  </tbody>\n",
       "</table>\n",
       "</div>"
      ],
      "text/plain": [
       "     Company     FAST_mean\n",
       "0  002475.SZ  2.246709e+06\n",
       "1  002470.SZ  1.138795e+06\n",
       "2  600036.SH  2.078233e+07\n",
       "3  002146.SZ  1.789176e+06\n",
       "4  601988.SH  5.214953e+07\n",
       "5  000895.SZ  4.429710e+06\n",
       "6  600048.SH  5.402829e+06\n",
       "7  000718.SZ  6.283123e+05\n",
       "8  002304.SZ  4.732042e+06\n",
       "9  600031.SH  4.054059e+06"
      ]
     },
     "execution_count": 206,
     "metadata": {},
     "output_type": "execute_result"
    }
   ],
   "source": [
    "FAST_mean_df[0:10]"
   ]
  },
  {
   "cell_type": "code",
   "execution_count": 249,
   "metadata": {
    "collapsed": true
   },
   "outputs": [],
   "source": [
    "FAST_mean_df.to_csv(\"FAST_mean_df_1\")"
   ]
  },
  {
   "cell_type": "markdown",
   "metadata": {},
   "source": [
    "## Y : Current Quarter Return\n",
    "\n",
    "Duration: 20140630 - 20140930\n",
    "\n",
    "return = [SP(20140930) - SP(20140630)]/SP(20140630)\n",
    "\n",
    "sample pool: companies in BEME_ratio_df['WINDCODE']"
   ]
  },
  {
   "cell_type": "markdown",
   "metadata": {},
   "source": [
    "#### a) Current Quarterly Return for Individual Company"
   ]
  },
  {
   "cell_type": "markdown",
   "metadata": {},
   "source": [
    "##### Extract Stock Price Data on Starting Day (20140630) and End Day (20140930)"
   ]
  },
  {
   "cell_type": "code",
   "execution_count": 121,
   "metadata": {
    "collapsed": true
   },
   "outputs": [],
   "source": [
    "# Obatin Close Price on starting and end dates for current qtr\n",
    "start_close_c = [None]*len(BEME_ratio_df['WINDCODE'])\n",
    "end_close_c = [None]*len(BEME_ratio_df['WINDCODE'])"
   ]
  },
  {
   "cell_type": "code",
   "execution_count": 124,
   "metadata": {
    "collapsed": false
   },
   "outputs": [],
   "source": [
    "# Dataframe start_close: start_close price for 268 companies\n",
    "\n",
    "for i in range(len(BEME_ratio_df['WINDCODE'])):\n",
    "    company = BEME_ratio_df['WINDCODE'][i]\n",
    "    start_close_c[i] =float(frames[company][frames[company]['TRADE_DT'] == 20140630]['S_DQ_ADJCLOSE'])\n",
    "    end_close_c[i] = float(frames[company][frames[company]['TRADE_DT'] ==20140930]['S_DQ_ADJCLOSE'])"
   ]
  },
  {
   "cell_type": "code",
   "execution_count": 139,
   "metadata": {
    "collapsed": false
   },
   "outputs": [],
   "source": [
    "# create an empty list to store return for individual company for current qtr\n",
    "com_qtr_return_CURRENT = [None]*len(BEME_ratio_df['WINDCODE']) "
   ]
  },
  {
   "cell_type": "code",
   "execution_count": 140,
   "metadata": {
    "collapsed": true
   },
   "outputs": [],
   "source": [
    "# Calculate quarterly return for 20140331 - 20140630\n",
    "for i in range(len(BEME_ratio_df['WINDCODE'])):\n",
    "    com_qtr_return_CURRENT[i] = (end_close_c[i] - start_close_c[i])/start_close_c[i]"
   ]
  },
  {
   "cell_type": "code",
   "execution_count": 141,
   "metadata": {
    "collapsed": false
   },
   "outputs": [],
   "source": [
    "### Dataframe Summary: ### CURRENT QTR\n",
    "# start_close_c:  close price on 20140630\n",
    "# end_close_c: close price on 20140930\n",
    "# BEME_ratio_df['WINDCODE']: company name\n",
    "# com_qtr_return_CURRENT: quarterly return for the CURRENT period \n",
    "\n",
    "# 268 observations for each df\n",
    "### CAN BE ENCAPSULATED INTO FUNCTION ###"
   ]
  },
  {
   "cell_type": "markdown",
   "metadata": {},
   "source": [
    "#### b) CURRENT Quarterly Return for CSI300 Index"
   ]
  },
  {
   "cell_type": "code",
   "execution_count": 142,
   "metadata": {
    "collapsed": true
   },
   "outputs": [],
   "source": [
    "index_start_c = float(csi300_IndexData[csi300_IndexData['date'] == '2014-06-30']['last_price']) # index price on start day: 2014-03-31\n",
    "index_end_c = float(csi300_IndexData[csi300_IndexData['date'] == '2014-09-30']['last_price'])  # index price on end day: 2014-06-30"
   ]
  },
  {
   "cell_type": "code",
   "execution_count": 143,
   "metadata": {
    "collapsed": true
   },
   "outputs": [],
   "source": [
    "index_qtr_return_CURRENT = (index_end_c - index_start_c)/index_start_c # calculate the index quarterly return"
   ]
  },
  {
   "cell_type": "code",
   "execution_count": 144,
   "metadata": {
    "collapsed": false
   },
   "outputs": [
    {
     "data": {
      "text/plain": [
       "0.13150135847554495"
      ]
     },
     "execution_count": 144,
     "metadata": {},
     "output_type": "execute_result"
    }
   ],
   "source": [
    "index_qtr_return_CURRENT"
   ]
  },
  {
   "cell_type": "markdown",
   "metadata": {},
   "source": [
    "#### Difference = Company Return - Index Return \n",
    "Result List: diff_return_com_csi300_CURRENT"
   ]
  },
  {
   "cell_type": "code",
   "execution_count": 193,
   "metadata": {
    "collapsed": true
   },
   "outputs": [],
   "source": [
    "diff_return_com_csi300_CURRENT = [None]*len(BEME_ratio_df['WINDCODE'])"
   ]
  },
  {
   "cell_type": "code",
   "execution_count": 194,
   "metadata": {
    "collapsed": true
   },
   "outputs": [],
   "source": [
    "for i in range(len(BEME_ratio_df['WINDCODE'])):\n",
    "    diff_return_com_csi300_CURRENT[i] = com_qtr_return_CURRENT[i] - index_qtr_return_CURRENT"
   ]
  },
  {
   "cell_type": "markdown",
   "metadata": {},
   "source": [
    "##### Y: diff_return_com_csi300_CURRENT"
   ]
  },
  {
   "cell_type": "markdown",
   "metadata": {},
   "source": [
    "## Model Fit\n",
    "Train set:\n",
    "\n",
    "X1_matrix\n",
    "\n",
    "Y1_matrix"
   ]
  },
  {
   "cell_type": "code",
   "execution_count": 235,
   "metadata": {
    "collapsed": false
   },
   "outputs": [],
   "source": [
    "Y = diff_return_com_csi300_CURRENT\n",
    "X_1 = BEME_ratio_df['norm_BEME_ratio']\n",
    "X_2 = Weighted_Return['norm_return_diff_LAST']\n",
    "X_3 = FAST_mean_df['FAST_mean']"
   ]
  },
  {
   "cell_type": "code",
   "execution_count": 236,
   "metadata": {
    "collapsed": false
   },
   "outputs": [],
   "source": [
    "X1_matrix = np.column_stack((X_1, X_2, X_3)) # matrix X1: 268*3"
   ]
  },
  {
   "cell_type": "code",
   "execution_count": 237,
   "metadata": {
    "collapsed": false
   },
   "outputs": [],
   "source": [
    "Y1_matrix = np.array(Y)[:,np.newaxis] # matrix Y1: 268*1"
   ]
  },
  {
   "cell_type": "code",
   "execution_count": 238,
   "metadata": {
    "collapsed": false
   },
   "outputs": [
    {
     "data": {
      "text/plain": [
       "LinearRegression(copy_X=True, fit_intercept=True, n_jobs=1, normalize=False)"
      ]
     },
     "execution_count": 238,
     "metadata": {},
     "output_type": "execute_result"
    }
   ],
   "source": [
    "clf = linear_model.LinearRegression()\n",
    "clf.fit(X1_matrix,Y1_matrix)"
   ]
  },
  {
   "cell_type": "code",
   "execution_count": 243,
   "metadata": {
    "collapsed": false
   },
   "outputs": [
    {
     "data": {
      "text/plain": [
       "array([[  2.23332311e-02,  -9.58030630e-03,  -3.72901600e-09]])"
      ]
     },
     "execution_count": 243,
     "metadata": {},
     "output_type": "execute_result"
    }
   ],
   "source": [
    "# Model generated\n",
    "clf.coef_"
   ]
  },
  {
   "cell_type": "markdown",
   "metadata": {},
   "source": [
    "##### Testing Set: \n",
    "X1_test_arr\n",
    "\n",
    "Y1_test_arr"
   ]
  },
  {
   "cell_type": "code",
   "execution_count": 267,
   "metadata": {
    "collapsed": true
   },
   "outputs": [],
   "source": [
    "X1_test = pd.read_csv(\"/Users/yiliwang/Documents/ACR Internship/Intermediate Files/Test_Set/X1_test.csv\", header=0)\n",
    "Y1_test = pd.read_csv(\"/Users/yiliwang/Documents/ACR Internship/Intermediate Files/Test_Set/Y1_test.csv\", header=0)"
   ]
  },
  {
   "cell_type": "code",
   "execution_count": 275,
   "metadata": {
    "collapsed": false
   },
   "outputs": [],
   "source": [
    "# convert dataframes into arrays/matrix\n",
    "X1_test_arr = np.column_stack((list(X1_test['0']), list(X1_test['1']), list(X1_test['2'])))\n",
    "Y1_test_arr = np.array(list(Y1_test['0']))[:,np.newaxis] "
   ]
  },
  {
   "cell_type": "code",
   "execution_count": 278,
   "metadata": {
    "collapsed": false
   },
   "outputs": [
    {
     "data": {
      "text/plain": [
       "array([[-0.60020583],\n",
       "       [-0.3644728 ],\n",
       "       [ 0.15148358],\n",
       "       [ 0.04633764],\n",
       "       [ 0.08947707],\n",
       "       [-0.50527673],\n",
       "       [ 0.50418702],\n",
       "       [-0.20842552],\n",
       "       [-0.19323116],\n",
       "       [ 0.26057807]])"
      ]
     },
     "execution_count": 278,
     "metadata": {},
     "output_type": "execute_result"
    }
   ],
   "source": [
    "Y1_test_arr[0:10]"
   ]
  },
  {
   "cell_type": "code",
   "execution_count": 285,
   "metadata": {
    "collapsed": false
   },
   "outputs": [
    {
     "data": {
      "text/plain": [
       "-0.12276212462700831"
      ]
     },
     "execution_count": 285,
     "metadata": {},
     "output_type": "execute_result"
    }
   ],
   "source": [
    "# R^2\n",
    "clf.score(X1_test_arr, Y1_test_arr, sample_weight=None)"
   ]
  },
  {
   "cell_type": "code",
   "execution_count": null,
   "metadata": {
    "collapsed": true
   },
   "outputs": [],
   "source": []
  }
 ],
 "metadata": {
  "anaconda-cloud": {},
  "kernelspec": {
   "display_name": "Python [conda root]",
   "language": "python",
   "name": "conda-root-py"
  },
  "language_info": {
   "codemirror_mode": {
    "name": "ipython",
    "version": 2
   },
   "file_extension": ".py",
   "mimetype": "text/x-python",
   "name": "python",
   "nbconvert_exporter": "python",
   "pygments_lexer": "ipython2",
   "version": "2.7.12"
  }
 },
 "nbformat": 4,
 "nbformat_minor": 1
}
