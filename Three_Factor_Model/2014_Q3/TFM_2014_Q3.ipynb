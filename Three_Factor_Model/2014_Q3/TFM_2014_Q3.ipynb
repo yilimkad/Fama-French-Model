{
 "cells": [
  {
   "cell_type": "markdown",
   "metadata": {},
   "source": [
    "# Time Period: 20140630-20140930\n"
   ]
  },
  {
   "cell_type": "code",
   "execution_count": 1,
   "metadata": {
    "collapsed": true
   },
   "outputs": [],
   "source": [
    "import pandas as pd\n",
    "import glob\n",
    "import os\n",
    "import numpy as np\n",
    "from sklearn import linear_model\n",
    "import matplotlib.pyplot as plt\n",
    "%matplotlib inline"
   ]
  },
  {
   "cell_type": "markdown",
   "metadata": {},
   "source": [
    "### X1: BE/ME Ratio in 2014 (same throughout the year)"
   ]
  },
  {
   "cell_type": "code",
   "execution_count": 29,
   "metadata": {
    "collapsed": true
   },
   "outputs": [],
   "source": [
    "AShareEODDerivativeIndicator = pd.read_csv(\"/Users/yiliwang/Documents/ACR Internship/Supplementary datasets/EODDerivativeIndicator.csv\", header=0)"
   ]
  },
  {
   "cell_type": "code",
   "execution_count": 2,
   "metadata": {
    "collapsed": true
   },
   "outputs": [],
   "source": [
    "BEME_ratio_df_2014 = pd.read_csv(\"/Users/yiliwang/Documents/ACR Internship/Intermediate Files/BEME_ratio_df_2014.csv\", header=0)"
   ]
  },
  {
   "cell_type": "code",
   "execution_count": 3,
   "metadata": {
    "collapsed": true
   },
   "outputs": [],
   "source": [
    "norm_BEME_ratio_list = list(BEME_ratio_df_2014['norm_BEME_ratio'])# 268 companies available total"
   ]
  },
  {
   "cell_type": "markdown",
   "metadata": {},
   "source": [
    "### X2: Last Quarter Return: 2014 Q2\n",
    "\n",
    "Duration: 20140331 - 20140630\n",
    "\n",
    "return = [SP(20140630) - SP(20140331)]/SP(20140331)\n",
    "\n",
    "sample pool: companies in BEME_ratio_df['WINDCODE']"
   ]
  },
  {
   "cell_type": "markdown",
   "metadata": {},
   "source": [
    "#### a) Last Quarterly Return for Individual Company"
   ]
  },
  {
   "cell_type": "code",
   "execution_count": 4,
   "metadata": {
    "collapsed": true
   },
   "outputs": [],
   "source": [
    "##### Load in all the files of Stock Price\n",
    "\n",
    "# set current working directory to the directory storing stock price data\n",
    "os.chdir('/Users/yiliwang/Documents/ACR Internship/data/')"
   ]
  },
  {
   "cell_type": "code",
   "execution_count": 5,
   "metadata": {
    "collapsed": true
   },
   "outputs": [],
   "source": [
    "files = [file for file in os.listdir( os.curdir ) if file.endswith(\".csv\")]"
   ]
  },
  {
   "cell_type": "code",
   "execution_count": 6,
   "metadata": {
    "collapsed": true
   },
   "outputs": [],
   "source": [
    "# Store files to dictionary using their own name\n",
    "frames = {}\n",
    "for each_file in files:\n",
    "    frames[os.path.splitext(each_file)[0]] = pd.read_csv(each_file)"
   ]
  },
  {
   "cell_type": "markdown",
   "metadata": {},
   "source": [
    "##### Extract Stock Price Data on Starting Day and End Day"
   ]
  },
  {
   "cell_type": "code",
   "execution_count": 7,
   "metadata": {
    "collapsed": true
   },
   "outputs": [],
   "source": [
    "# Obatin Close Price\n",
    "start_close = [None]*len(BEME_ratio_df_2014['WINDCODE'])\n",
    "end_close = [None]*len(BEME_ratio_df_2014['WINDCODE'])"
   ]
  },
  {
   "cell_type": "code",
   "execution_count": 8,
   "metadata": {
    "collapsed": true
   },
   "outputs": [],
   "source": [
    "for i in range(len(BEME_ratio_df_2014['WINDCODE'])):\n",
    "    company = BEME_ratio_df_2014['WINDCODE'][i]\n",
    "    start_close[i] =float(frames[company][frames[company]['TRADE_DT'] == 20140331]['S_DQ_ADJCLOSE'])\n",
    "    end_close[i] = float(frames[company][frames[company]['TRADE_DT'] == 20140630]['S_DQ_ADJCLOSE'])"
   ]
  },
  {
   "cell_type": "code",
   "execution_count": 9,
   "metadata": {
    "collapsed": true
   },
   "outputs": [],
   "source": [
    "# create an empty list to store return for individual company\n",
    "com_qtr_return = [None]*len(BEME_ratio_df_2014['WINDCODE'])"
   ]
  },
  {
   "cell_type": "code",
   "execution_count": 10,
   "metadata": {
    "collapsed": true
   },
   "outputs": [],
   "source": [
    "# Calculate quarterly return\n",
    "for i in range(len(BEME_ratio_df_2014['WINDCODE'])):\n",
    "    com_qtr_return[i] = (end_close[i] - start_close[i])/start_close[i]"
   ]
  },
  {
   "cell_type": "markdown",
   "metadata": {},
   "source": [
    "#### b) Last Quarterly Return for CSI300 Index"
   ]
  },
  {
   "cell_type": "code",
   "execution_count": 11,
   "metadata": {
    "collapsed": true
   },
   "outputs": [],
   "source": [
    "csi300_IndexData= pd.read_csv(\"/Users/yiliwang/Documents/ACR Internship/csi_300_IndexData_daily_.csv\", header=0)"
   ]
  },
  {
   "cell_type": "code",
   "execution_count": 12,
   "metadata": {
    "collapsed": true
   },
   "outputs": [],
   "source": [
    "index_start = float(csi300_IndexData[csi300_IndexData['date'] == '2014-03-31']['last_price']) # index price on start day\n",
    "index_end = float(csi300_IndexData[csi300_IndexData['date'] == '2014-06-30']['last_price'])  # index price on end day"
   ]
  },
  {
   "cell_type": "code",
   "execution_count": 13,
   "metadata": {
    "collapsed": true
   },
   "outputs": [],
   "source": [
    "index_qtr_return = (index_end - index_start)/index_start # calculate the index quarterly return"
   ]
  },
  {
   "cell_type": "code",
   "execution_count": 14,
   "metadata": {
    "collapsed": false
   },
   "outputs": [
    {
     "name": "stdout",
     "output_type": "stream",
     "text": [
      "0.00649408125521\n"
     ]
    }
   ],
   "source": [
    "print index_qtr_return"
   ]
  },
  {
   "cell_type": "markdown",
   "metadata": {},
   "source": [
    "#### Difference = Company Return - Index Return \n",
    "Result List: norm_diff_csi300_LAST"
   ]
  },
  {
   "cell_type": "code",
   "execution_count": 15,
   "metadata": {
    "collapsed": true
   },
   "outputs": [],
   "source": [
    "diff_return_com_csi300 = [None]*len(BEME_ratio_df_2014['WINDCODE'])"
   ]
  },
  {
   "cell_type": "code",
   "execution_count": 16,
   "metadata": {
    "collapsed": true
   },
   "outputs": [],
   "source": [
    "for i in range(len(BEME_ratio_df_2014['WINDCODE'])):\n",
    "    diff_return_com_csi300[i] = com_qtr_return[i] - index_qtr_return"
   ]
  },
  {
   "cell_type": "code",
   "execution_count": 17,
   "metadata": {
    "collapsed": true
   },
   "outputs": [],
   "source": [
    "# convert into a dataframe\n",
    "Weighted_Return = pd.DataFrame({'Company':BEME_ratio_df_2014['WINDCODE'],'diff_csi300_LAST': diff_return_com_csi300})"
   ]
  },
  {
   "cell_type": "code",
   "execution_count": 18,
   "metadata": {
    "collapsed": true
   },
   "outputs": [],
   "source": [
    "# Normalize Function\n",
    "def normalize_list(input_list):\n",
    "    empty_list = [None]*len(input_list)\n",
    "    for i in range(len(input_list)):\n",
    "        empty_list[i] = (input_list[i]-input_list.mean())/input_list.std()\n",
    "    return empty_list"
   ]
  },
  {
   "cell_type": "code",
   "execution_count": 19,
   "metadata": {
    "collapsed": true
   },
   "outputs": [],
   "source": [
    "Weighted_Return['norm_diff_csi300_LAST'] = normalize_list(Weighted_Return['diff_csi300_LAST'])"
   ]
  },
  {
   "cell_type": "code",
   "execution_count": 20,
   "metadata": {
    "collapsed": true
   },
   "outputs": [],
   "source": [
    "Weighted_Return.to_csv(\"LAST_Weighted_Return_2014_Q3.csv\")"
   ]
  },
  {
   "cell_type": "markdown",
   "metadata": {},
   "source": [
    "###### X2: norm_diff_csi300_LAST"
   ]
  },
  {
   "cell_type": "markdown",
   "metadata": {},
   "source": [
    "### 3. AShareEODDerivativeIndicator['FLOAT_A_SHR_TODAY']\n",
    "total free-float shares per day * unadjusted close price"
   ]
  },
  {
   "cell_type": "code",
   "execution_count": 21,
   "metadata": {
    "collapsed": true
   },
   "outputs": [],
   "source": [
    "# Extract trading dates of certain period \n",
    "dates_trade = frames['000001.SZ']['TRADE_DT'].unique()\n",
    "dates_trade.sort() # sort the date"
   ]
  },
  {
   "cell_type": "code",
   "execution_count": 22,
   "metadata": {
    "collapsed": true
   },
   "outputs": [],
   "source": [
    "start_dateind = list(dates_trade).index(20140630) # index of start date\n",
    "end_dateind = list(dates_trade).index(20140930) # index of end date"
   ]
  },
  {
   "cell_type": "code",
   "execution_count": 23,
   "metadata": {
    "collapsed": true
   },
   "outputs": [],
   "source": [
    "# target_dates: list of trading dates in that period\n",
    "target_dates = dates_trade[start_dateind:end_dateind+1]"
   ]
  },
  {
   "cell_type": "code",
   "execution_count": 24,
   "metadata": {
    "collapsed": false
   },
   "outputs": [
    {
     "data": {
      "text/plain": [
       "array([20140630, 20140701, 20140702, 20140703, 20140704, 20140707,\n",
       "       20140708, 20140709, 20140710, 20140711, 20140714, 20140715,\n",
       "       20140716, 20140717, 20140718, 20140721, 20140722, 20140723,\n",
       "       20140724, 20140725, 20140728, 20140729, 20140730, 20140731,\n",
       "       20140801, 20140804, 20140805, 20140806, 20140807, 20140808,\n",
       "       20140811, 20140812, 20140813, 20140814, 20140815, 20140818,\n",
       "       20140819, 20140820, 20140821, 20140822, 20140825, 20140826,\n",
       "       20140827, 20140828, 20140829, 20140901, 20140902, 20140903,\n",
       "       20140904, 20140905, 20140909, 20140910, 20140911, 20140912,\n",
       "       20140915, 20140916, 20140917, 20140918, 20140919, 20140922,\n",
       "       20140923, 20140924, 20140925, 20140926, 20140929, 20140930])"
      ]
     },
     "execution_count": 24,
     "metadata": {},
     "output_type": "execute_result"
    }
   ],
   "source": [
    "target_dates"
   ]
  },
  {
   "cell_type": "code",
   "execution_count": 30,
   "metadata": {
    "collapsed": true
   },
   "outputs": [],
   "source": [
    "def find_FAST_mean(company): # For a given company, calculate mean of FLOAT_A_SHR_TODAY *close price (unadjusted) on trading days\n",
    "    FAST_product = [None]*len(target_dates)\n",
    "    \n",
    "    for i in range(len(target_dates)):\n",
    "        close_p = frames[company][frames[company]['TRADE_DT'] == target_dates[i]]['S_DQ_CLOSE'].values # get close price on a particular date\n",
    "        \n",
    "        # dataframe of the company\n",
    "        df_company = AShareEODDerivativeIndicator[AShareEODDerivativeIndicator['S_INFO_WINDCODE'] ==company]\n",
    "        FAST_day = float(df_company[df_company['TRADE_DT']==target_dates[i]]['FLOAT_A_SHR_TODAY']) #FLOAT_A_SHR_TODAY of a particular day\n",
    "        \n",
    "        FAST_product[i] = FAST_day*close_p\n",
    "        \n",
    "    FAST_mean = np.mean(FAST_product)\n",
    "    return FAST_mean"
   ]
  },
  {
   "cell_type": "code",
   "execution_count": 31,
   "metadata": {
    "collapsed": false
   },
   "outputs": [],
   "source": [
    "FAST_mean_list = [find_FAST_mean(company) for company in BEME_ratio_df_2014['WINDCODE']]"
   ]
  },
  {
   "cell_type": "code",
   "execution_count": 32,
   "metadata": {
    "collapsed": true
   },
   "outputs": [],
   "source": [
    "FAST_mean_df = pd.DataFrame({'Company':BEME_ratio_df_2014['WINDCODE'],'FAST_mean':FAST_mean_list})"
   ]
  },
  {
   "cell_type": "code",
   "execution_count": 33,
   "metadata": {
    "collapsed": true
   },
   "outputs": [],
   "source": [
    "FAST_mean_df['FAST_mean_norm'] = normalize_list(FAST_mean_df['FAST_mean'])"
   ]
  },
  {
   "cell_type": "code",
   "execution_count": 34,
   "metadata": {
    "collapsed": false,
    "scrolled": true
   },
   "outputs": [
    {
     "data": {
      "text/html": [
       "<div>\n",
       "<table border=\"1\" class=\"dataframe\">\n",
       "  <thead>\n",
       "    <tr style=\"text-align: right;\">\n",
       "      <th></th>\n",
       "      <th>Company</th>\n",
       "      <th>FAST_mean</th>\n",
       "      <th>FAST_mean_norm</th>\n",
       "    </tr>\n",
       "  </thead>\n",
       "  <tbody>\n",
       "    <tr>\n",
       "      <th>0</th>\n",
       "      <td>002475.SZ</td>\n",
       "      <td>2.475450e+06</td>\n",
       "      <td>-0.178524</td>\n",
       "    </tr>\n",
       "    <tr>\n",
       "      <th>1</th>\n",
       "      <td>002470.SZ</td>\n",
       "      <td>1.214770e+06</td>\n",
       "      <td>-0.287127</td>\n",
       "    </tr>\n",
       "    <tr>\n",
       "      <th>2</th>\n",
       "      <td>600036.SH</td>\n",
       "      <td>2.173103e+07</td>\n",
       "      <td>1.480268</td>\n",
       "    </tr>\n",
       "    <tr>\n",
       "      <th>3</th>\n",
       "      <td>002146.SZ</td>\n",
       "      <td>1.744583e+06</td>\n",
       "      <td>-0.241485</td>\n",
       "    </tr>\n",
       "    <tr>\n",
       "      <th>4</th>\n",
       "      <td>601988.SH</td>\n",
       "      <td>5.207636e+07</td>\n",
       "      <td>4.094398</td>\n",
       "    </tr>\n",
       "    <tr>\n",
       "      <th>5</th>\n",
       "      <td>000895.SZ</td>\n",
       "      <td>4.217974e+06</td>\n",
       "      <td>-0.028412</td>\n",
       "    </tr>\n",
       "    <tr>\n",
       "      <th>6</th>\n",
       "      <td>600048.SH</td>\n",
       "      <td>6.026765e+06</td>\n",
       "      <td>0.127408</td>\n",
       "    </tr>\n",
       "    <tr>\n",
       "      <th>7</th>\n",
       "      <td>000718.SZ</td>\n",
       "      <td>7.219400e+05</td>\n",
       "      <td>-0.329582</td>\n",
       "    </tr>\n",
       "    <tr>\n",
       "      <th>8</th>\n",
       "      <td>002304.SZ</td>\n",
       "      <td>5.228155e+06</td>\n",
       "      <td>0.058611</td>\n",
       "    </tr>\n",
       "    <tr>\n",
       "      <th>9</th>\n",
       "      <td>600031.SH</td>\n",
       "      <td>4.182176e+06</td>\n",
       "      <td>-0.031496</td>\n",
       "    </tr>\n",
       "    <tr>\n",
       "      <th>10</th>\n",
       "      <td>601688.SH</td>\n",
       "      <td>4.687958e+06</td>\n",
       "      <td>0.012075</td>\n",
       "    </tr>\n",
       "    <tr>\n",
       "      <th>11</th>\n",
       "      <td>002230.SZ</td>\n",
       "      <td>1.550519e+06</td>\n",
       "      <td>-0.258203</td>\n",
       "    </tr>\n",
       "    <tr>\n",
       "      <th>12</th>\n",
       "      <td>000750.SZ</td>\n",
       "      <td>1.337575e+06</td>\n",
       "      <td>-0.276548</td>\n",
       "    </tr>\n",
       "    <tr>\n",
       "      <th>13</th>\n",
       "      <td>601989.SH</td>\n",
       "      <td>8.092874e+06</td>\n",
       "      <td>0.305395</td>\n",
       "    </tr>\n",
       "    <tr>\n",
       "      <th>14</th>\n",
       "      <td>601818.SH</td>\n",
       "      <td>1.054492e+07</td>\n",
       "      <td>0.516629</td>\n",
       "    </tr>\n",
       "    <tr>\n",
       "      <th>15</th>\n",
       "      <td>000009.SZ</td>\n",
       "      <td>1.593604e+06</td>\n",
       "      <td>-0.254492</td>\n",
       "    </tr>\n",
       "    <tr>\n",
       "      <th>16</th>\n",
       "      <td>600446.SH</td>\n",
       "      <td>8.743447e+05</td>\n",
       "      <td>-0.316453</td>\n",
       "    </tr>\n",
       "    <tr>\n",
       "      <th>17</th>\n",
       "      <td>600583.SH</td>\n",
       "      <td>3.006242e+06</td>\n",
       "      <td>-0.132798</td>\n",
       "    </tr>\n",
       "    <tr>\n",
       "      <th>18</th>\n",
       "      <td>601618.SH</td>\n",
       "      <td>3.162422e+06</td>\n",
       "      <td>-0.119344</td>\n",
       "    </tr>\n",
       "    <tr>\n",
       "      <th>19</th>\n",
       "      <td>000876.SZ</td>\n",
       "      <td>1.456682e+06</td>\n",
       "      <td>-0.266287</td>\n",
       "    </tr>\n",
       "    <tr>\n",
       "      <th>20</th>\n",
       "      <td>002252.SZ</td>\n",
       "      <td>3.146466e+06</td>\n",
       "      <td>-0.120719</td>\n",
       "    </tr>\n",
       "    <tr>\n",
       "      <th>21</th>\n",
       "      <td>601933.SH</td>\n",
       "      <td>2.268749e+06</td>\n",
       "      <td>-0.196331</td>\n",
       "    </tr>\n",
       "    <tr>\n",
       "      <th>22</th>\n",
       "      <td>002049.SZ</td>\n",
       "      <td>5.679853e+05</td>\n",
       "      <td>-0.342845</td>\n",
       "    </tr>\n",
       "    <tr>\n",
       "      <th>23</th>\n",
       "      <td>600118.SH</td>\n",
       "      <td>2.426934e+06</td>\n",
       "      <td>-0.182704</td>\n",
       "    </tr>\n",
       "    <tr>\n",
       "      <th>24</th>\n",
       "      <td>300027.SZ</td>\n",
       "      <td>1.920654e+06</td>\n",
       "      <td>-0.226317</td>\n",
       "    </tr>\n",
       "    <tr>\n",
       "      <th>25</th>\n",
       "      <td>600606.SH</td>\n",
       "      <td>4.313287e+05</td>\n",
       "      <td>-0.354617</td>\n",
       "    </tr>\n",
       "    <tr>\n",
       "      <th>26</th>\n",
       "      <td>601169.SH</td>\n",
       "      <td>6.514528e+06</td>\n",
       "      <td>0.169427</td>\n",
       "    </tr>\n",
       "    <tr>\n",
       "      <th>27</th>\n",
       "      <td>600804.SH</td>\n",
       "      <td>2.066729e+06</td>\n",
       "      <td>-0.213734</td>\n",
       "    </tr>\n",
       "    <tr>\n",
       "      <th>28</th>\n",
       "      <td>300168.SZ</td>\n",
       "      <td>9.733323e+05</td>\n",
       "      <td>-0.307926</td>\n",
       "    </tr>\n",
       "    <tr>\n",
       "      <th>29</th>\n",
       "      <td>000728.SZ</td>\n",
       "      <td>2.293355e+06</td>\n",
       "      <td>-0.194211</td>\n",
       "    </tr>\n",
       "    <tr>\n",
       "      <th>...</th>\n",
       "      <td>...</td>\n",
       "      <td>...</td>\n",
       "      <td>...</td>\n",
       "    </tr>\n",
       "    <tr>\n",
       "      <th>238</th>\n",
       "      <td>002183.SZ</td>\n",
       "      <td>9.408541e+05</td>\n",
       "      <td>-0.310723</td>\n",
       "    </tr>\n",
       "    <tr>\n",
       "      <th>239</th>\n",
       "      <td>601601.SH</td>\n",
       "      <td>1.210361e+07</td>\n",
       "      <td>0.650904</td>\n",
       "    </tr>\n",
       "    <tr>\n",
       "      <th>240</th>\n",
       "      <td>600816.SH</td>\n",
       "      <td>7.879314e+05</td>\n",
       "      <td>-0.323897</td>\n",
       "    </tr>\n",
       "    <tr>\n",
       "      <th>241</th>\n",
       "      <td>000630.SZ</td>\n",
       "      <td>1.471054e+06</td>\n",
       "      <td>-0.265049</td>\n",
       "    </tr>\n",
       "    <tr>\n",
       "      <th>242</th>\n",
       "      <td>600019.SH</td>\n",
       "      <td>7.163225e+06</td>\n",
       "      <td>0.225309</td>\n",
       "    </tr>\n",
       "    <tr>\n",
       "      <th>243</th>\n",
       "      <td>601216.SH</td>\n",
       "      <td>1.575699e+06</td>\n",
       "      <td>-0.256034</td>\n",
       "    </tr>\n",
       "    <tr>\n",
       "      <th>244</th>\n",
       "      <td>002152.SZ</td>\n",
       "      <td>1.564541e+06</td>\n",
       "      <td>-0.256995</td>\n",
       "    </tr>\n",
       "    <tr>\n",
       "      <th>245</th>\n",
       "      <td>600895.SH</td>\n",
       "      <td>1.111912e+06</td>\n",
       "      <td>-0.295987</td>\n",
       "    </tr>\n",
       "    <tr>\n",
       "      <th>246</th>\n",
       "      <td>601857.SH</td>\n",
       "      <td>1.266574e+08</td>\n",
       "      <td>10.519261</td>\n",
       "    </tr>\n",
       "    <tr>\n",
       "      <th>247</th>\n",
       "      <td>600150.SH</td>\n",
       "      <td>3.481835e+06</td>\n",
       "      <td>-0.091828</td>\n",
       "    </tr>\n",
       "    <tr>\n",
       "      <th>248</th>\n",
       "      <td>002153.SZ</td>\n",
       "      <td>8.957940e+05</td>\n",
       "      <td>-0.314605</td>\n",
       "    </tr>\n",
       "    <tr>\n",
       "      <th>249</th>\n",
       "      <td>000839.SZ</td>\n",
       "      <td>1.277501e+06</td>\n",
       "      <td>-0.281723</td>\n",
       "    </tr>\n",
       "    <tr>\n",
       "      <th>250</th>\n",
       "      <td>000963.SZ</td>\n",
       "      <td>1.580023e+06</td>\n",
       "      <td>-0.255662</td>\n",
       "    </tr>\n",
       "    <tr>\n",
       "      <th>251</th>\n",
       "      <td>601766.SH</td>\n",
       "      <td>5.189114e+06</td>\n",
       "      <td>0.055247</td>\n",
       "    </tr>\n",
       "    <tr>\n",
       "      <th>252</th>\n",
       "      <td>000709.SZ</td>\n",
       "      <td>1.046022e+06</td>\n",
       "      <td>-0.301664</td>\n",
       "    </tr>\n",
       "    <tr>\n",
       "      <th>253</th>\n",
       "      <td>600685.SH</td>\n",
       "      <td>7.510879e+05</td>\n",
       "      <td>-0.327071</td>\n",
       "    </tr>\n",
       "    <tr>\n",
       "      <th>254</th>\n",
       "      <td>600406.SH</td>\n",
       "      <td>3.315548e+06</td>\n",
       "      <td>-0.106153</td>\n",
       "    </tr>\n",
       "    <tr>\n",
       "      <th>255</th>\n",
       "      <td>600741.SH</td>\n",
       "      <td>2.971306e+06</td>\n",
       "      <td>-0.135808</td>\n",
       "    </tr>\n",
       "    <tr>\n",
       "      <th>256</th>\n",
       "      <td>002008.SZ</td>\n",
       "      <td>1.738400e+06</td>\n",
       "      <td>-0.242018</td>\n",
       "    </tr>\n",
       "    <tr>\n",
       "      <th>257</th>\n",
       "      <td>600373.SH</td>\n",
       "      <td>1.731382e+06</td>\n",
       "      <td>-0.242623</td>\n",
       "    </tr>\n",
       "    <tr>\n",
       "      <th>258</th>\n",
       "      <td>600482.SH</td>\n",
       "      <td>5.880893e+05</td>\n",
       "      <td>-0.341113</td>\n",
       "    </tr>\n",
       "    <tr>\n",
       "      <th>259</th>\n",
       "      <td>600010.SH</td>\n",
       "      <td>3.569623e+06</td>\n",
       "      <td>-0.084265</td>\n",
       "    </tr>\n",
       "    <tr>\n",
       "      <th>260</th>\n",
       "      <td>601336.SH</td>\n",
       "      <td>2.608276e+06</td>\n",
       "      <td>-0.167082</td>\n",
       "    </tr>\n",
       "    <tr>\n",
       "      <th>261</th>\n",
       "      <td>002456.SZ</td>\n",
       "      <td>1.663411e+06</td>\n",
       "      <td>-0.248478</td>\n",
       "    </tr>\n",
       "    <tr>\n",
       "      <th>262</th>\n",
       "      <td>600570.SH</td>\n",
       "      <td>1.946339e+06</td>\n",
       "      <td>-0.224105</td>\n",
       "    </tr>\n",
       "    <tr>\n",
       "      <th>263</th>\n",
       "      <td>600060.SH</td>\n",
       "      <td>1.359651e+06</td>\n",
       "      <td>-0.274646</td>\n",
       "    </tr>\n",
       "    <tr>\n",
       "      <th>264</th>\n",
       "      <td>600415.SH</td>\n",
       "      <td>1.534986e+06</td>\n",
       "      <td>-0.259541</td>\n",
       "    </tr>\n",
       "    <tr>\n",
       "      <th>265</th>\n",
       "      <td>300024.SZ</td>\n",
       "      <td>1.961242e+06</td>\n",
       "      <td>-0.222821</td>\n",
       "    </tr>\n",
       "    <tr>\n",
       "      <th>266</th>\n",
       "      <td>600208.SH</td>\n",
       "      <td>2.249543e+06</td>\n",
       "      <td>-0.197985</td>\n",
       "    </tr>\n",
       "    <tr>\n",
       "      <th>267</th>\n",
       "      <td>300251.SZ</td>\n",
       "      <td>8.878494e+05</td>\n",
       "      <td>-0.315290</td>\n",
       "    </tr>\n",
       "  </tbody>\n",
       "</table>\n",
       "<p>268 rows × 3 columns</p>\n",
       "</div>"
      ],
      "text/plain": [
       "       Company     FAST_mean  FAST_mean_norm\n",
       "0    002475.SZ  2.475450e+06       -0.178524\n",
       "1    002470.SZ  1.214770e+06       -0.287127\n",
       "2    600036.SH  2.173103e+07        1.480268\n",
       "3    002146.SZ  1.744583e+06       -0.241485\n",
       "4    601988.SH  5.207636e+07        4.094398\n",
       "5    000895.SZ  4.217974e+06       -0.028412\n",
       "6    600048.SH  6.026765e+06        0.127408\n",
       "7    000718.SZ  7.219400e+05       -0.329582\n",
       "8    002304.SZ  5.228155e+06        0.058611\n",
       "9    600031.SH  4.182176e+06       -0.031496\n",
       "10   601688.SH  4.687958e+06        0.012075\n",
       "11   002230.SZ  1.550519e+06       -0.258203\n",
       "12   000750.SZ  1.337575e+06       -0.276548\n",
       "13   601989.SH  8.092874e+06        0.305395\n",
       "14   601818.SH  1.054492e+07        0.516629\n",
       "15   000009.SZ  1.593604e+06       -0.254492\n",
       "16   600446.SH  8.743447e+05       -0.316453\n",
       "17   600583.SH  3.006242e+06       -0.132798\n",
       "18   601618.SH  3.162422e+06       -0.119344\n",
       "19   000876.SZ  1.456682e+06       -0.266287\n",
       "20   002252.SZ  3.146466e+06       -0.120719\n",
       "21   601933.SH  2.268749e+06       -0.196331\n",
       "22   002049.SZ  5.679853e+05       -0.342845\n",
       "23   600118.SH  2.426934e+06       -0.182704\n",
       "24   300027.SZ  1.920654e+06       -0.226317\n",
       "25   600606.SH  4.313287e+05       -0.354617\n",
       "26   601169.SH  6.514528e+06        0.169427\n",
       "27   600804.SH  2.066729e+06       -0.213734\n",
       "28   300168.SZ  9.733323e+05       -0.307926\n",
       "29   000728.SZ  2.293355e+06       -0.194211\n",
       "..         ...           ...             ...\n",
       "238  002183.SZ  9.408541e+05       -0.310723\n",
       "239  601601.SH  1.210361e+07        0.650904\n",
       "240  600816.SH  7.879314e+05       -0.323897\n",
       "241  000630.SZ  1.471054e+06       -0.265049\n",
       "242  600019.SH  7.163225e+06        0.225309\n",
       "243  601216.SH  1.575699e+06       -0.256034\n",
       "244  002152.SZ  1.564541e+06       -0.256995\n",
       "245  600895.SH  1.111912e+06       -0.295987\n",
       "246  601857.SH  1.266574e+08       10.519261\n",
       "247  600150.SH  3.481835e+06       -0.091828\n",
       "248  002153.SZ  8.957940e+05       -0.314605\n",
       "249  000839.SZ  1.277501e+06       -0.281723\n",
       "250  000963.SZ  1.580023e+06       -0.255662\n",
       "251  601766.SH  5.189114e+06        0.055247\n",
       "252  000709.SZ  1.046022e+06       -0.301664\n",
       "253  600685.SH  7.510879e+05       -0.327071\n",
       "254  600406.SH  3.315548e+06       -0.106153\n",
       "255  600741.SH  2.971306e+06       -0.135808\n",
       "256  002008.SZ  1.738400e+06       -0.242018\n",
       "257  600373.SH  1.731382e+06       -0.242623\n",
       "258  600482.SH  5.880893e+05       -0.341113\n",
       "259  600010.SH  3.569623e+06       -0.084265\n",
       "260  601336.SH  2.608276e+06       -0.167082\n",
       "261  002456.SZ  1.663411e+06       -0.248478\n",
       "262  600570.SH  1.946339e+06       -0.224105\n",
       "263  600060.SH  1.359651e+06       -0.274646\n",
       "264  600415.SH  1.534986e+06       -0.259541\n",
       "265  300024.SZ  1.961242e+06       -0.222821\n",
       "266  600208.SH  2.249543e+06       -0.197985\n",
       "267  300251.SZ  8.878494e+05       -0.315290\n",
       "\n",
       "[268 rows x 3 columns]"
      ]
     },
     "execution_count": 34,
     "metadata": {},
     "output_type": "execute_result"
    }
   ],
   "source": [
    "FAST_mean_df"
   ]
  },
  {
   "cell_type": "code",
   "execution_count": 35,
   "metadata": {
    "collapsed": true
   },
   "outputs": [],
   "source": [
    "FAST_mean_df.to_csv(\"FAST_mean_2014_Q3.csv\") # save it as csv"
   ]
  },
  {
   "cell_type": "markdown",
   "metadata": {},
   "source": [
    "##### X3: FAST_mean_df['FAST_mean_norm']"
   ]
  },
  {
   "cell_type": "markdown",
   "metadata": {},
   "source": [
    "## Y : Current Quarter Return\n",
    "\n",
    "Duration: 20140930 - 20141231\n",
    "\n",
    "return = [SP(20141231) - SP(20140930)]/SP(20140930)\n",
    "\n",
    "sample pool: companies in BEME_ratio_df['WINDCODE']"
   ]
  },
  {
   "cell_type": "code",
   "execution_count": 36,
   "metadata": {
    "collapsed": true
   },
   "outputs": [],
   "source": [
    "# Obatin Close Price on starting and end dates for current qtr\n",
    "start_close_c = [None]*len(BEME_ratio_df_2014['WINDCODE'])\n",
    "end_close_c = [None]*len(BEME_ratio_df_2014['WINDCODE'])"
   ]
  },
  {
   "cell_type": "code",
   "execution_count": 37,
   "metadata": {
    "collapsed": true
   },
   "outputs": [],
   "source": [
    "# Dataframe start_close: start_close price for 268 companies\n",
    "\n",
    "for i in range(len(BEME_ratio_df_2014['WINDCODE'])):\n",
    "    company = BEME_ratio_df_2014['WINDCODE'][i]\n",
    "    start_close_c[i] =float(frames[company][frames[company]['TRADE_DT'] == 20140630]['S_DQ_ADJCLOSE'])\n",
    "    end_close_c[i] = float(frames[company][frames[company]['TRADE_DT'] ==20140930]['S_DQ_ADJCLOSE'])"
   ]
  },
  {
   "cell_type": "code",
   "execution_count": 38,
   "metadata": {
    "collapsed": true
   },
   "outputs": [],
   "source": [
    "# create an empty list to store return for individual company for current qtr\n",
    "com_qtr_return_CURRENT = [None]*len(BEME_ratio_df_2014['WINDCODE']) "
   ]
  },
  {
   "cell_type": "code",
   "execution_count": 39,
   "metadata": {
    "collapsed": true
   },
   "outputs": [],
   "source": [
    "# Calculate quarterly return\n",
    "for i in range(len(BEME_ratio_df_2014['WINDCODE'])):\n",
    "    com_qtr_return_CURRENT[i] = (end_close_c[i] - start_close_c[i])/start_close_c[i]"
   ]
  },
  {
   "cell_type": "code",
   "execution_count": 40,
   "metadata": {
    "collapsed": true
   },
   "outputs": [],
   "source": [
    "index_start_c = float(csi300_IndexData[csi300_IndexData['date'] == '2014-06-30']['last_price']) \n",
    "index_end_c = float(csi300_IndexData[csi300_IndexData['date'] == '2014-09-30']['last_price']) "
   ]
  },
  {
   "cell_type": "code",
   "execution_count": 41,
   "metadata": {
    "collapsed": true
   },
   "outputs": [],
   "source": [
    "index_qtr_return_CURRENT = (index_end_c - index_start_c)/index_start_c # calculate the index quarterly return"
   ]
  },
  {
   "cell_type": "code",
   "execution_count": 42,
   "metadata": {
    "collapsed": false
   },
   "outputs": [
    {
     "data": {
      "text/plain": [
       "0.13150135847554495"
      ]
     },
     "execution_count": 42,
     "metadata": {},
     "output_type": "execute_result"
    }
   ],
   "source": [
    "index_qtr_return_CURRENT"
   ]
  },
  {
   "cell_type": "code",
   "execution_count": 43,
   "metadata": {
    "collapsed": true
   },
   "outputs": [],
   "source": [
    "diff_return_com_csi300_CURRENT = [None]*len(BEME_ratio_df_2014['WINDCODE'])"
   ]
  },
  {
   "cell_type": "code",
   "execution_count": 44,
   "metadata": {
    "collapsed": true
   },
   "outputs": [],
   "source": [
    "for i in range(len(BEME_ratio_df_2014['WINDCODE'])):\n",
    "    diff_return_com_csi300_CURRENT[i] = com_qtr_return_CURRENT[i] - index_qtr_return_CURRENT"
   ]
  },
  {
   "cell_type": "code",
   "execution_count": 45,
   "metadata": {
    "collapsed": false
   },
   "outputs": [
    {
     "data": {
      "text/plain": [
       "[-0.1324534803471444,\n",
       " 0.16516867179690709,\n",
       " -0.05155148378882804,\n",
       " -0.008076863826317712,\n",
       " -0.07122738587280517,\n",
       " -0.19381269957084465,\n",
       " -0.012601726799670199,\n",
       " 0.09991128092965953,\n",
       " 0.11242858213935386,\n",
       " 0.05356095659663282]"
      ]
     },
     "execution_count": 45,
     "metadata": {},
     "output_type": "execute_result"
    }
   ],
   "source": [
    "diff_return_com_csi300_CURRENT[0:10]"
   ]
  },
  {
   "cell_type": "code",
   "execution_count": 46,
   "metadata": {
    "collapsed": true
   },
   "outputs": [],
   "source": [
    "Y_2014_Q3 = pd.DataFrame({'Company':BEME_ratio_df_2014['WINDCODE'],'Y':diff_return_com_csi300_CURRENT})"
   ]
  },
  {
   "cell_type": "code",
   "execution_count": 47,
   "metadata": {
    "collapsed": true
   },
   "outputs": [],
   "source": [
    "Y_2014_Q3.to_csv(\"Y_2014_Q3.csv\")"
   ]
  },
  {
   "cell_type": "markdown",
   "metadata": {},
   "source": [
    "##### Y: diff_return_com_csi300_CURRENT"
   ]
  },
  {
   "cell_type": "code",
   "execution_count": 48,
   "metadata": {
    "collapsed": true
   },
   "outputs": [],
   "source": [
    "TFM_2014_Q3 = pd.DataFrame({'X_1':norm_BEME_ratio_list,'X_2':Weighted_Return['norm_diff_csi300_LAST'], 'X_3': FAST_mean_df['FAST_mean_norm'], 'Y':diff_return_com_csi300_CURRENT})"
   ]
  },
  {
   "cell_type": "code",
   "execution_count": null,
   "metadata": {
    "collapsed": false,
    "scrolled": true
   },
   "outputs": [],
   "source": [
    "TFM_2014_Q3[:10]"
   ]
  },
  {
   "cell_type": "code",
   "execution_count": 50,
   "metadata": {
    "collapsed": true
   },
   "outputs": [],
   "source": [
    "TFM_2014_Q3.to_csv(\"TFM_2014_Q3.csv\")"
   ]
  },
  {
   "cell_type": "code",
   "execution_count": 51,
   "metadata": {
    "collapsed": true
   },
   "outputs": [],
   "source": [
    "def outlier_index(list_name, std_num):\n",
    "    mean = list_name.mean() # mean\n",
    "    std = np.std(list_name, axis=0) # standard deviation\n",
    "    \n",
    "    upper_b = mean+std_num*std\n",
    "    lower_b = mean-std_num*std\n",
    "    \n",
    "    ind_upper = [i for i in range(len(list_name)) if list_name[i] > upper_b]\n",
    "    ind_lower = [i for i in range(len(list_name)) if list_name[i] < lower_b]\n",
    "    outlier_index = ind_upper+ind_lower\n",
    "    \n",
    "    return outlier_index"
   ]
  },
  {
   "cell_type": "code",
   "execution_count": 52,
   "metadata": {
    "collapsed": true
   },
   "outputs": [],
   "source": [
    "outlier_all =outlier_index(TFM_2014_Q3['X_1'], 5) + outlier_index(TFM_2014_Q3['X_2'], 5)+ outlier_index(TFM_2014_Q3['X_3'], 5)+ outlier_index(TFM_2014_Q3['Y'], 5)"
   ]
  },
  {
   "cell_type": "code",
   "execution_count": 53,
   "metadata": {
    "collapsed": true
   },
   "outputs": [],
   "source": [
    "TFM_2014_Q3_NO = TFM_2014_Q3.drop(TFM_2014_Q3.index[outlier_all])"
   ]
  },
  {
   "cell_type": "code",
   "execution_count": 55,
   "metadata": {
    "collapsed": false,
    "scrolled": true
   },
   "outputs": [
    {
     "data": {
      "text/html": [
       "<div>\n",
       "<table border=\"1\" class=\"dataframe\">\n",
       "  <thead>\n",
       "    <tr style=\"text-align: right;\">\n",
       "      <th></th>\n",
       "      <th>X_1</th>\n",
       "      <th>X_2</th>\n",
       "      <th>X_3</th>\n",
       "      <th>Y</th>\n",
       "    </tr>\n",
       "  </thead>\n",
       "  <tbody>\n",
       "    <tr>\n",
       "      <th>0</th>\n",
       "      <td>-0.943715</td>\n",
       "      <td>1.944860</td>\n",
       "      <td>-0.178524</td>\n",
       "      <td>-0.132453</td>\n",
       "    </tr>\n",
       "    <tr>\n",
       "      <th>1</th>\n",
       "      <td>-0.663215</td>\n",
       "      <td>-0.229808</td>\n",
       "      <td>-0.287127</td>\n",
       "      <td>0.165169</td>\n",
       "    </tr>\n",
       "    <tr>\n",
       "      <th>2</th>\n",
       "      <td>0.831511</td>\n",
       "      <td>0.006560</td>\n",
       "      <td>1.480268</td>\n",
       "      <td>-0.051551</td>\n",
       "    </tr>\n",
       "    <tr>\n",
       "      <th>3</th>\n",
       "      <td>0.060847</td>\n",
       "      <td>-2.130893</td>\n",
       "      <td>-0.241485</td>\n",
       "      <td>-0.008077</td>\n",
       "    </tr>\n",
       "    <tr>\n",
       "      <th>4</th>\n",
       "      <td>1.576604</td>\n",
       "      <td>0.158118</td>\n",
       "      <td>4.094398</td>\n",
       "      <td>-0.071227</td>\n",
       "    </tr>\n",
       "    <tr>\n",
       "      <th>5</th>\n",
       "      <td>-0.981901</td>\n",
       "      <td>-0.786710</td>\n",
       "      <td>-0.028412</td>\n",
       "      <td>-0.193813</td>\n",
       "    </tr>\n",
       "    <tr>\n",
       "      <th>6</th>\n",
       "      <td>1.036689</td>\n",
       "      <td>-0.199926</td>\n",
       "      <td>0.127408</td>\n",
       "      <td>-0.012602</td>\n",
       "    </tr>\n",
       "    <tr>\n",
       "      <th>7</th>\n",
       "      <td>-0.199968</td>\n",
       "      <td>0.078030</td>\n",
       "      <td>-0.329582</td>\n",
       "      <td>0.099911</td>\n",
       "    </tr>\n",
       "    <tr>\n",
       "      <th>8</th>\n",
       "      <td>-0.417362</td>\n",
       "      <td>0.240642</td>\n",
       "      <td>0.058611</td>\n",
       "      <td>0.112429</td>\n",
       "    </tr>\n",
       "    <tr>\n",
       "      <th>9</th>\n",
       "      <td>-0.118337</td>\n",
       "      <td>-1.111186</td>\n",
       "      <td>-0.031496</td>\n",
       "      <td>0.053561</td>\n",
       "    </tr>\n",
       "  </tbody>\n",
       "</table>\n",
       "</div>"
      ],
      "text/plain": [
       "        X_1       X_2       X_3         Y\n",
       "0 -0.943715  1.944860 -0.178524 -0.132453\n",
       "1 -0.663215 -0.229808 -0.287127  0.165169\n",
       "2  0.831511  0.006560  1.480268 -0.051551\n",
       "3  0.060847 -2.130893 -0.241485 -0.008077\n",
       "4  1.576604  0.158118  4.094398 -0.071227\n",
       "5 -0.981901 -0.786710 -0.028412 -0.193813\n",
       "6  1.036689 -0.199926  0.127408 -0.012602\n",
       "7 -0.199968  0.078030 -0.329582  0.099911\n",
       "8 -0.417362  0.240642  0.058611  0.112429\n",
       "9 -0.118337 -1.111186 -0.031496  0.053561"
      ]
     },
     "execution_count": 55,
     "metadata": {},
     "output_type": "execute_result"
    }
   ],
   "source": [
    "TFM_2014_Q3_NO[:10]"
   ]
  },
  {
   "cell_type": "code",
   "execution_count": 56,
   "metadata": {
    "collapsed": true
   },
   "outputs": [],
   "source": [
    "TFM_2014_Q3_NO.to_csv(\"TFM_2014_Q3_NO.csv\")"
   ]
  },
  {
   "cell_type": "markdown",
   "metadata": {},
   "source": [
    "# ************* Result DataFrame: TFM_2014_Q3_NO.csv *************"
   ]
  },
  {
   "cell_type": "code",
   "execution_count": null,
   "metadata": {
    "collapsed": true
   },
   "outputs": [],
   "source": []
  }
 ],
 "metadata": {
  "anaconda-cloud": {},
  "kernelspec": {
   "display_name": "Python [conda root]",
   "language": "python",
   "name": "conda-root-py"
  },
  "language_info": {
   "codemirror_mode": {
    "name": "ipython",
    "version": 2
   },
   "file_extension": ".py",
   "mimetype": "text/x-python",
   "name": "python",
   "nbconvert_exporter": "python",
   "pygments_lexer": "ipython2",
   "version": "2.7.12"
  }
 },
 "nbformat": 4,
 "nbformat_minor": 1
}
