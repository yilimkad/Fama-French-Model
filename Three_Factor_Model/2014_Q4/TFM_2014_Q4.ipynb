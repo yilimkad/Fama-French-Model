{
 "cells": [
  {
   "cell_type": "markdown",
   "metadata": {},
   "source": [
    "# Time Period: 20140930-20141231\n"
   ]
  },
  {
   "cell_type": "code",
   "execution_count": 2,
   "metadata": {
    "collapsed": true
   },
   "outputs": [],
   "source": [
    "import pandas as pd\n",
    "import glob\n",
    "import os\n",
    "import numpy as np\n",
    "from sklearn import linear_model\n",
    "import matplotlib.pyplot as plt\n",
    "%matplotlib inline"
   ]
  },
  {
   "cell_type": "markdown",
   "metadata": {},
   "source": [
    "### 1. BE/ME Ratio in 2014 (same throughout the year)\n",
    "The size breakpoint for year t is the median NYSE market equity at the end of June of year t. BE/ME for June of year t is the book equity for the last fiscal year end in t-1 divided by ME for December of t-1. "
   ]
  },
  {
   "cell_type": "code",
   "execution_count": 3,
   "metadata": {
    "collapsed": true
   },
   "outputs": [],
   "source": [
    "AShareEODDerivativeIndicator = pd.read_csv(\"/Users/yiliwang/Documents/ACR Internship/Supplementary datasets/EODDerivativeIndicator.csv\", header=0)"
   ]
  },
  {
   "cell_type": "code",
   "execution_count": 4,
   "metadata": {
    "collapsed": true
   },
   "outputs": [],
   "source": [
    "BEME_ratio_df_2014 = pd.read_csv(\"/Users/yiliwang/Documents/ACR Internship/Intermediate Files/BEME_ratio_df_2014.csv\", header=0)"
   ]
  },
  {
   "cell_type": "code",
   "execution_count": 5,
   "metadata": {
    "collapsed": false,
    "scrolled": true
   },
   "outputs": [],
   "source": [
    "norm_BEME_ratio_list = list(BEME_ratio_df_2014['norm_BEME_ratio'])# 268 companies available total"
   ]
  },
  {
   "cell_type": "markdown",
   "metadata": {},
   "source": [
    "###### X1: norm_BEME_ratio_list"
   ]
  },
  {
   "cell_type": "markdown",
   "metadata": {},
   "source": [
    "### 2. Last Quarter Return: 2014 Q3\n",
    "\n",
    "Duration: 20140630 - 20140930\n",
    "\n",
    "return = [SP(20140930) - SP(20140630)]/SP(20140630)\n",
    "\n",
    "sample pool: companies in BEME_ratio_df['WINDCODE']"
   ]
  },
  {
   "cell_type": "markdown",
   "metadata": {},
   "source": [
    "#### a) Last Quarterly Return for Individual Company"
   ]
  },
  {
   "cell_type": "code",
   "execution_count": 6,
   "metadata": {
    "collapsed": true
   },
   "outputs": [],
   "source": [
    "##### Load in all the files of Stock Price\n",
    "\n",
    "# set current working directory to the directory storing stock price data\n",
    "os.chdir('/Users/yiliwang/Documents/ACR Internship/data/')"
   ]
  },
  {
   "cell_type": "code",
   "execution_count": 7,
   "metadata": {
    "collapsed": true
   },
   "outputs": [],
   "source": [
    "files = [file for file in os.listdir( os.curdir ) if file.endswith(\".csv\")]"
   ]
  },
  {
   "cell_type": "code",
   "execution_count": 8,
   "metadata": {
    "collapsed": true
   },
   "outputs": [],
   "source": [
    "# Store files to dictionary using their own name\n",
    "frames = {}\n",
    "for each_file in files:\n",
    "    frames[os.path.splitext(each_file)[0]] = pd.read_csv(each_file)"
   ]
  },
  {
   "cell_type": "markdown",
   "metadata": {},
   "source": [
    "##### Extract Stock Price Data on Starting Day and End Day"
   ]
  },
  {
   "cell_type": "code",
   "execution_count": 9,
   "metadata": {
    "collapsed": false
   },
   "outputs": [],
   "source": [
    "# Obatin Close Price\n",
    "start_close = [None]*len(BEME_ratio_df_2014['WINDCODE'])\n",
    "end_close = [None]*len(BEME_ratio_df_2014['WINDCODE'])"
   ]
  },
  {
   "cell_type": "code",
   "execution_count": 10,
   "metadata": {
    "collapsed": true
   },
   "outputs": [],
   "source": [
    "for i in range(len(BEME_ratio_df_2014['WINDCODE'])):\n",
    "    company = BEME_ratio_df_2014['WINDCODE'][i]\n",
    "    start_close[i] =float(frames[company][frames[company]['TRADE_DT'] == 20140630]['S_DQ_ADJCLOSE'])\n",
    "    end_close[i] = float(frames[company][frames[company]['TRADE_DT'] == 20140930]['S_DQ_ADJCLOSE'])"
   ]
  },
  {
   "cell_type": "code",
   "execution_count": 11,
   "metadata": {
    "collapsed": true
   },
   "outputs": [],
   "source": [
    "# create an empty list to store return for individual company\n",
    "com_qtr_return = [None]*len(BEME_ratio_df_2014['WINDCODE'])"
   ]
  },
  {
   "cell_type": "code",
   "execution_count": 12,
   "metadata": {
    "collapsed": true
   },
   "outputs": [],
   "source": [
    "# Calculate quarterly return\n",
    "for i in range(len(BEME_ratio_df_2014['WINDCODE'])):\n",
    "    com_qtr_return[i] = (end_close[i] - start_close[i])/start_close[i]"
   ]
  },
  {
   "cell_type": "markdown",
   "metadata": {},
   "source": [
    "#### b) Last Quarterly Return for CSI300 Index"
   ]
  },
  {
   "cell_type": "code",
   "execution_count": 13,
   "metadata": {
    "collapsed": true
   },
   "outputs": [],
   "source": [
    "csi300_IndexData= pd.read_csv(\"/Users/yiliwang/Documents/ACR Internship/csi_300_IndexData_daily_.csv\", header=0)"
   ]
  },
  {
   "cell_type": "code",
   "execution_count": 14,
   "metadata": {
    "collapsed": true
   },
   "outputs": [],
   "source": [
    "index_start = float(csi300_IndexData[csi300_IndexData['date'] == '2014-06-30']['last_price']) # index price on start day\n",
    "index_end = float(csi300_IndexData[csi300_IndexData['date'] == '2014-09-30']['last_price'])  # index price on end day"
   ]
  },
  {
   "cell_type": "code",
   "execution_count": 15,
   "metadata": {
    "collapsed": true
   },
   "outputs": [],
   "source": [
    "index_qtr_return = (index_end - index_start)/index_start # calculate the index quarterly return"
   ]
  },
  {
   "cell_type": "code",
   "execution_count": 16,
   "metadata": {
    "collapsed": false
   },
   "outputs": [
    {
     "name": "stdout",
     "output_type": "stream",
     "text": [
      "0.131501358476\n"
     ]
    }
   ],
   "source": [
    "print index_qtr_return"
   ]
  },
  {
   "cell_type": "markdown",
   "metadata": {},
   "source": [
    "#### Difference = Company Return - Index Return \n",
    "Result List: norm_diff_csi300_LAST"
   ]
  },
  {
   "cell_type": "code",
   "execution_count": 17,
   "metadata": {
    "collapsed": false
   },
   "outputs": [],
   "source": [
    "diff_return_com_csi300 = [None]*len(BEME_ratio_df_2014['WINDCODE'])"
   ]
  },
  {
   "cell_type": "code",
   "execution_count": 18,
   "metadata": {
    "collapsed": true
   },
   "outputs": [],
   "source": [
    "for i in range(len(BEME_ratio_df_2014['WINDCODE'])):\n",
    "    diff_return_com_csi300[i] = com_qtr_return[i] - index_qtr_return"
   ]
  },
  {
   "cell_type": "code",
   "execution_count": 19,
   "metadata": {
    "collapsed": true
   },
   "outputs": [],
   "source": [
    "# convert into a dataframe\n",
    "Weighted_Return = pd.DataFrame({'Company':BEME_ratio_df_2014['WINDCODE'],'diff_csi300_LAST': diff_return_com_csi300})"
   ]
  },
  {
   "cell_type": "code",
   "execution_count": 20,
   "metadata": {
    "collapsed": true
   },
   "outputs": [],
   "source": [
    "# Normalize Function\n",
    "def normalize_list(input_list):\n",
    "    empty_list = [None]*len(input_list)\n",
    "    for i in range(len(input_list)):\n",
    "        empty_list[i] = (input_list[i]-input_list.mean())/input_list.std()\n",
    "    return empty_list"
   ]
  },
  {
   "cell_type": "code",
   "execution_count": 21,
   "metadata": {
    "collapsed": false
   },
   "outputs": [],
   "source": [
    "Weighted_Return['norm_diff_csi300_LAST'] = normalize_list(Weighted_Return['diff_csi300_LAST'])"
   ]
  },
  {
   "cell_type": "code",
   "execution_count": 24,
   "metadata": {
    "collapsed": false,
    "scrolled": true
   },
   "outputs": [],
   "source": [
    "Weighted_Return.to_csv(\"LAST_Weighted_Return_2014_Q4.csv\")"
   ]
  },
  {
   "cell_type": "markdown",
   "metadata": {},
   "source": [
    "###### X2: norm_diff_csi300_LAST"
   ]
  },
  {
   "cell_type": "code",
   "execution_count": 21,
   "metadata": {
    "collapsed": false
   },
   "outputs": [
    {
     "data": {
      "text/plain": [
       "[-1.0777214369617809,\n",
       " 0.31444535401573076,\n",
       " -0.69929169938716784,\n",
       " -0.49593344219372876,\n",
       " -0.7913283212128851,\n",
       " -1.364737261248272,\n",
       " -0.51709908433375384,\n",
       " 0.0091953187722201308,\n",
       " 0.067746642762259252,\n",
       " -0.20761442412704131]"
      ]
     },
     "execution_count": 21,
     "metadata": {},
     "output_type": "execute_result"
    }
   ],
   "source": [
    "norm_diff_csi300_LAST[0:10] # preview"
   ]
  },
  {
   "cell_type": "code",
   "execution_count": null,
   "metadata": {
    "collapsed": true
   },
   "outputs": [],
   "source": []
  },
  {
   "cell_type": "markdown",
   "metadata": {},
   "source": [
    "### 3. AShareEODDerivativeIndicator['FLOAT_A_SHR_TODAY']\n",
    "total free-float shares per day * unadjusted close price"
   ]
  },
  {
   "cell_type": "code",
   "execution_count": 22,
   "metadata": {
    "collapsed": false
   },
   "outputs": [],
   "source": [
    "# Extract trading dates of certain period \n",
    "dates_trade = frames['000001.SZ']['TRADE_DT'].unique()\n",
    "dates_trade.sort() # sort the date"
   ]
  },
  {
   "cell_type": "code",
   "execution_count": 23,
   "metadata": {
    "collapsed": true
   },
   "outputs": [],
   "source": [
    "start_dateind = list(dates_trade).index(20140930) # index of start date\n",
    "end_dateind = list(dates_trade).index(20141231) # index of end date"
   ]
  },
  {
   "cell_type": "code",
   "execution_count": 24,
   "metadata": {
    "collapsed": true
   },
   "outputs": [],
   "source": [
    "# target_dates: list of trading dates in that period\n",
    "target_dates = dates_trade[start_dateind:end_dateind+1]"
   ]
  },
  {
   "cell_type": "code",
   "execution_count": 25,
   "metadata": {
    "collapsed": false
   },
   "outputs": [
    {
     "data": {
      "text/plain": [
       "array([20140930, 20141008, 20141009, 20141010, 20141013, 20141014,\n",
       "       20141015, 20141016, 20141017, 20141020, 20141021, 20141022,\n",
       "       20141023, 20141024, 20141027, 20141028, 20141029, 20141030,\n",
       "       20141031, 20141103, 20141104, 20141105, 20141106, 20141107,\n",
       "       20141110, 20141111, 20141112, 20141113, 20141114, 20141117,\n",
       "       20141118, 20141119, 20141120, 20141121, 20141124, 20141125,\n",
       "       20141126, 20141127, 20141128, 20141201, 20141202, 20141203,\n",
       "       20141204, 20141205, 20141208, 20141209, 20141210, 20141211,\n",
       "       20141212, 20141215, 20141216, 20141217, 20141218, 20141219,\n",
       "       20141222, 20141223, 20141224, 20141225, 20141226, 20141229,\n",
       "       20141230, 20141231])"
      ]
     },
     "execution_count": 25,
     "metadata": {},
     "output_type": "execute_result"
    }
   ],
   "source": [
    "target_dates"
   ]
  },
  {
   "cell_type": "code",
   "execution_count": 29,
   "metadata": {
    "collapsed": true
   },
   "outputs": [],
   "source": [
    "def find_FAST_mean(company): # For a given company, calculate mean of FLOAT_A_SHR_TODAY *close price (unadjusted) on trading days\n",
    "    FAST_product = [None]*len(target_dates)\n",
    "    \n",
    "    for i in range(len(target_dates)):\n",
    "        close_p = frames[company][frames[company]['TRADE_DT'] == target_dates[i]]['S_DQ_CLOSE'].values # get close price on a particular date\n",
    "        \n",
    "        # dataframe of the company\n",
    "        df_company = AShareEODDerivativeIndicator[AShareEODDerivativeIndicator['S_INFO_WINDCODE'] ==company]\n",
    "        FAST_day = float(df_company[df_company['TRADE_DT']==target_dates[i]]['FLOAT_A_SHR_TODAY']) #FLOAT_A_SHR_TODAY of a particular day\n",
    "        \n",
    "        FAST_product[i] = FAST_day*close_p\n",
    "        \n",
    "    FAST_mean = np.mean(FAST_product)\n",
    "    return FAST_mean"
   ]
  },
  {
   "cell_type": "code",
   "execution_count": 30,
   "metadata": {
    "collapsed": false
   },
   "outputs": [],
   "source": [
    "FAST_mean_list = [find_FAST_mean(company) for company in BEME_ratio_df_2014['WINDCODE']]"
   ]
  },
  {
   "cell_type": "code",
   "execution_count": 31,
   "metadata": {
    "collapsed": false
   },
   "outputs": [
    {
     "data": {
      "text/plain": [
       "[2377354.9203870962,\n",
       " 1615770.5661290318,\n",
       " 24782016.757431898,\n",
       " 2019485.0102841612,\n",
       " 61009817.69949764,\n",
       " 3688757.4221885479,\n",
       " 7327187.3816777738,\n",
       " 833616.81976079033,\n",
       " 5707682.9348354992,\n",
       " 5353440.3474537591]"
      ]
     },
     "execution_count": 31,
     "metadata": {},
     "output_type": "execute_result"
    }
   ],
   "source": [
    "FAST_mean_list[0:10]"
   ]
  },
  {
   "cell_type": "code",
   "execution_count": 32,
   "metadata": {
    "collapsed": true
   },
   "outputs": [],
   "source": [
    "FAST_mean_df = pd.DataFrame({'Company':BEME_ratio_df_2014['WINDCODE'],'FAST_mean':FAST_mean_list})"
   ]
  },
  {
   "cell_type": "code",
   "execution_count": 51,
   "metadata": {
    "collapsed": true
   },
   "outputs": [],
   "source": [
    "FAST_mean_df['FAST_mean_norm'] = normalize_list(FAST_mean_df['FAST_mean'])"
   ]
  },
  {
   "cell_type": "code",
   "execution_count": 52,
   "metadata": {
    "collapsed": false,
    "scrolled": true
   },
   "outputs": [
    {
     "data": {
      "text/html": [
       "<div>\n",
       "<table border=\"1\" class=\"dataframe\">\n",
       "  <thead>\n",
       "    <tr style=\"text-align: right;\">\n",
       "      <th></th>\n",
       "      <th>Company</th>\n",
       "      <th>FAST_mean</th>\n",
       "      <th>FAST_mean_norm</th>\n",
       "    </tr>\n",
       "  </thead>\n",
       "  <tbody>\n",
       "    <tr>\n",
       "      <th>0</th>\n",
       "      <td>002475.SZ</td>\n",
       "      <td>2.377355e+06</td>\n",
       "      <td>-0.240943</td>\n",
       "    </tr>\n",
       "    <tr>\n",
       "      <th>1</th>\n",
       "      <td>002470.SZ</td>\n",
       "      <td>1.615771e+06</td>\n",
       "      <td>-0.299875</td>\n",
       "    </tr>\n",
       "    <tr>\n",
       "      <th>2</th>\n",
       "      <td>600036.SH</td>\n",
       "      <td>2.478202e+07</td>\n",
       "      <td>1.492723</td>\n",
       "    </tr>\n",
       "    <tr>\n",
       "      <th>3</th>\n",
       "      <td>002146.SZ</td>\n",
       "      <td>2.019485e+06</td>\n",
       "      <td>-0.268635</td>\n",
       "    </tr>\n",
       "    <tr>\n",
       "      <th>4</th>\n",
       "      <td>601988.SH</td>\n",
       "      <td>6.100982e+07</td>\n",
       "      <td>4.296019</td>\n",
       "    </tr>\n",
       "    <tr>\n",
       "      <th>5</th>\n",
       "      <td>000895.SZ</td>\n",
       "      <td>3.688757e+06</td>\n",
       "      <td>-0.139468</td>\n",
       "    </tr>\n",
       "    <tr>\n",
       "      <th>6</th>\n",
       "      <td>600048.SH</td>\n",
       "      <td>7.327187e+06</td>\n",
       "      <td>0.142073</td>\n",
       "    </tr>\n",
       "    <tr>\n",
       "      <th>7</th>\n",
       "      <td>000718.SZ</td>\n",
       "      <td>8.336168e+05</td>\n",
       "      <td>-0.360397</td>\n",
       "    </tr>\n",
       "    <tr>\n",
       "      <th>8</th>\n",
       "      <td>002304.SZ</td>\n",
       "      <td>5.707683e+06</td>\n",
       "      <td>0.016756</td>\n",
       "    </tr>\n",
       "    <tr>\n",
       "      <th>9</th>\n",
       "      <td>600031.SH</td>\n",
       "      <td>5.353440e+06</td>\n",
       "      <td>-0.010655</td>\n",
       "    </tr>\n",
       "    <tr>\n",
       "      <th>10</th>\n",
       "      <td>601688.SH</td>\n",
       "      <td>8.642335e+06</td>\n",
       "      <td>0.243839</td>\n",
       "    </tr>\n",
       "    <tr>\n",
       "      <th>11</th>\n",
       "      <td>002230.SZ</td>\n",
       "      <td>1.724367e+06</td>\n",
       "      <td>-0.291472</td>\n",
       "    </tr>\n",
       "    <tr>\n",
       "      <th>12</th>\n",
       "      <td>000750.SZ</td>\n",
       "      <td>2.643791e+06</td>\n",
       "      <td>-0.220327</td>\n",
       "    </tr>\n",
       "    <tr>\n",
       "      <th>13</th>\n",
       "      <td>601989.SH</td>\n",
       "      <td>1.121879e+07</td>\n",
       "      <td>0.443204</td>\n",
       "    </tr>\n",
       "    <tr>\n",
       "      <th>14</th>\n",
       "      <td>601818.SH</td>\n",
       "      <td>1.347773e+07</td>\n",
       "      <td>0.618001</td>\n",
       "    </tr>\n",
       "    <tr>\n",
       "      <th>15</th>\n",
       "      <td>000009.SZ</td>\n",
       "      <td>1.955551e+06</td>\n",
       "      <td>-0.273583</td>\n",
       "    </tr>\n",
       "    <tr>\n",
       "      <th>16</th>\n",
       "      <td>600446.SH</td>\n",
       "      <td>1.292414e+06</td>\n",
       "      <td>-0.324896</td>\n",
       "    </tr>\n",
       "    <tr>\n",
       "      <th>17</th>\n",
       "      <td>600583.SH</td>\n",
       "      <td>3.449557e+06</td>\n",
       "      <td>-0.157977</td>\n",
       "    </tr>\n",
       "    <tr>\n",
       "      <th>18</th>\n",
       "      <td>601618.SH</td>\n",
       "      <td>5.190980e+06</td>\n",
       "      <td>-0.023226</td>\n",
       "    </tr>\n",
       "    <tr>\n",
       "      <th>19</th>\n",
       "      <td>000876.SZ</td>\n",
       "      <td>2.088808e+06</td>\n",
       "      <td>-0.263271</td>\n",
       "    </tr>\n",
       "    <tr>\n",
       "      <th>20</th>\n",
       "      <td>002252.SZ</td>\n",
       "      <td>4.466542e+06</td>\n",
       "      <td>-0.079283</td>\n",
       "    </tr>\n",
       "    <tr>\n",
       "      <th>21</th>\n",
       "      <td>601933.SH</td>\n",
       "      <td>2.516879e+06</td>\n",
       "      <td>-0.230147</td>\n",
       "    </tr>\n",
       "    <tr>\n",
       "      <th>22</th>\n",
       "      <td>002049.SZ</td>\n",
       "      <td>6.380799e+05</td>\n",
       "      <td>-0.375528</td>\n",
       "    </tr>\n",
       "    <tr>\n",
       "      <th>23</th>\n",
       "      <td>600118.SH</td>\n",
       "      <td>2.879914e+06</td>\n",
       "      <td>-0.202056</td>\n",
       "    </tr>\n",
       "    <tr>\n",
       "      <th>24</th>\n",
       "      <td>300027.SZ</td>\n",
       "      <td>2.219864e+06</td>\n",
       "      <td>-0.253130</td>\n",
       "    </tr>\n",
       "    <tr>\n",
       "      <th>25</th>\n",
       "      <td>600606.SH</td>\n",
       "      <td>5.254345e+05</td>\n",
       "      <td>-0.384245</td>\n",
       "    </tr>\n",
       "    <tr>\n",
       "      <th>26</th>\n",
       "      <td>601169.SH</td>\n",
       "      <td>7.839930e+06</td>\n",
       "      <td>0.181749</td>\n",
       "    </tr>\n",
       "    <tr>\n",
       "      <th>27</th>\n",
       "      <td>600804.SH</td>\n",
       "      <td>2.321255e+06</td>\n",
       "      <td>-0.245284</td>\n",
       "    </tr>\n",
       "    <tr>\n",
       "      <th>28</th>\n",
       "      <td>300168.SZ</td>\n",
       "      <td>1.696906e+06</td>\n",
       "      <td>-0.293596</td>\n",
       "    </tr>\n",
       "    <tr>\n",
       "      <th>29</th>\n",
       "      <td>000728.SZ</td>\n",
       "      <td>4.063089e+06</td>\n",
       "      <td>-0.110502</td>\n",
       "    </tr>\n",
       "    <tr>\n",
       "      <th>...</th>\n",
       "      <td>...</td>\n",
       "      <td>...</td>\n",
       "      <td>...</td>\n",
       "    </tr>\n",
       "    <tr>\n",
       "      <th>238</th>\n",
       "      <td>002183.SZ</td>\n",
       "      <td>1.394367e+06</td>\n",
       "      <td>-0.317007</td>\n",
       "    </tr>\n",
       "    <tr>\n",
       "      <th>239</th>\n",
       "      <td>601601.SH</td>\n",
       "      <td>1.427304e+07</td>\n",
       "      <td>0.679541</td>\n",
       "    </tr>\n",
       "    <tr>\n",
       "      <th>240</th>\n",
       "      <td>600816.SH</td>\n",
       "      <td>1.282038e+06</td>\n",
       "      <td>-0.325699</td>\n",
       "    </tr>\n",
       "    <tr>\n",
       "      <th>241</th>\n",
       "      <td>000630.SZ</td>\n",
       "      <td>1.754661e+06</td>\n",
       "      <td>-0.289127</td>\n",
       "    </tr>\n",
       "    <tr>\n",
       "      <th>242</th>\n",
       "      <td>600019.SH</td>\n",
       "      <td>8.513869e+06</td>\n",
       "      <td>0.233898</td>\n",
       "    </tr>\n",
       "    <tr>\n",
       "      <th>243</th>\n",
       "      <td>601216.SH</td>\n",
       "      <td>1.868701e+06</td>\n",
       "      <td>-0.280303</td>\n",
       "    </tr>\n",
       "    <tr>\n",
       "      <th>244</th>\n",
       "      <td>002152.SZ</td>\n",
       "      <td>1.649569e+06</td>\n",
       "      <td>-0.297259</td>\n",
       "    </tr>\n",
       "    <tr>\n",
       "      <th>245</th>\n",
       "      <td>600895.SH</td>\n",
       "      <td>1.515692e+06</td>\n",
       "      <td>-0.307619</td>\n",
       "    </tr>\n",
       "    <tr>\n",
       "      <th>246</th>\n",
       "      <td>601857.SH</td>\n",
       "      <td>1.371793e+08</td>\n",
       "      <td>10.189995</td>\n",
       "    </tr>\n",
       "    <tr>\n",
       "      <th>247</th>\n",
       "      <td>600150.SH</td>\n",
       "      <td>5.254029e+06</td>\n",
       "      <td>-0.018347</td>\n",
       "    </tr>\n",
       "    <tr>\n",
       "      <th>248</th>\n",
       "      <td>002153.SZ</td>\n",
       "      <td>1.206047e+06</td>\n",
       "      <td>-0.331579</td>\n",
       "    </tr>\n",
       "    <tr>\n",
       "      <th>249</th>\n",
       "      <td>000839.SZ</td>\n",
       "      <td>1.510259e+06</td>\n",
       "      <td>-0.308039</td>\n",
       "    </tr>\n",
       "    <tr>\n",
       "      <th>250</th>\n",
       "      <td>000963.SZ</td>\n",
       "      <td>2.424291e+06</td>\n",
       "      <td>-0.237312</td>\n",
       "    </tr>\n",
       "    <tr>\n",
       "      <th>251</th>\n",
       "      <td>601766.SH</td>\n",
       "      <td>5.983331e+06</td>\n",
       "      <td>0.038086</td>\n",
       "    </tr>\n",
       "    <tr>\n",
       "      <th>252</th>\n",
       "      <td>000709.SZ</td>\n",
       "      <td>1.482241e+06</td>\n",
       "      <td>-0.310207</td>\n",
       "    </tr>\n",
       "    <tr>\n",
       "      <th>253</th>\n",
       "      <td>600685.SH</td>\n",
       "      <td>1.142487e+06</td>\n",
       "      <td>-0.336497</td>\n",
       "    </tr>\n",
       "    <tr>\n",
       "      <th>254</th>\n",
       "      <td>600406.SH</td>\n",
       "      <td>3.581895e+06</td>\n",
       "      <td>-0.147737</td>\n",
       "    </tr>\n",
       "    <tr>\n",
       "      <th>255</th>\n",
       "      <td>600741.SH</td>\n",
       "      <td>3.705892e+06</td>\n",
       "      <td>-0.138142</td>\n",
       "    </tr>\n",
       "    <tr>\n",
       "      <th>256</th>\n",
       "      <td>002008.SZ</td>\n",
       "      <td>1.652687e+06</td>\n",
       "      <td>-0.297018</td>\n",
       "    </tr>\n",
       "    <tr>\n",
       "      <th>257</th>\n",
       "      <td>600373.SH</td>\n",
       "      <td>1.714993e+06</td>\n",
       "      <td>-0.292197</td>\n",
       "    </tr>\n",
       "    <tr>\n",
       "      <th>258</th>\n",
       "      <td>600482.SH</td>\n",
       "      <td>7.566606e+05</td>\n",
       "      <td>-0.366352</td>\n",
       "    </tr>\n",
       "    <tr>\n",
       "      <th>259</th>\n",
       "      <td>600010.SH</td>\n",
       "      <td>5.188774e+06</td>\n",
       "      <td>-0.023397</td>\n",
       "    </tr>\n",
       "    <tr>\n",
       "      <th>260</th>\n",
       "      <td>601336.SH</td>\n",
       "      <td>4.569823e+06</td>\n",
       "      <td>-0.071291</td>\n",
       "    </tr>\n",
       "    <tr>\n",
       "      <th>261</th>\n",
       "      <td>002456.SZ</td>\n",
       "      <td>1.561211e+06</td>\n",
       "      <td>-0.304096</td>\n",
       "    </tr>\n",
       "    <tr>\n",
       "      <th>262</th>\n",
       "      <td>600570.SH</td>\n",
       "      <td>3.003031e+06</td>\n",
       "      <td>-0.192529</td>\n",
       "    </tr>\n",
       "    <tr>\n",
       "      <th>263</th>\n",
       "      <td>600060.SH</td>\n",
       "      <td>1.497114e+06</td>\n",
       "      <td>-0.309056</td>\n",
       "    </tr>\n",
       "    <tr>\n",
       "      <th>264</th>\n",
       "      <td>600415.SH</td>\n",
       "      <td>2.438779e+06</td>\n",
       "      <td>-0.236190</td>\n",
       "    </tr>\n",
       "    <tr>\n",
       "      <th>265</th>\n",
       "      <td>300024.SZ</td>\n",
       "      <td>2.350169e+06</td>\n",
       "      <td>-0.243047</td>\n",
       "    </tr>\n",
       "    <tr>\n",
       "      <th>266</th>\n",
       "      <td>600208.SH</td>\n",
       "      <td>3.289726e+06</td>\n",
       "      <td>-0.170344</td>\n",
       "    </tr>\n",
       "    <tr>\n",
       "      <th>267</th>\n",
       "      <td>300251.SZ</td>\n",
       "      <td>1.124419e+06</td>\n",
       "      <td>-0.337895</td>\n",
       "    </tr>\n",
       "  </tbody>\n",
       "</table>\n",
       "<p>268 rows × 3 columns</p>\n",
       "</div>"
      ],
      "text/plain": [
       "       Company     FAST_mean  FAST_mean_norm\n",
       "0    002475.SZ  2.377355e+06       -0.240943\n",
       "1    002470.SZ  1.615771e+06       -0.299875\n",
       "2    600036.SH  2.478202e+07        1.492723\n",
       "3    002146.SZ  2.019485e+06       -0.268635\n",
       "4    601988.SH  6.100982e+07        4.296019\n",
       "5    000895.SZ  3.688757e+06       -0.139468\n",
       "6    600048.SH  7.327187e+06        0.142073\n",
       "7    000718.SZ  8.336168e+05       -0.360397\n",
       "8    002304.SZ  5.707683e+06        0.016756\n",
       "9    600031.SH  5.353440e+06       -0.010655\n",
       "10   601688.SH  8.642335e+06        0.243839\n",
       "11   002230.SZ  1.724367e+06       -0.291472\n",
       "12   000750.SZ  2.643791e+06       -0.220327\n",
       "13   601989.SH  1.121879e+07        0.443204\n",
       "14   601818.SH  1.347773e+07        0.618001\n",
       "15   000009.SZ  1.955551e+06       -0.273583\n",
       "16   600446.SH  1.292414e+06       -0.324896\n",
       "17   600583.SH  3.449557e+06       -0.157977\n",
       "18   601618.SH  5.190980e+06       -0.023226\n",
       "19   000876.SZ  2.088808e+06       -0.263271\n",
       "20   002252.SZ  4.466542e+06       -0.079283\n",
       "21   601933.SH  2.516879e+06       -0.230147\n",
       "22   002049.SZ  6.380799e+05       -0.375528\n",
       "23   600118.SH  2.879914e+06       -0.202056\n",
       "24   300027.SZ  2.219864e+06       -0.253130\n",
       "25   600606.SH  5.254345e+05       -0.384245\n",
       "26   601169.SH  7.839930e+06        0.181749\n",
       "27   600804.SH  2.321255e+06       -0.245284\n",
       "28   300168.SZ  1.696906e+06       -0.293596\n",
       "29   000728.SZ  4.063089e+06       -0.110502\n",
       "..         ...           ...             ...\n",
       "238  002183.SZ  1.394367e+06       -0.317007\n",
       "239  601601.SH  1.427304e+07        0.679541\n",
       "240  600816.SH  1.282038e+06       -0.325699\n",
       "241  000630.SZ  1.754661e+06       -0.289127\n",
       "242  600019.SH  8.513869e+06        0.233898\n",
       "243  601216.SH  1.868701e+06       -0.280303\n",
       "244  002152.SZ  1.649569e+06       -0.297259\n",
       "245  600895.SH  1.515692e+06       -0.307619\n",
       "246  601857.SH  1.371793e+08       10.189995\n",
       "247  600150.SH  5.254029e+06       -0.018347\n",
       "248  002153.SZ  1.206047e+06       -0.331579\n",
       "249  000839.SZ  1.510259e+06       -0.308039\n",
       "250  000963.SZ  2.424291e+06       -0.237312\n",
       "251  601766.SH  5.983331e+06        0.038086\n",
       "252  000709.SZ  1.482241e+06       -0.310207\n",
       "253  600685.SH  1.142487e+06       -0.336497\n",
       "254  600406.SH  3.581895e+06       -0.147737\n",
       "255  600741.SH  3.705892e+06       -0.138142\n",
       "256  002008.SZ  1.652687e+06       -0.297018\n",
       "257  600373.SH  1.714993e+06       -0.292197\n",
       "258  600482.SH  7.566606e+05       -0.366352\n",
       "259  600010.SH  5.188774e+06       -0.023397\n",
       "260  601336.SH  4.569823e+06       -0.071291\n",
       "261  002456.SZ  1.561211e+06       -0.304096\n",
       "262  600570.SH  3.003031e+06       -0.192529\n",
       "263  600060.SH  1.497114e+06       -0.309056\n",
       "264  600415.SH  2.438779e+06       -0.236190\n",
       "265  300024.SZ  2.350169e+06       -0.243047\n",
       "266  600208.SH  3.289726e+06       -0.170344\n",
       "267  300251.SZ  1.124419e+06       -0.337895\n",
       "\n",
       "[268 rows x 3 columns]"
      ]
     },
     "execution_count": 52,
     "metadata": {},
     "output_type": "execute_result"
    }
   ],
   "source": [
    "FAST_mean_df"
   ]
  },
  {
   "cell_type": "code",
   "execution_count": 53,
   "metadata": {
    "collapsed": true
   },
   "outputs": [],
   "source": [
    "FAST_mean_df.to_csv(\"FAST_mean_2014_Q4.csv\") # save it as csv"
   ]
  },
  {
   "cell_type": "markdown",
   "metadata": {},
   "source": [
    "##### X3: FAST_mean_df['FAST_mean_norm']"
   ]
  },
  {
   "cell_type": "markdown",
   "metadata": {},
   "source": [
    "## Y : Current Quarter Return\n",
    "\n",
    "Duration: 20140930 - 20141231\n",
    "\n",
    "return = [SP(20141231) - SP(20140930)]/SP(20140930)\n",
    "\n",
    "sample pool: companies in BEME_ratio_df['WINDCODE']"
   ]
  },
  {
   "cell_type": "code",
   "execution_count": 35,
   "metadata": {
    "collapsed": true
   },
   "outputs": [],
   "source": [
    "# Obatin Close Price on starting and end dates for current qtr\n",
    "start_close_c = [None]*len(BEME_ratio_df_2014['WINDCODE'])\n",
    "end_close_c = [None]*len(BEME_ratio_df_2014['WINDCODE'])"
   ]
  },
  {
   "cell_type": "code",
   "execution_count": 36,
   "metadata": {
    "collapsed": true
   },
   "outputs": [],
   "source": [
    "# Dataframe start_close: start_close price for 268 companies\n",
    "\n",
    "for i in range(len(BEME_ratio_df_2014['WINDCODE'])):\n",
    "    company = BEME_ratio_df_2014['WINDCODE'][i]\n",
    "    start_close_c[i] =float(frames[company][frames[company]['TRADE_DT'] == 20140930]['S_DQ_ADJCLOSE'])\n",
    "    end_close_c[i] = float(frames[company][frames[company]['TRADE_DT'] ==20141231]['S_DQ_ADJCLOSE'])"
   ]
  },
  {
   "cell_type": "code",
   "execution_count": 37,
   "metadata": {
    "collapsed": true
   },
   "outputs": [],
   "source": [
    "# create an empty list to store return for individual company for current qtr\n",
    "com_qtr_return_CURRENT = [None]*len(BEME_ratio_df_2014['WINDCODE']) "
   ]
  },
  {
   "cell_type": "code",
   "execution_count": 38,
   "metadata": {
    "collapsed": true
   },
   "outputs": [],
   "source": [
    "# Calculate quarterly return\n",
    "for i in range(len(BEME_ratio_df_2014['WINDCODE'])):\n",
    "    com_qtr_return_CURRENT[i] = (end_close_c[i] - start_close_c[i])/start_close_c[i]"
   ]
  },
  {
   "cell_type": "code",
   "execution_count": 39,
   "metadata": {
    "collapsed": false
   },
   "outputs": [],
   "source": [
    "index_start_c = float(csi300_IndexData[csi300_IndexData['date'] == '2014-09-30']['last_price']) \n",
    "index_end_c = float(csi300_IndexData[csi300_IndexData['date'] == '2014-12-31']['last_price']) "
   ]
  },
  {
   "cell_type": "code",
   "execution_count": 40,
   "metadata": {
    "collapsed": true
   },
   "outputs": [],
   "source": [
    "index_qtr_return_CURRENT = (index_end_c - index_start_c)/index_start_c # calculate the index quarterly return"
   ]
  },
  {
   "cell_type": "code",
   "execution_count": 41,
   "metadata": {
    "collapsed": false
   },
   "outputs": [
    {
     "data": {
      "text/plain": [
       "0.4454066480680024"
      ]
     },
     "execution_count": 41,
     "metadata": {},
     "output_type": "execute_result"
    }
   ],
   "source": [
    "index_qtr_return_CURRENT"
   ]
  },
  {
   "cell_type": "code",
   "execution_count": 42,
   "metadata": {
    "collapsed": true
   },
   "outputs": [],
   "source": [
    "diff_return_com_csi300_CURRENT = [None]*len(BEME_ratio_df_2014['WINDCODE'])"
   ]
  },
  {
   "cell_type": "code",
   "execution_count": 43,
   "metadata": {
    "collapsed": true
   },
   "outputs": [],
   "source": [
    "for i in range(len(BEME_ratio_df_2014['WINDCODE'])):\n",
    "    diff_return_com_csi300_CURRENT[i] = com_qtr_return_CURRENT[i] - index_qtr_return_CURRENT"
   ]
  },
  {
   "cell_type": "code",
   "execution_count": 44,
   "metadata": {
    "collapsed": false
   },
   "outputs": [
    {
     "data": {
      "text/plain": [
       "[-0.6002058311857696,\n",
       " -0.3644727959279245,\n",
       " 0.1514835816836801,\n",
       " 0.04633763643665456,\n",
       " 0.08947707286223022,\n",
       " -0.5052767331450317,\n",
       " 0.504187015135372,\n",
       " -0.20842551599253065,\n",
       " -0.1932311585828681,\n",
       " 0.2605780685847933]"
      ]
     },
     "execution_count": 44,
     "metadata": {},
     "output_type": "execute_result"
    }
   ],
   "source": [
    "diff_return_com_csi300_CURRENT[0:10]"
   ]
  },
  {
   "cell_type": "code",
   "execution_count": 45,
   "metadata": {
    "collapsed": true
   },
   "outputs": [],
   "source": [
    "Y_2014_Q4 = pd.DataFrame({'Company':BEME_ratio_df_2014['WINDCODE'],'Y':diff_return_com_csi300_CURRENT})"
   ]
  },
  {
   "cell_type": "code",
   "execution_count": 46,
   "metadata": {
    "collapsed": true
   },
   "outputs": [],
   "source": [
    "Y_2014_Q4.to_csv(\"Y_2014_Q4.csv\")"
   ]
  },
  {
   "cell_type": "markdown",
   "metadata": {},
   "source": [
    "##### Y: diff_return_com_csi300_CURRENT"
   ]
  },
  {
   "cell_type": "markdown",
   "metadata": {},
   "source": [
    "#### ************* Result DataFrame *************"
   ]
  },
  {
   "cell_type": "code",
   "execution_count": 26,
   "metadata": {
    "collapsed": false
   },
   "outputs": [
    {
     "ename": "NameError",
     "evalue": "name 'FAST_mean_df' is not defined",
     "output_type": "error",
     "traceback": [
      "\u001b[0;31m---------------------------------------------------------------------------\u001b[0m",
      "\u001b[0;31mNameError\u001b[0m                                 Traceback (most recent call last)",
      "\u001b[0;32m<ipython-input-26-2b3c5b7edcf5>\u001b[0m in \u001b[0;36m<module>\u001b[0;34m()\u001b[0m\n\u001b[0;32m----> 1\u001b[0;31m \u001b[0mTFM_2014_Q4\u001b[0m \u001b[0;34m=\u001b[0m \u001b[0mpd\u001b[0m\u001b[0;34m.\u001b[0m\u001b[0mDataFrame\u001b[0m\u001b[0;34m(\u001b[0m\u001b[0;34m{\u001b[0m\u001b[0;34m'X_1'\u001b[0m\u001b[0;34m:\u001b[0m\u001b[0mnorm_BEME_ratio_list\u001b[0m\u001b[0;34m,\u001b[0m\u001b[0;34m'X_2'\u001b[0m\u001b[0;34m:\u001b[0m\u001b[0mWeighted_Return\u001b[0m\u001b[0;34m[\u001b[0m\u001b[0;34m'norm_diff_csi300_LAST'\u001b[0m\u001b[0;34m]\u001b[0m\u001b[0;34m,\u001b[0m \u001b[0;34m'X_3'\u001b[0m\u001b[0;34m:\u001b[0m \u001b[0mFAST_mean_df\u001b[0m\u001b[0;34m[\u001b[0m\u001b[0;34m'FAST_mean_norm'\u001b[0m\u001b[0;34m]\u001b[0m\u001b[0;34m,\u001b[0m \u001b[0;34m'Y'\u001b[0m\u001b[0;34m:\u001b[0m\u001b[0mdiff_return_com_csi300_CURRENT\u001b[0m\u001b[0;34m}\u001b[0m\u001b[0;34m)\u001b[0m\u001b[0;34m\u001b[0m\u001b[0m\n\u001b[0m",
      "\u001b[0;31mNameError\u001b[0m: name 'FAST_mean_df' is not defined"
     ]
    }
   ],
   "source": [
    "TFM_2014_Q4 = pd.DataFrame({'X_1':norm_BEME_ratio_list,'X_2':Weighted_Return['norm_diff_csi300_LAST'], 'X_3': FAST_mean_df['FAST_mean_norm'], 'Y':diff_return_com_csi300_CURRENT})"
   ]
  },
  {
   "cell_type": "code",
   "execution_count": 56,
   "metadata": {
    "collapsed": false
   },
   "outputs": [],
   "source": [
    "TFM_2014_Q4.to_csv(\"TFM_2014_Q4.csv\")"
   ]
  },
  {
   "cell_type": "markdown",
   "metadata": {},
   "source": [
    "## Clean Data"
   ]
  },
  {
   "cell_type": "code",
   "execution_count": 61,
   "metadata": {
    "collapsed": false
   },
   "outputs": [
    {
     "data": {
      "text/plain": [
       "<matplotlib.text.Text at 0x112fb0990>"
      ]
     },
     "execution_count": 61,
     "metadata": {},
     "output_type": "execute_result"
    },
    {
     "data": {
      "image/png": "[encoded data removed]",
      "text/plain": [
       "<matplotlib.figure.Figure at 0x112d35bd0>"
      ]
     },
     "metadata": {},
     "output_type": "display_data"
    }
   ],
   "source": [
    "plt.hist(TFM_2014_Q4['X_1'], normed=True, bins=30)\n",
    "plt.ylabel('Probability')\n",
    "plt.title(\"Historgram of X1: BEME\")"
   ]
  },
  {
   "cell_type": "code",
   "execution_count": 62,
   "metadata": {
    "collapsed": false
   },
   "outputs": [
    {
     "data": {
      "text/plain": [
       "<matplotlib.text.Text at 0x11311a1d0>"
      ]
     },
     "execution_count": 62,
     "metadata": {},
     "output_type": "execute_result"
    },
    {
     "data": {
      "image/png": "[encoded data removed]",
      "text/plain": [
       "<matplotlib.figure.Figure at 0x1130c25d0>"
      ]
     },
     "metadata": {},
     "output_type": "display_data"
    }
   ],
   "source": [
    "plt.hist(TFM_2014_Q4['X_2'], normed=True, bins=30)\n",
    "plt.ylabel('Probability')\n",
    "plt.title(\"Historgram of X2: Weighted Return\")"
   ]
  },
  {
   "cell_type": "code",
   "execution_count": 63,
   "metadata": {
    "collapsed": false
   },
   "outputs": [
    {
     "data": {
      "text/plain": [
       "<matplotlib.text.Text at 0x113484610>"
      ]
     },
     "execution_count": 63,
     "metadata": {},
     "output_type": "execute_result"
    },
    {
     "data": {
      "image/png": "[encoded data removed]",
      "text/plain": [
       "<matplotlib.figure.Figure at 0x113263410>"
      ]
     },
     "metadata": {},
     "output_type": "display_data"
    }
   ],
   "source": [
    "plt.hist(TFM_2014_Q4['X_3'], normed=True, bins=30)\n",
    "plt.ylabel('Probability')\n",
    "plt.title(\"Historgram of X3:  FAST_mean\")"
   ]
  },
  {
   "cell_type": "code",
   "execution_count": 64,
   "metadata": {
    "collapsed": true
   },
   "outputs": [],
   "source": [
    "def outlier_index(list_name, std_num):\n",
    "    mean = list_name.mean() # mean\n",
    "    std = np.std(list_name, axis=0) # standard deviation\n",
    "    \n",
    "    upper_b = mean+std_num*std\n",
    "    lower_b = mean-std_num*std\n",
    "    \n",
    "    ind_upper = [i for i in range(len(list_name)) if list_name[i] > upper_b]\n",
    "    ind_lower = [i for i in range(len(list_name)) if list_name[i] < lower_b]\n",
    "    outlier_index = ind_upper+ind_lower\n",
    "    \n",
    "    return outlier_index"
   ]
  },
  {
   "cell_type": "code",
   "execution_count": 65,
   "metadata": {
    "collapsed": true
   },
   "outputs": [],
   "source": [
    "outlier_all = outlier_index(TFM_2014_Q4['X_1'], 5) + outlier_index(TFM_2014_Q4['X_2'], 5)+ outlier_index(TFM_2014_Q4['X_3'], 5)+ outlier_index(TFM_2014_Q4['Y'], 5)"
   ]
  },
  {
   "cell_type": "code",
   "execution_count": 67,
   "metadata": {
    "collapsed": false
   },
   "outputs": [],
   "source": [
    "TFM_2014_Q4_NO = TFM_2014_Q4.drop(TFM_2014_Q4.index[outlier_all])"
   ]
  },
  {
   "cell_type": "code",
   "execution_count": 71,
   "metadata": {
    "collapsed": false
   },
   "outputs": [],
   "source": [
    "TFM_2014_Q4_NO.to_csv(\"TFM_2014_Q4_NO.csv\")"
   ]
  },
  {
   "cell_type": "markdown",
   "metadata": {},
   "source": [
    "# ************* Result DataFrame: TFM_2014_Q4_NO.csv *************"
   ]
  },
  {
   "cell_type": "markdown",
   "metadata": {},
   "source": [
    "### Model Fit (unimportant)"
   ]
  },
  {
   "cell_type": "code",
   "execution_count": 59,
   "metadata": {
    "collapsed": true
   },
   "outputs": [],
   "source": [
    "# Model Prep\n",
    "Y = diff_return_com_csi300_CURRENT\n",
    "X_1 = norm_BEME_ratio_list\n",
    "X_2 = norm_diff_csi300_LAST\n",
    "X_3 = FAST_mean_list"
   ]
  },
  {
   "cell_type": "code",
   "execution_count": 60,
   "metadata": {
    "collapsed": true
   },
   "outputs": [],
   "source": [
    "X1_matrix = np.column_stack((X_1, X_2, X_3))"
   ]
  },
  {
   "cell_type": "code",
   "execution_count": 63,
   "metadata": {
    "collapsed": false
   },
   "outputs": [],
   "source": [
    "Y1_matrix = np.array(Y)[:,np.newaxis] # matrix Y1: 268*1"
   ]
  },
  {
   "cell_type": "code",
   "execution_count": 66,
   "metadata": {
    "collapsed": false
   },
   "outputs": [],
   "source": [
    "# save as csv\n",
    "pd.DataFrame(X1_matrix).to_csv(\"X1_test.csv\") \n",
    "pd.DataFrame(Y1_matrix).to_csv(\"Y1_test.csv\") "
   ]
  },
  {
   "cell_type": "code",
   "execution_count": null,
   "metadata": {
    "collapsed": true
   },
   "outputs": [],
   "source": []
  }
 ],
 "metadata": {
  "anaconda-cloud": {},
  "kernelspec": {
   "display_name": "Python [conda root]",
   "language": "python",
   "name": "conda-root-py"
  },
  "language_info": {
   "codemirror_mode": {
    "name": "ipython",
    "version": 2
   },
   "file_extension": ".py",
   "mimetype": "text/x-python",
   "name": "python",
   "nbconvert_exporter": "python",
   "pygments_lexer": "ipython2",
   "version": "2.7.12"
  }
 },
 "nbformat": 4,
 "nbformat_minor": 1
}
