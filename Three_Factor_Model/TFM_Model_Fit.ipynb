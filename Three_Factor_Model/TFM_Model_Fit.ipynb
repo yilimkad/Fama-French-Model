{
 "cells": [
  {
   "cell_type": "code",
   "execution_count": 2,
   "metadata": {
    "collapsed": true
   },
   "outputs": [],
   "source": [
    "import pandas as pd\n",
    "import glob\n",
    "import os\n",
    "import numpy as np\n",
    "from sklearn import linear_model\n",
    "import matplotlib.pyplot as plt\n",
    "%matplotlib inline"
   ]
  },
  {
   "cell_type": "code",
   "execution_count": 3,
   "metadata": {
    "collapsed": false
   },
   "outputs": [],
   "source": [
    "TFM_2014_Q2_NO = pd.read_csv(\"/Users/yiliwang/Documents/ACR Internship/Three_Factor_Model/2014_Q2/TFM_2014_Q2_NO.csv\", header=0)\n",
    "TFM_2014_Q3_NO = pd.read_csv(\"/Users/yiliwang/Documents/ACR Internship/Three_Factor_Model/2014_Q3/TFM_2014_Q3_NO.csv\", header=0)\n",
    "TFM_2014_Q4_NO = pd.read_csv(\"/Users/yiliwang/Documents/ACR Internship/Three_Factor_Model/2014_Q4/TFM_2014_Q4_NO.csv\", header=0)\n",
    "TFM_2015_Q1_NO = pd.read_csv(\"/Users/yiliwang/Documents/ACR Internship/Three_Factor_Model/2015_Q1/TFM_2015_Q1_NO.csv\", header=0)\n",
    "TFM_2015_Q2_NO = pd.read_csv(\"/Users/yiliwang/Documents/ACR Internship/Three_Factor_Model/2015_Q2/TFM_2015_Q2_NO.csv\", header=0)"
   ]
  },
  {
   "cell_type": "code",
   "execution_count": 4,
   "metadata": {
    "collapsed": false
   },
   "outputs": [],
   "source": [
    "df0 = pd.concat([TFM_2014_Q2_NO, TFM_2014_Q3_NO,TFM_2014_Q4_NO,TFM_2015_Q1_NO,TFM_2015_Q2_NO], ignore_index=True)"
   ]
  },
  {
   "cell_type": "code",
   "execution_count": 6,
   "metadata": {
    "collapsed": false
   },
   "outputs": [
    {
     "data": {
      "text/plain": [
       "(1318, 5)"
      ]
     },
     "execution_count": 6,
     "metadata": {},
     "output_type": "execute_result"
    }
   ],
   "source": [
    "df0.shape"
   ]
  },
  {
   "cell_type": "code",
   "execution_count": 7,
   "metadata": {
    "collapsed": false
   },
   "outputs": [],
   "source": [
    "x_matrix = np.column_stack((df0['X_1'], df0['X_2'],df0['X_3']))"
   ]
  },
  {
   "cell_type": "code",
   "execution_count": 8,
   "metadata": {
    "collapsed": false
   },
   "outputs": [
    {
     "data": {
      "text/plain": [
       "array([[-0.94371476,  0.48633748, -0.17638167],\n",
       "       [-0.66321463, -0.41250059, -0.2735711 ],\n",
       "       [ 0.83151057, -0.38167653,  1.44961656],\n",
       "       ..., \n",
       "       [-0.43876236, -0.1120193 , -0.33896734],\n",
       "       [ 0.72746328, -0.78445668,  0.00190067],\n",
       "       [-0.57320912, -0.40179218, -0.19761626]])"
      ]
     },
     "execution_count": 8,
     "metadata": {},
     "output_type": "execute_result"
    }
   ],
   "source": [
    "x_matrix"
   ]
  },
  {
   "cell_type": "code",
   "execution_count": 9,
   "metadata": {
    "collapsed": false
   },
   "outputs": [],
   "source": [
    "y_matrix = np.array(df0['Y'])[:,np.newaxis]"
   ]
  },
  {
   "cell_type": "code",
   "execution_count": 10,
   "metadata": {
    "collapsed": false
   },
   "outputs": [
    {
     "data": {
      "text/plain": [
       "LinearRegression(copy_X=True, fit_intercept=True, n_jobs=1, normalize=False)"
      ]
     },
     "execution_count": 10,
     "metadata": {},
     "output_type": "execute_result"
    }
   ],
   "source": [
    "clf = linear_model.LinearRegression()\n",
    "clf.fit(x_matrix,y_matrix)"
   ]
  },
  {
   "cell_type": "code",
   "execution_count": 11,
   "metadata": {
    "collapsed": false
   },
   "outputs": [
    {
     "data": {
      "text/plain": [
       "array([[ 0.0355872 , -0.02780816, -0.04906042]])"
      ]
     },
     "execution_count": 11,
     "metadata": {},
     "output_type": "execute_result"
    }
   ],
   "source": [
    "clf.coef_"
   ]
  },
  {
   "cell_type": "code",
   "execution_count": 12,
   "metadata": {
    "collapsed": true
   },
   "outputs": [],
   "source": [
    "x_test = np.column_stack((TFM_2015_Q2_NO['X_1'], TFM_2015_Q2_NO['X_2'],TFM_2015_Q2_NO['X_3']))"
   ]
  },
  {
   "cell_type": "code",
   "execution_count": 13,
   "metadata": {
    "collapsed": true
   },
   "outputs": [],
   "source": [
    "y_test =  np.array(TFM_2015_Q2_NO['Y'])[:,np.newaxis]"
   ]
  },
  {
   "cell_type": "code",
   "execution_count": 14,
   "metadata": {
    "collapsed": false
   },
   "outputs": [
    {
     "data": {
      "text/plain": [
       "-0.0020255290860684561"
      ]
     },
     "execution_count": 14,
     "metadata": {},
     "output_type": "execute_result"
    }
   ],
   "source": [
    "clf.score(x_test, y_test, sample_weight=None)"
   ]
  },
  {
   "cell_type": "code",
   "execution_count": null,
   "metadata": {
    "collapsed": true
   },
   "outputs": [],
   "source": []
  }
 ],
 "metadata": {
  "anaconda-cloud": {},
  "kernelspec": {
   "display_name": "Python [conda root]",
   "language": "python",
   "name": "conda-root-py"
  },
  "language_info": {
   "codemirror_mode": {
    "name": "ipython",
    "version": 2
   },
   "file_extension": ".py",
   "mimetype": "text/x-python",
   "name": "python",
   "nbconvert_exporter": "python",
   "pygments_lexer": "ipython2",
   "version": "2.7.12"
  }
 },
 "nbformat": 4,
 "nbformat_minor": 1
}
