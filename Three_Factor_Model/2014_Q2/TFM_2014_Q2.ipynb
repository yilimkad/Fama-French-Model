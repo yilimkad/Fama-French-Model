{
 "cells": [
  {
   "cell_type": "markdown",
   "metadata": {},
   "source": [
    "# Time Period: 20140331-20140630"
   ]
  },
  {
   "cell_type": "code",
   "execution_count": 1,
   "metadata": {
    "collapsed": true
   },
   "outputs": [],
   "source": [
    "import pandas as pd\n",
    "import glob\n",
    "import os\n",
    "import numpy as np\n",
    "from sklearn import linear_model\n",
    "import matplotlib.pyplot as plt\n",
    "%matplotlib inline"
   ]
  },
  {
   "cell_type": "markdown",
   "metadata": {},
   "source": [
    "### X1: BE/ME Ratio in 2014 (same throughout the year)"
   ]
  },
  {
   "cell_type": "code",
   "execution_count": 3,
   "metadata": {
    "collapsed": true
   },
   "outputs": [],
   "source": [
    "AShareEODDerivativeIndicator = pd.read_csv(\"/Users/yiliwang/Documents/ACR Internship/Supplementary datasets/EODDerivativeIndicator.csv\", header=0)\n",
    "BEME_ratio_df_2014 = pd.read_csv(\"/Users/yiliwang/Documents/ACR Internship/Intermediate Files/BEME_ratio_df_2014.csv\", header=0)\n",
    "norm_BEME_ratio_list = list(BEME_ratio_df_2014['norm_BEME_ratio'])# 268 companies available total"
   ]
  },
  {
   "cell_type": "markdown",
   "metadata": {},
   "source": [
    "### X2: Last Quarter Return: 2014 Q1\n",
    "\n",
    "Duration: 20140102 - 20140331\n",
    "\n",
    "return = [SP(20140331) - SP(20131231)]/SP(20131231)\n",
    "\n",
    "sample pool: companies in BEME_ratio_df['WINDCODE']"
   ]
  },
  {
   "cell_type": "code",
   "execution_count": 4,
   "metadata": {
    "collapsed": true
   },
   "outputs": [],
   "source": [
    "os.chdir('/Users/yiliwang/Documents/ACR Internship/data/')\n",
    "files = [file for file in os.listdir( os.curdir ) if file.endswith(\".csv\")]\n",
    "frames = {}\n",
    "for each_file in files:\n",
    "    frames[os.path.splitext(each_file)[0]] = pd.read_csv(each_file)"
   ]
  },
  {
   "cell_type": "code",
   "execution_count": 5,
   "metadata": {
    "collapsed": true
   },
   "outputs": [],
   "source": [
    "start_close = [None]*len(BEME_ratio_df_2014['WINDCODE'])\n",
    "end_close = [None]*len(BEME_ratio_df_2014['WINDCODE'])"
   ]
  },
  {
   "cell_type": "code",
   "execution_count": 18,
   "metadata": {
    "collapsed": false
   },
   "outputs": [],
   "source": [
    "for i in range(len(BEME_ratio_df_2014['WINDCODE'])):\n",
    "    company = BEME_ratio_df_2014['WINDCODE'][i]\n",
    "    start_close[i] =float(frames[company][frames[company]['TRADE_DT'] == 20131231]['S_DQ_ADJCLOSE'])\n",
    "    end_close[i] = float(frames[company][frames[company]['TRADE_DT'] == 20140331]['S_DQ_ADJCLOSE'])"
   ]
  },
  {
   "cell_type": "code",
   "execution_count": 20,
   "metadata": {
    "collapsed": false,
    "scrolled": false
   },
   "outputs": [],
   "source": [
    "com_qtr_return = [None]*len(BEME_ratio_df_2014['WINDCODE'])"
   ]
  },
  {
   "cell_type": "code",
   "execution_count": 21,
   "metadata": {
    "collapsed": true
   },
   "outputs": [],
   "source": [
    "# Calculate quarterly return\n",
    "for i in range(len(BEME_ratio_df_2014['WINDCODE'])):\n",
    "    com_qtr_return[i] = (end_close[i] - start_close[i])/start_close[i]"
   ]
  },
  {
   "cell_type": "code",
   "execution_count": 22,
   "metadata": {
    "collapsed": true
   },
   "outputs": [],
   "source": [
    "csi300_IndexData= pd.read_csv(\"/Users/yiliwang/Documents/ACR Internship/csi_300_IndexData_daily_.csv\", header=0)"
   ]
  },
  {
   "cell_type": "code",
   "execution_count": 23,
   "metadata": {
    "collapsed": false
   },
   "outputs": [],
   "source": [
    "index_start = float(csi300_IndexData[csi300_IndexData['date'] == '2014-01-02']['last_price']) # index price on start day\n",
    "index_end = float(csi300_IndexData[csi300_IndexData['date'] == '2014-03-31']['last_price'])  # index price on end day"
   ]
  },
  {
   "cell_type": "code",
   "execution_count": 24,
   "metadata": {
    "collapsed": true
   },
   "outputs": [],
   "source": [
    "index_qtr_return = (index_end - index_start)/index_start # calculate the index quarterly return"
   ]
  },
  {
   "cell_type": "code",
   "execution_count": 25,
   "metadata": {
    "collapsed": false
   },
   "outputs": [
    {
     "name": "stdout",
     "output_type": "stream",
     "text": [
      "-0.0756507697276\n"
     ]
    }
   ],
   "source": [
    "print index_qtr_return"
   ]
  },
  {
   "cell_type": "code",
   "execution_count": 26,
   "metadata": {
    "collapsed": true
   },
   "outputs": [],
   "source": [
    "diff_return_com_csi300 = [None]*len(BEME_ratio_df_2014['WINDCODE'])"
   ]
  },
  {
   "cell_type": "code",
   "execution_count": 27,
   "metadata": {
    "collapsed": true
   },
   "outputs": [],
   "source": [
    "for i in range(len(BEME_ratio_df_2014['WINDCODE'])):\n",
    "    diff_return_com_csi300[i] = com_qtr_return[i] - index_qtr_return"
   ]
  },
  {
   "cell_type": "code",
   "execution_count": 28,
   "metadata": {
    "collapsed": true
   },
   "outputs": [],
   "source": [
    "Weighted_Return = pd.DataFrame({'Company':BEME_ratio_df_2014['WINDCODE'],'diff_csi300_LAST': diff_return_com_csi300})"
   ]
  },
  {
   "cell_type": "code",
   "execution_count": 29,
   "metadata": {
    "collapsed": true
   },
   "outputs": [],
   "source": [
    "# Normalize Function\n",
    "def normalize_list(input_list):\n",
    "    empty_list = [None]*len(input_list)\n",
    "    for i in range(len(input_list)):\n",
    "        empty_list[i] = (input_list[i]-input_list.mean())/input_list.std()\n",
    "    return empty_list"
   ]
  },
  {
   "cell_type": "code",
   "execution_count": 30,
   "metadata": {
    "collapsed": true
   },
   "outputs": [],
   "source": [
    "Weighted_Return['norm_diff_csi300_LAST'] = normalize_list(Weighted_Return['diff_csi300_LAST'])"
   ]
  },
  {
   "cell_type": "code",
   "execution_count": 32,
   "metadata": {
    "collapsed": false
   },
   "outputs": [],
   "source": [
    "Weighted_Return.to_csv(\"LAST_Weighted_Return_2014_Q2.csv\")"
   ]
  },
  {
   "cell_type": "code",
   "execution_count": 33,
   "metadata": {
    "collapsed": true
   },
   "outputs": [],
   "source": [
    "###### X2: norm_diff_csi300_LAST"
   ]
  },
  {
   "cell_type": "markdown",
   "metadata": {},
   "source": [
    "### 3. AShareEODDerivativeIndicator['FLOAT_A_SHR_TODAY']\n",
    "total free-float shares per day * unadjusted close price"
   ]
  },
  {
   "cell_type": "code",
   "execution_count": 34,
   "metadata": {
    "collapsed": true
   },
   "outputs": [],
   "source": [
    "# Extract trading dates of certain period \n",
    "dates_trade = frames['000001.SZ']['TRADE_DT'].unique()\n",
    "dates_trade.sort() # sort the date"
   ]
  },
  {
   "cell_type": "code",
   "execution_count": 35,
   "metadata": {
    "collapsed": true
   },
   "outputs": [],
   "source": [
    "start_dateind = list(dates_trade).index(20140331) # index of start date\n",
    "end_dateind = list(dates_trade).index(20140630) # index of end date"
   ]
  },
  {
   "cell_type": "code",
   "execution_count": 36,
   "metadata": {
    "collapsed": true
   },
   "outputs": [],
   "source": [
    "target_dates = dates_trade[start_dateind:end_dateind+1]"
   ]
  },
  {
   "cell_type": "code",
   "execution_count": 37,
   "metadata": {
    "collapsed": false
   },
   "outputs": [
    {
     "data": {
      "text/plain": [
       "array([20140331, 20140401, 20140402, 20140403, 20140404, 20140408,\n",
       "       20140409, 20140410, 20140411, 20140414, 20140415, 20140416,\n",
       "       20140417, 20140418, 20140421, 20140422, 20140423, 20140424,\n",
       "       20140425, 20140428, 20140429, 20140430, 20140505, 20140506,\n",
       "       20140507, 20140508, 20140509, 20140512, 20140513, 20140514,\n",
       "       20140515, 20140516, 20140519, 20140520, 20140521, 20140522,\n",
       "       20140523, 20140526, 20140527, 20140528, 20140529, 20140530,\n",
       "       20140603, 20140604, 20140605, 20140606, 20140609, 20140610,\n",
       "       20140611, 20140612, 20140613, 20140616, 20140617, 20140618,\n",
       "       20140619, 20140620, 20140623, 20140624, 20140625, 20140626,\n",
       "       20140627, 20140630])"
      ]
     },
     "execution_count": 37,
     "metadata": {},
     "output_type": "execute_result"
    }
   ],
   "source": [
    "target_dates"
   ]
  },
  {
   "cell_type": "code",
   "execution_count": 38,
   "metadata": {
    "collapsed": true
   },
   "outputs": [],
   "source": [
    "def find_FAST_mean(company): # For a given company, calculate mean of FLOAT_A_SHR_TODAY *close price (unadjusted) on trading days\n",
    "    FAST_product = [None]*len(target_dates)\n",
    "    \n",
    "    for i in range(len(target_dates)):\n",
    "        close_p = frames[company][frames[company]['TRADE_DT'] == target_dates[i]]['S_DQ_CLOSE'].values # get close price on a particular date\n",
    "        \n",
    "        # dataframe of the company\n",
    "        df_company = AShareEODDerivativeIndicator[AShareEODDerivativeIndicator['S_INFO_WINDCODE'] ==company]\n",
    "        FAST_day = float(df_company[df_company['TRADE_DT']==target_dates[i]]['FLOAT_A_SHR_TODAY']) #FLOAT_A_SHR_TODAY of a particular day\n",
    "        \n",
    "        FAST_product[i] = FAST_day*close_p\n",
    "        \n",
    "    FAST_mean = np.mean(FAST_product)\n",
    "    return FAST_mean"
   ]
  },
  {
   "cell_type": "code",
   "execution_count": 39,
   "metadata": {
    "collapsed": true
   },
   "outputs": [],
   "source": [
    "FAST_mean_list = [find_FAST_mean(company) for company in BEME_ratio_df_2014['WINDCODE']]"
   ]
  },
  {
   "cell_type": "code",
   "execution_count": 40,
   "metadata": {
    "collapsed": true
   },
   "outputs": [],
   "source": [
    "FAST_mean_df = pd.DataFrame({'Company':BEME_ratio_df_2014['WINDCODE'],'FAST_mean':FAST_mean_list})"
   ]
  },
  {
   "cell_type": "code",
   "execution_count": 41,
   "metadata": {
    "collapsed": true
   },
   "outputs": [],
   "source": [
    "FAST_mean_df['FAST_mean_norm'] = normalize_list(FAST_mean_df['FAST_mean'])"
   ]
  },
  {
   "cell_type": "code",
   "execution_count": 42,
   "metadata": {
    "collapsed": false,
    "scrolled": true
   },
   "outputs": [
    {
     "data": {
      "text/html": [
       "<div>\n",
       "<table border=\"1\" class=\"dataframe\">\n",
       "  <thead>\n",
       "    <tr style=\"text-align: right;\">\n",
       "      <th></th>\n",
       "      <th>Company</th>\n",
       "      <th>FAST_mean</th>\n",
       "      <th>FAST_mean_norm</th>\n",
       "    </tr>\n",
       "  </thead>\n",
       "  <tbody>\n",
       "    <tr>\n",
       "      <th>0</th>\n",
       "      <td>002475.SZ</td>\n",
       "      <td>2.246709e+06</td>\n",
       "      <td>-0.176382</td>\n",
       "    </tr>\n",
       "    <tr>\n",
       "      <th>1</th>\n",
       "      <td>002470.SZ</td>\n",
       "      <td>1.138795e+06</td>\n",
       "      <td>-0.273571</td>\n",
       "    </tr>\n",
       "    <tr>\n",
       "      <th>2</th>\n",
       "      <td>600036.SH</td>\n",
       "      <td>2.078233e+07</td>\n",
       "      <td>1.449617</td>\n",
       "    </tr>\n",
       "    <tr>\n",
       "      <th>3</th>\n",
       "      <td>002146.SZ</td>\n",
       "      <td>1.789176e+06</td>\n",
       "      <td>-0.216518</td>\n",
       "    </tr>\n",
       "    <tr>\n",
       "      <th>4</th>\n",
       "      <td>601988.SH</td>\n",
       "      <td>5.214953e+07</td>\n",
       "      <td>4.201238</td>\n",
       "    </tr>\n",
       "    <tr>\n",
       "      <th>5</th>\n",
       "      <td>000895.SZ</td>\n",
       "      <td>4.429710e+06</td>\n",
       "      <td>0.015117</td>\n",
       "    </tr>\n",
       "    <tr>\n",
       "      <th>6</th>\n",
       "      <td>600048.SH</td>\n",
       "      <td>5.402829e+06</td>\n",
       "      <td>0.100482</td>\n",
       "    </tr>\n",
       "    <tr>\n",
       "      <th>7</th>\n",
       "      <td>000718.SZ</td>\n",
       "      <td>6.283123e+05</td>\n",
       "      <td>-0.318352</td>\n",
       "    </tr>\n",
       "    <tr>\n",
       "      <th>8</th>\n",
       "      <td>002304.SZ</td>\n",
       "      <td>4.732042e+06</td>\n",
       "      <td>0.041639</td>\n",
       "    </tr>\n",
       "    <tr>\n",
       "      <th>9</th>\n",
       "      <td>600031.SH</td>\n",
       "      <td>4.054059e+06</td>\n",
       "      <td>-0.017836</td>\n",
       "    </tr>\n",
       "    <tr>\n",
       "      <th>10</th>\n",
       "      <td>601688.SH</td>\n",
       "      <td>4.440218e+06</td>\n",
       "      <td>0.016039</td>\n",
       "    </tr>\n",
       "    <tr>\n",
       "      <th>11</th>\n",
       "      <td>002230.SZ</td>\n",
       "      <td>1.454241e+06</td>\n",
       "      <td>-0.245899</td>\n",
       "    </tr>\n",
       "    <tr>\n",
       "      <th>12</th>\n",
       "      <td>000750.SZ</td>\n",
       "      <td>5.782730e+05</td>\n",
       "      <td>-0.322742</td>\n",
       "    </tr>\n",
       "    <tr>\n",
       "      <th>13</th>\n",
       "      <td>601989.SH</td>\n",
       "      <td>7.099208e+06</td>\n",
       "      <td>0.249294</td>\n",
       "    </tr>\n",
       "    <tr>\n",
       "      <th>14</th>\n",
       "      <td>601818.SH</td>\n",
       "      <td>9.915990e+06</td>\n",
       "      <td>0.496390</td>\n",
       "    </tr>\n",
       "    <tr>\n",
       "      <th>15</th>\n",
       "      <td>000009.SZ</td>\n",
       "      <td>1.286461e+06</td>\n",
       "      <td>-0.260617</td>\n",
       "    </tr>\n",
       "    <tr>\n",
       "      <th>16</th>\n",
       "      <td>600446.SH</td>\n",
       "      <td>7.330267e+05</td>\n",
       "      <td>-0.309166</td>\n",
       "    </tr>\n",
       "    <tr>\n",
       "      <th>17</th>\n",
       "      <td>600583.SH</td>\n",
       "      <td>2.863632e+06</td>\n",
       "      <td>-0.122263</td>\n",
       "    </tr>\n",
       "    <tr>\n",
       "      <th>18</th>\n",
       "      <td>601618.SH</td>\n",
       "      <td>2.760892e+06</td>\n",
       "      <td>-0.131276</td>\n",
       "    </tr>\n",
       "    <tr>\n",
       "      <th>19</th>\n",
       "      <td>000876.SZ</td>\n",
       "      <td>1.290618e+06</td>\n",
       "      <td>-0.260253</td>\n",
       "    </tr>\n",
       "    <tr>\n",
       "      <th>20</th>\n",
       "      <td>002252.SZ</td>\n",
       "      <td>3.014246e+06</td>\n",
       "      <td>-0.109051</td>\n",
       "    </tr>\n",
       "    <tr>\n",
       "      <th>21</th>\n",
       "      <td>601933.SH</td>\n",
       "      <td>1.880686e+06</td>\n",
       "      <td>-0.208490</td>\n",
       "    </tr>\n",
       "    <tr>\n",
       "      <th>22</th>\n",
       "      <td>002049.SZ</td>\n",
       "      <td>4.546157e+05</td>\n",
       "      <td>-0.333589</td>\n",
       "    </tr>\n",
       "    <tr>\n",
       "      <th>23</th>\n",
       "      <td>600118.SH</td>\n",
       "      <td>2.002545e+06</td>\n",
       "      <td>-0.197800</td>\n",
       "    </tr>\n",
       "    <tr>\n",
       "      <th>24</th>\n",
       "      <td>300027.SZ</td>\n",
       "      <td>1.873810e+06</td>\n",
       "      <td>-0.209093</td>\n",
       "    </tr>\n",
       "    <tr>\n",
       "      <th>25</th>\n",
       "      <td>600606.SH</td>\n",
       "      <td>4.123069e+05</td>\n",
       "      <td>-0.337301</td>\n",
       "    </tr>\n",
       "    <tr>\n",
       "      <th>26</th>\n",
       "      <td>601169.SH</td>\n",
       "      <td>5.791030e+06</td>\n",
       "      <td>0.134536</td>\n",
       "    </tr>\n",
       "    <tr>\n",
       "      <th>27</th>\n",
       "      <td>600804.SH</td>\n",
       "      <td>1.879790e+06</td>\n",
       "      <td>-0.208569</td>\n",
       "    </tr>\n",
       "    <tr>\n",
       "      <th>28</th>\n",
       "      <td>300168.SZ</td>\n",
       "      <td>9.313178e+05</td>\n",
       "      <td>-0.291772</td>\n",
       "    </tr>\n",
       "    <tr>\n",
       "      <th>29</th>\n",
       "      <td>000728.SZ</td>\n",
       "      <td>1.890193e+06</td>\n",
       "      <td>-0.207656</td>\n",
       "    </tr>\n",
       "    <tr>\n",
       "      <th>...</th>\n",
       "      <td>...</td>\n",
       "      <td>...</td>\n",
       "      <td>...</td>\n",
       "    </tr>\n",
       "    <tr>\n",
       "      <th>238</th>\n",
       "      <td>002183.SZ</td>\n",
       "      <td>7.077824e+05</td>\n",
       "      <td>-0.311381</td>\n",
       "    </tr>\n",
       "    <tr>\n",
       "      <th>239</th>\n",
       "      <td>601601.SH</td>\n",
       "      <td>1.052769e+07</td>\n",
       "      <td>0.550050</td>\n",
       "    </tr>\n",
       "    <tr>\n",
       "      <th>240</th>\n",
       "      <td>600816.SH</td>\n",
       "      <td>6.595901e+05</td>\n",
       "      <td>-0.315608</td>\n",
       "    </tr>\n",
       "    <tr>\n",
       "      <th>241</th>\n",
       "      <td>000630.SZ</td>\n",
       "      <td>1.308563e+06</td>\n",
       "      <td>-0.258679</td>\n",
       "    </tr>\n",
       "    <tr>\n",
       "      <th>242</th>\n",
       "      <td>600019.SH</td>\n",
       "      <td>6.483955e+06</td>\n",
       "      <td>0.195322</td>\n",
       "    </tr>\n",
       "    <tr>\n",
       "      <th>243</th>\n",
       "      <td>601216.SH</td>\n",
       "      <td>1.407236e+06</td>\n",
       "      <td>-0.250023</td>\n",
       "    </tr>\n",
       "    <tr>\n",
       "      <th>244</th>\n",
       "      <td>002152.SZ</td>\n",
       "      <td>1.314706e+06</td>\n",
       "      <td>-0.258140</td>\n",
       "    </tr>\n",
       "    <tr>\n",
       "      <th>245</th>\n",
       "      <td>600895.SH</td>\n",
       "      <td>1.025382e+06</td>\n",
       "      <td>-0.283520</td>\n",
       "    </tr>\n",
       "    <tr>\n",
       "      <th>246</th>\n",
       "      <td>601857.SH</td>\n",
       "      <td>1.227813e+08</td>\n",
       "      <td>10.397264</td>\n",
       "    </tr>\n",
       "    <tr>\n",
       "      <th>247</th>\n",
       "      <td>600150.SH</td>\n",
       "      <td>2.686062e+06</td>\n",
       "      <td>-0.137840</td>\n",
       "    </tr>\n",
       "    <tr>\n",
       "      <th>248</th>\n",
       "      <td>002153.SZ</td>\n",
       "      <td>7.477031e+05</td>\n",
       "      <td>-0.307879</td>\n",
       "    </tr>\n",
       "    <tr>\n",
       "      <th>249</th>\n",
       "      <td>000839.SZ</td>\n",
       "      <td>1.032974e+06</td>\n",
       "      <td>-0.282854</td>\n",
       "    </tr>\n",
       "    <tr>\n",
       "      <th>250</th>\n",
       "      <td>000963.SZ</td>\n",
       "      <td>1.320019e+06</td>\n",
       "      <td>-0.257674</td>\n",
       "    </tr>\n",
       "    <tr>\n",
       "      <th>251</th>\n",
       "      <td>601766.SH</td>\n",
       "      <td>4.437728e+06</td>\n",
       "      <td>0.015821</td>\n",
       "    </tr>\n",
       "    <tr>\n",
       "      <th>252</th>\n",
       "      <td>000709.SZ</td>\n",
       "      <td>9.472814e+05</td>\n",
       "      <td>-0.290371</td>\n",
       "    </tr>\n",
       "    <tr>\n",
       "      <th>253</th>\n",
       "      <td>600685.SH</td>\n",
       "      <td>7.494331e+05</td>\n",
       "      <td>-0.307727</td>\n",
       "    </tr>\n",
       "    <tr>\n",
       "      <th>254</th>\n",
       "      <td>600406.SH</td>\n",
       "      <td>3.008683e+06</td>\n",
       "      <td>-0.109539</td>\n",
       "    </tr>\n",
       "    <tr>\n",
       "      <th>255</th>\n",
       "      <td>600741.SH</td>\n",
       "      <td>2.470539e+06</td>\n",
       "      <td>-0.156747</td>\n",
       "    </tr>\n",
       "    <tr>\n",
       "      <th>256</th>\n",
       "      <td>002008.SZ</td>\n",
       "      <td>1.527734e+06</td>\n",
       "      <td>-0.239452</td>\n",
       "    </tr>\n",
       "    <tr>\n",
       "      <th>257</th>\n",
       "      <td>600373.SH</td>\n",
       "      <td>1.403909e+06</td>\n",
       "      <td>-0.250315</td>\n",
       "    </tr>\n",
       "    <tr>\n",
       "      <th>258</th>\n",
       "      <td>600482.SH</td>\n",
       "      <td>4.754471e+05</td>\n",
       "      <td>-0.331762</td>\n",
       "    </tr>\n",
       "    <tr>\n",
       "      <th>259</th>\n",
       "      <td>600010.SH</td>\n",
       "      <td>2.977782e+06</td>\n",
       "      <td>-0.112250</td>\n",
       "    </tr>\n",
       "    <tr>\n",
       "      <th>260</th>\n",
       "      <td>601336.SH</td>\n",
       "      <td>2.256226e+06</td>\n",
       "      <td>-0.175547</td>\n",
       "    </tr>\n",
       "    <tr>\n",
       "      <th>261</th>\n",
       "      <td>002456.SZ</td>\n",
       "      <td>1.586761e+06</td>\n",
       "      <td>-0.234274</td>\n",
       "    </tr>\n",
       "    <tr>\n",
       "      <th>262</th>\n",
       "      <td>600570.SH</td>\n",
       "      <td>1.662683e+06</td>\n",
       "      <td>-0.227614</td>\n",
       "    </tr>\n",
       "    <tr>\n",
       "      <th>263</th>\n",
       "      <td>600060.SH</td>\n",
       "      <td>1.399062e+06</td>\n",
       "      <td>-0.250740</td>\n",
       "    </tr>\n",
       "    <tr>\n",
       "      <th>264</th>\n",
       "      <td>600415.SH</td>\n",
       "      <td>1.427659e+06</td>\n",
       "      <td>-0.248231</td>\n",
       "    </tr>\n",
       "    <tr>\n",
       "      <th>265</th>\n",
       "      <td>300024.SZ</td>\n",
       "      <td>1.505524e+06</td>\n",
       "      <td>-0.241401</td>\n",
       "    </tr>\n",
       "    <tr>\n",
       "      <th>266</th>\n",
       "      <td>600208.SH</td>\n",
       "      <td>1.853521e+06</td>\n",
       "      <td>-0.210873</td>\n",
       "    </tr>\n",
       "    <tr>\n",
       "      <th>267</th>\n",
       "      <td>300251.SZ</td>\n",
       "      <td>5.907754e+05</td>\n",
       "      <td>-0.321645</td>\n",
       "    </tr>\n",
       "  </tbody>\n",
       "</table>\n",
       "<p>268 rows × 3 columns</p>\n",
       "</div>"
      ],
      "text/plain": [
       "       Company     FAST_mean  FAST_mean_norm\n",
       "0    002475.SZ  2.246709e+06       -0.176382\n",
       "1    002470.SZ  1.138795e+06       -0.273571\n",
       "2    600036.SH  2.078233e+07        1.449617\n",
       "3    002146.SZ  1.789176e+06       -0.216518\n",
       "4    601988.SH  5.214953e+07        4.201238\n",
       "5    000895.SZ  4.429710e+06        0.015117\n",
       "6    600048.SH  5.402829e+06        0.100482\n",
       "7    000718.SZ  6.283123e+05       -0.318352\n",
       "8    002304.SZ  4.732042e+06        0.041639\n",
       "9    600031.SH  4.054059e+06       -0.017836\n",
       "10   601688.SH  4.440218e+06        0.016039\n",
       "11   002230.SZ  1.454241e+06       -0.245899\n",
       "12   000750.SZ  5.782730e+05       -0.322742\n",
       "13   601989.SH  7.099208e+06        0.249294\n",
       "14   601818.SH  9.915990e+06        0.496390\n",
       "15   000009.SZ  1.286461e+06       -0.260617\n",
       "16   600446.SH  7.330267e+05       -0.309166\n",
       "17   600583.SH  2.863632e+06       -0.122263\n",
       "18   601618.SH  2.760892e+06       -0.131276\n",
       "19   000876.SZ  1.290618e+06       -0.260253\n",
       "20   002252.SZ  3.014246e+06       -0.109051\n",
       "21   601933.SH  1.880686e+06       -0.208490\n",
       "22   002049.SZ  4.546157e+05       -0.333589\n",
       "23   600118.SH  2.002545e+06       -0.197800\n",
       "24   300027.SZ  1.873810e+06       -0.209093\n",
       "25   600606.SH  4.123069e+05       -0.337301\n",
       "26   601169.SH  5.791030e+06        0.134536\n",
       "27   600804.SH  1.879790e+06       -0.208569\n",
       "28   300168.SZ  9.313178e+05       -0.291772\n",
       "29   000728.SZ  1.890193e+06       -0.207656\n",
       "..         ...           ...             ...\n",
       "238  002183.SZ  7.077824e+05       -0.311381\n",
       "239  601601.SH  1.052769e+07        0.550050\n",
       "240  600816.SH  6.595901e+05       -0.315608\n",
       "241  000630.SZ  1.308563e+06       -0.258679\n",
       "242  600019.SH  6.483955e+06        0.195322\n",
       "243  601216.SH  1.407236e+06       -0.250023\n",
       "244  002152.SZ  1.314706e+06       -0.258140\n",
       "245  600895.SH  1.025382e+06       -0.283520\n",
       "246  601857.SH  1.227813e+08       10.397264\n",
       "247  600150.SH  2.686062e+06       -0.137840\n",
       "248  002153.SZ  7.477031e+05       -0.307879\n",
       "249  000839.SZ  1.032974e+06       -0.282854\n",
       "250  000963.SZ  1.320019e+06       -0.257674\n",
       "251  601766.SH  4.437728e+06        0.015821\n",
       "252  000709.SZ  9.472814e+05       -0.290371\n",
       "253  600685.SH  7.494331e+05       -0.307727\n",
       "254  600406.SH  3.008683e+06       -0.109539\n",
       "255  600741.SH  2.470539e+06       -0.156747\n",
       "256  002008.SZ  1.527734e+06       -0.239452\n",
       "257  600373.SH  1.403909e+06       -0.250315\n",
       "258  600482.SH  4.754471e+05       -0.331762\n",
       "259  600010.SH  2.977782e+06       -0.112250\n",
       "260  601336.SH  2.256226e+06       -0.175547\n",
       "261  002456.SZ  1.586761e+06       -0.234274\n",
       "262  600570.SH  1.662683e+06       -0.227614\n",
       "263  600060.SH  1.399062e+06       -0.250740\n",
       "264  600415.SH  1.427659e+06       -0.248231\n",
       "265  300024.SZ  1.505524e+06       -0.241401\n",
       "266  600208.SH  1.853521e+06       -0.210873\n",
       "267  300251.SZ  5.907754e+05       -0.321645\n",
       "\n",
       "[268 rows x 3 columns]"
      ]
     },
     "execution_count": 42,
     "metadata": {},
     "output_type": "execute_result"
    }
   ],
   "source": [
    "FAST_mean_df"
   ]
  },
  {
   "cell_type": "code",
   "execution_count": 43,
   "metadata": {
    "collapsed": true
   },
   "outputs": [],
   "source": [
    "FAST_mean_df.to_csv(\"FAST_mean_2014_Q2.csv\") # save it as csv"
   ]
  },
  {
   "cell_type": "markdown",
   "metadata": {},
   "source": [
    "## Y : Current Quarter Return\n",
    "\n",
    "Duration: 20140331 - 20140630\n",
    "\n",
    "sample pool: companies in BEME_ratio_df['WINDCODE']"
   ]
  },
  {
   "cell_type": "code",
   "execution_count": 44,
   "metadata": {
    "collapsed": true
   },
   "outputs": [],
   "source": [
    "# Obatin Close Price on starting and end dates for current qtr\n",
    "start_close_c = [None]*len(BEME_ratio_df_2014['WINDCODE'])\n",
    "end_close_c = [None]*len(BEME_ratio_df_2014['WINDCODE'])"
   ]
  },
  {
   "cell_type": "code",
   "execution_count": 46,
   "metadata": {
    "collapsed": true
   },
   "outputs": [],
   "source": [
    "for i in range(len(BEME_ratio_df_2014['WINDCODE'])):\n",
    "    company = BEME_ratio_df_2014['WINDCODE'][i]\n",
    "    start_close_c[i] =float(frames[company][frames[company]['TRADE_DT'] == 20140331]['S_DQ_ADJCLOSE'])\n",
    "    end_close_c[i] = float(frames[company][frames[company]['TRADE_DT'] ==20140630]['S_DQ_ADJCLOSE'])"
   ]
  },
  {
   "cell_type": "code",
   "execution_count": 47,
   "metadata": {
    "collapsed": true
   },
   "outputs": [],
   "source": [
    "# create an empty list to store return for individual company for current qtr\n",
    "com_qtr_return_CURRENT = [None]*len(BEME_ratio_df_2014['WINDCODE']) "
   ]
  },
  {
   "cell_type": "code",
   "execution_count": 48,
   "metadata": {
    "collapsed": true
   },
   "outputs": [],
   "source": [
    "for i in range(len(BEME_ratio_df_2014['WINDCODE'])):\n",
    "    com_qtr_return_CURRENT[i] = (end_close_c[i] - start_close_c[i])/start_close_c[i]"
   ]
  },
  {
   "cell_type": "code",
   "execution_count": 49,
   "metadata": {
    "collapsed": true
   },
   "outputs": [],
   "source": [
    "index_start_c = float(csi300_IndexData[csi300_IndexData['date'] == '2014-03-31']['last_price']) \n",
    "index_end_c = float(csi300_IndexData[csi300_IndexData['date'] == '2014-06-30']['last_price']) "
   ]
  },
  {
   "cell_type": "code",
   "execution_count": 50,
   "metadata": {
    "collapsed": true
   },
   "outputs": [],
   "source": [
    "index_qtr_return_CURRENT = (index_end_c - index_start_c)/index_start_c # calculate the index quarterly return"
   ]
  },
  {
   "cell_type": "code",
   "execution_count": 51,
   "metadata": {
    "collapsed": false
   },
   "outputs": [
    {
     "data": {
      "text/plain": [
       "0.006494081255211828"
      ]
     },
     "execution_count": 51,
     "metadata": {},
     "output_type": "execute_result"
    }
   ],
   "source": [
    "index_qtr_return_CURRENT"
   ]
  },
  {
   "cell_type": "code",
   "execution_count": 52,
   "metadata": {
    "collapsed": true
   },
   "outputs": [],
   "source": [
    "diff_return_com_csi300_CURRENT = [None]*len(BEME_ratio_df_2014['WINDCODE'])"
   ]
  },
  {
   "cell_type": "code",
   "execution_count": 53,
   "metadata": {
    "collapsed": true
   },
   "outputs": [],
   "source": [
    "for i in range(len(BEME_ratio_df_2014['WINDCODE'])):\n",
    "    diff_return_com_csi300_CURRENT[i] = com_qtr_return_CURRENT[i] - index_qtr_return_CURRENT"
   ]
  },
  {
   "cell_type": "code",
   "execution_count": 54,
   "metadata": {
    "collapsed": true
   },
   "outputs": [],
   "source": [
    "Y_2014_Q2 = pd.DataFrame({'Company':BEME_ratio_df_2014['WINDCODE'],'Y':diff_return_com_csi300_CURRENT})"
   ]
  },
  {
   "cell_type": "code",
   "execution_count": 55,
   "metadata": {
    "collapsed": true
   },
   "outputs": [],
   "source": [
    "Y_2014_Q2.to_csv(\"Y_2014_Q2.csv\")"
   ]
  },
  {
   "cell_type": "code",
   "execution_count": 56,
   "metadata": {
    "collapsed": true
   },
   "outputs": [],
   "source": [
    "TFM_2014_Q2 = pd.DataFrame({'X_1':norm_BEME_ratio_list,'X_2':Weighted_Return['norm_diff_csi300_LAST'], 'X_3': FAST_mean_df['FAST_mean_norm'], 'Y':diff_return_com_csi300_CURRENT})"
   ]
  },
  {
   "cell_type": "code",
   "execution_count": 58,
   "metadata": {
    "collapsed": false,
    "scrolled": true
   },
   "outputs": [],
   "source": [
    "TFM_2014_Q2.to_csv(\"TFM_2014_Q2.csv\")"
   ]
  },
  {
   "cell_type": "code",
   "execution_count": 59,
   "metadata": {
    "collapsed": true
   },
   "outputs": [],
   "source": [
    "def outlier_index(list_name, std_num):\n",
    "    mean = list_name.mean() # mean\n",
    "    std = np.std(list_name, axis=0) # standard deviation\n",
    "    \n",
    "    upper_b = mean+std_num*std\n",
    "    lower_b = mean-std_num*std\n",
    "    \n",
    "    ind_upper = [i for i in range(len(list_name)) if list_name[i] > upper_b]\n",
    "    ind_lower = [i for i in range(len(list_name)) if list_name[i] < lower_b]\n",
    "    outlier_index = ind_upper+ind_lower\n",
    "    \n",
    "    return outlier_index"
   ]
  },
  {
   "cell_type": "code",
   "execution_count": 60,
   "metadata": {
    "collapsed": true
   },
   "outputs": [],
   "source": [
    "outlier_all =outlier_index(TFM_2014_Q2['X_1'], 5) + outlier_index(TFM_2014_Q2['X_2'], 5)+ outlier_index(TFM_2014_Q2['X_3'], 5)+ outlier_index(TFM_2014_Q2['Y'], 5)"
   ]
  },
  {
   "cell_type": "code",
   "execution_count": 61,
   "metadata": {
    "collapsed": true
   },
   "outputs": [],
   "source": [
    "TFM_2014_Q2_NO = TFM_2014_Q2.drop(TFM_2014_Q2.index[outlier_all])"
   ]
  },
  {
   "cell_type": "code",
   "execution_count": 63,
   "metadata": {
    "collapsed": false
   },
   "outputs": [
    {
     "data": {
      "text/html": [
       "<div>\n",
       "<table border=\"1\" class=\"dataframe\">\n",
       "  <thead>\n",
       "    <tr style=\"text-align: right;\">\n",
       "      <th></th>\n",
       "      <th>X_1</th>\n",
       "      <th>X_2</th>\n",
       "      <th>X_3</th>\n",
       "      <th>Y</th>\n",
       "    </tr>\n",
       "  </thead>\n",
       "  <tbody>\n",
       "    <tr>\n",
       "      <th>0</th>\n",
       "      <td>-0.943715</td>\n",
       "      <td>0.486337</td>\n",
       "      <td>-0.176382</td>\n",
       "      <td>0.272115</td>\n",
       "    </tr>\n",
       "    <tr>\n",
       "      <th>1</th>\n",
       "      <td>-0.663215</td>\n",
       "      <td>-0.412501</td>\n",
       "      <td>-0.273571</td>\n",
       "      <td>0.007317</td>\n",
       "    </tr>\n",
       "    <tr>\n",
       "      <th>2</th>\n",
       "      <td>0.831511</td>\n",
       "      <td>-0.381677</td>\n",
       "      <td>1.449617</td>\n",
       "      <td>0.036098</td>\n",
       "    </tr>\n",
       "    <tr>\n",
       "      <th>3</th>\n",
       "      <td>0.060847</td>\n",
       "      <td>1.278933</td>\n",
       "      <td>-0.216518</td>\n",
       "      <td>-0.224168</td>\n",
       "    </tr>\n",
       "    <tr>\n",
       "      <th>4</th>\n",
       "      <td>1.576604</td>\n",
       "      <td>0.050574</td>\n",
       "      <td>4.201238</td>\n",
       "      <td>0.054552</td>\n",
       "    </tr>\n",
       "    <tr>\n",
       "      <th>5</th>\n",
       "      <td>-0.981901</td>\n",
       "      <td>-0.716544</td>\n",
       "      <td>0.015117</td>\n",
       "      <td>-0.060494</td>\n",
       "    </tr>\n",
       "    <tr>\n",
       "      <th>6</th>\n",
       "      <td>1.036689</td>\n",
       "      <td>-0.278581</td>\n",
       "      <td>0.100482</td>\n",
       "      <td>0.010955</td>\n",
       "    </tr>\n",
       "    <tr>\n",
       "      <th>7</th>\n",
       "      <td>-0.199968</td>\n",
       "      <td>-0.198255</td>\n",
       "      <td>-0.318352</td>\n",
       "      <td>0.044800</td>\n",
       "    </tr>\n",
       "    <tr>\n",
       "      <th>8</th>\n",
       "      <td>-0.417362</td>\n",
       "      <td>1.129183</td>\n",
       "      <td>0.041639</td>\n",
       "      <td>0.064601</td>\n",
       "    </tr>\n",
       "    <tr>\n",
       "      <th>9</th>\n",
       "      <td>-0.118337</td>\n",
       "      <td>-0.559517</td>\n",
       "      <td>-0.017836</td>\n",
       "      <td>-0.100004</td>\n",
       "    </tr>\n",
       "  </tbody>\n",
       "</table>\n",
       "</div>"
      ],
      "text/plain": [
       "        X_1       X_2       X_3         Y\n",
       "0 -0.943715  0.486337 -0.176382  0.272115\n",
       "1 -0.663215 -0.412501 -0.273571  0.007317\n",
       "2  0.831511 -0.381677  1.449617  0.036098\n",
       "3  0.060847  1.278933 -0.216518 -0.224168\n",
       "4  1.576604  0.050574  4.201238  0.054552\n",
       "5 -0.981901 -0.716544  0.015117 -0.060494\n",
       "6  1.036689 -0.278581  0.100482  0.010955\n",
       "7 -0.199968 -0.198255 -0.318352  0.044800\n",
       "8 -0.417362  1.129183  0.041639  0.064601\n",
       "9 -0.118337 -0.559517 -0.017836 -0.100004"
      ]
     },
     "execution_count": 63,
     "metadata": {},
     "output_type": "execute_result"
    }
   ],
   "source": [
    "TFM_2014_Q2_NO[:10]"
   ]
  },
  {
   "cell_type": "code",
   "execution_count": 64,
   "metadata": {
    "collapsed": true
   },
   "outputs": [],
   "source": [
    "TFM_2014_Q2_NO.to_csv(\"TFM_2014_Q2_NO.csv\")"
   ]
  },
  {
   "cell_type": "markdown",
   "metadata": {},
   "source": [
    "# ************* Result DataFrame: TFM_2014_Q2_NO.csv *************"
   ]
  },
  {
   "cell_type": "code",
   "execution_count": null,
   "metadata": {
    "collapsed": true
   },
   "outputs": [],
   "source": []
  }
 ],
 "metadata": {
  "anaconda-cloud": {},
  "kernelspec": {
   "display_name": "Python [conda root]",
   "language": "python",
   "name": "conda-root-py"
  },
  "language_info": {
   "codemirror_mode": {
    "name": "ipython",
    "version": 2
   },
   "file_extension": ".py",
   "mimetype": "text/x-python",
   "name": "python",
   "nbconvert_exporter": "python",
   "pygments_lexer": "ipython2",
   "version": "2.7.12"
  }
 },
 "nbformat": 4,
 "nbformat_minor": 1
}
