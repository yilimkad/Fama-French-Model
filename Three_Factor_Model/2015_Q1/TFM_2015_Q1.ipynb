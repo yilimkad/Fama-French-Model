{
 "cells": [
  {
   "cell_type": "markdown",
   "metadata": {},
   "source": [
    "# Time Period: 20141231-20150331"
   ]
  },
  {
   "cell_type": "code",
   "execution_count": 1,
   "metadata": {
    "collapsed": true
   },
   "outputs": [],
   "source": [
    "import pandas as pd\n",
    "import glob\n",
    "import os\n",
    "import numpy as np\n",
    "from sklearn import linear_model\n",
    "import matplotlib.pyplot as plt\n",
    "%matplotlib inline"
   ]
  },
  {
   "cell_type": "markdown",
   "metadata": {},
   "source": [
    "### X1"
   ]
  },
  {
   "cell_type": "code",
   "execution_count": 2,
   "metadata": {
    "collapsed": true
   },
   "outputs": [],
   "source": [
    "AShareEODDerivativeIndicator = pd.read_csv(\"/Users/yiliwang/Documents/ACR Internship/Supplementary datasets/EODDerivativeIndicator.csv\", header=0)"
   ]
  },
  {
   "cell_type": "code",
   "execution_count": 3,
   "metadata": {
    "collapsed": true
   },
   "outputs": [],
   "source": [
    "ME_20141231_list = AShareEODDerivativeIndicator[AShareEODDerivativeIndicator['TRADE_DT'] == 20141231]['S_VAL_MV'] "
   ]
  },
  {
   "cell_type": "code",
   "execution_count": 4,
   "metadata": {
    "collapsed": false
   },
   "outputs": [
    {
     "data": {
      "text/plain": [
       "272"
      ]
     },
     "execution_count": 4,
     "metadata": {},
     "output_type": "execute_result"
    }
   ],
   "source": [
    "len(ME_20141231_list)"
   ]
  },
  {
   "cell_type": "code",
   "execution_count": 5,
   "metadata": {
    "collapsed": true
   },
   "outputs": [],
   "source": [
    "# name list\n",
    "S_INFO_WINDCODE_ME = AShareEODDerivativeIndicator[AShareEODDerivativeIndicator['TRADE_DT'] == 20141231]['S_INFO_WINDCODE']"
   ]
  },
  {
   "cell_type": "code",
   "execution_count": 6,
   "metadata": {
    "collapsed": true
   },
   "outputs": [],
   "source": [
    "ME_df_20141231 = pd.DataFrame({'WINDCODE': S_INFO_WINDCODE_ME,'ME_20141231': ME_20141231_list})"
   ]
  },
  {
   "cell_type": "code",
   "execution_count": 7,
   "metadata": {
    "collapsed": false
   },
   "outputs": [
    {
     "data": {
      "text/html": [
       "<div>\n",
       "<table border=\"1\" class=\"dataframe\">\n",
       "  <thead>\n",
       "    <tr style=\"text-align: right;\">\n",
       "      <th></th>\n",
       "      <th>ME_20141231</th>\n",
       "      <th>WINDCODE</th>\n",
       "    </tr>\n",
       "  </thead>\n",
       "  <tbody>\n",
       "    <tr>\n",
       "      <th>39297</th>\n",
       "      <td>1.927208e+06</td>\n",
       "      <td>002465.SZ</td>\n",
       "    </tr>\n",
       "    <tr>\n",
       "      <th>39298</th>\n",
       "      <td>3.427982e+06</td>\n",
       "      <td>601118.SH</td>\n",
       "    </tr>\n",
       "    <tr>\n",
       "      <th>39299</th>\n",
       "      <td>1.264127e+07</td>\n",
       "      <td>601633.SH</td>\n",
       "    </tr>\n",
       "    <tr>\n",
       "      <th>39300</th>\n",
       "      <td>1.848000e+05</td>\n",
       "      <td>600233.SH</td>\n",
       "    </tr>\n",
       "    <tr>\n",
       "      <th>39301</th>\n",
       "      <td>8.711400e+06</td>\n",
       "      <td>600795.SH</td>\n",
       "    </tr>\n",
       "    <tr>\n",
       "      <th>39302</th>\n",
       "      <td>2.277940e+07</td>\n",
       "      <td>601818.SH</td>\n",
       "    </tr>\n",
       "    <tr>\n",
       "      <th>39303</th>\n",
       "      <td>4.441649e+06</td>\n",
       "      <td>603993.SH</td>\n",
       "    </tr>\n",
       "    <tr>\n",
       "      <th>39304</th>\n",
       "      <td>3.081545e+06</td>\n",
       "      <td>600827.SH</td>\n",
       "    </tr>\n",
       "    <tr>\n",
       "      <th>39305</th>\n",
       "      <td>1.495594e+06</td>\n",
       "      <td>600060.SH</td>\n",
       "    </tr>\n",
       "    <tr>\n",
       "      <th>39306</th>\n",
       "      <td>1.334175e+06</td>\n",
       "      <td>600816.SH</td>\n",
       "    </tr>\n",
       "  </tbody>\n",
       "</table>\n",
       "</div>"
      ],
      "text/plain": [
       "        ME_20141231   WINDCODE\n",
       "39297  1.927208e+06  002465.SZ\n",
       "39298  3.427982e+06  601118.SH\n",
       "39299  1.264127e+07  601633.SH\n",
       "39300  1.848000e+05  600233.SH\n",
       "39301  8.711400e+06  600795.SH\n",
       "39302  2.277940e+07  601818.SH\n",
       "39303  4.441649e+06  603993.SH\n",
       "39304  3.081545e+06  600827.SH\n",
       "39305  1.495594e+06  600060.SH\n",
       "39306  1.334175e+06  600816.SH"
      ]
     },
     "execution_count": 7,
     "metadata": {},
     "output_type": "execute_result"
    }
   ],
   "source": [
    "ME_df_20141231[:10] "
   ]
  },
  {
   "cell_type": "code",
   "execution_count": 8,
   "metadata": {
    "collapsed": true
   },
   "outputs": [],
   "source": [
    "AShareBalanceSheet = pd.read_csv(\"/Users/yiliwang/Documents/ACR Internship/Supplementary datasets/BalanceSheet.csv\", header=0)"
   ]
  },
  {
   "cell_type": "code",
   "execution_count": 10,
   "metadata": {
    "collapsed": false
   },
   "outputs": [],
   "source": [
    "BE_20140930_df  = AShareBalanceSheet[AShareBalanceSheet['REPORT_PERIOD']==20140930]\n",
    "BE_20140930_T1 = BE_20140930_df[BE_20140930_df['STATEMENT_TYPE'] == 408001000] # 合并报表 BE"
   ]
  },
  {
   "cell_type": "code",
   "execution_count": 11,
   "metadata": {
    "collapsed": true
   },
   "outputs": [],
   "source": [
    "WINDCODE_BE = BE_20140930_T1['S_INFO_WINDCODE']\n",
    "BE_20140930_list = BE_20140930_T1['TOT_SHRHLDR_EQY_INCL_MIN_INT']"
   ]
  },
  {
   "cell_type": "code",
   "execution_count": 12,
   "metadata": {
    "collapsed": true
   },
   "outputs": [],
   "source": [
    "BE_df_20140930 = pd.DataFrame({'WINDCODE': WINDCODE_BE,'BE_20140930': BE_20140930_list})"
   ]
  },
  {
   "cell_type": "code",
   "execution_count": 13,
   "metadata": {
    "collapsed": true
   },
   "outputs": [],
   "source": [
    "BEME_ratio_df = BE_df_20140930.merge(ME_df_20141231, left_on='WINDCODE', right_on='WINDCODE', how='inner')"
   ]
  },
  {
   "cell_type": "code",
   "execution_count": 14,
   "metadata": {
    "collapsed": true
   },
   "outputs": [],
   "source": [
    "# obtain BE/ME\n",
    "BEME_ratio = BEME_ratio_df['BE_20140930']/BEME_ratio_df['ME_20141231']"
   ]
  },
  {
   "cell_type": "code",
   "execution_count": 15,
   "metadata": {
    "collapsed": true
   },
   "outputs": [],
   "source": [
    "# Add BE/ME ratio as a new column to dataframe BEME_ratio_df\n",
    "se = pd.Series(BEME_ratio)\n",
    "BEME_ratio_df[\"BE_ME_ratio\"] = se.values"
   ]
  },
  {
   "cell_type": "code",
   "execution_count": 16,
   "metadata": {
    "collapsed": true
   },
   "outputs": [],
   "source": [
    "BEME_ratio_df = BEME_ratio_df[['WINDCODE', 'BE_20140930', 'ME_20141231', 'BE_ME_ratio']] # rearrange the order of columns"
   ]
  },
  {
   "cell_type": "code",
   "execution_count": 17,
   "metadata": {
    "collapsed": false
   },
   "outputs": [
    {
     "data": {
      "text/html": [
       "<div>\n",
       "<table border=\"1\" class=\"dataframe\">\n",
       "  <thead>\n",
       "    <tr style=\"text-align: right;\">\n",
       "      <th></th>\n",
       "      <th>WINDCODE</th>\n",
       "      <th>BE_20140930</th>\n",
       "      <th>ME_20141231</th>\n",
       "      <th>BE_ME_ratio</th>\n",
       "    </tr>\n",
       "  </thead>\n",
       "  <tbody>\n",
       "    <tr>\n",
       "      <th>0</th>\n",
       "      <td>000157.SZ</td>\n",
       "      <td>4.187137e+10</td>\n",
       "      <td>5.440404e+06</td>\n",
       "      <td>7696.372911</td>\n",
       "    </tr>\n",
       "    <tr>\n",
       "      <th>1</th>\n",
       "      <td>600887.SH</td>\n",
       "      <td>1.812761e+10</td>\n",
       "      <td>8.773294e+06</td>\n",
       "      <td>2066.226630</td>\n",
       "    </tr>\n",
       "    <tr>\n",
       "      <th>2</th>\n",
       "      <td>600276.SH</td>\n",
       "      <td>7.839263e+09</td>\n",
       "      <td>5.636965e+06</td>\n",
       "      <td>1390.688545</td>\n",
       "    </tr>\n",
       "    <tr>\n",
       "      <th>3</th>\n",
       "      <td>600009.SH</td>\n",
       "      <td>1.826081e+10</td>\n",
       "      <td>3.780692e+06</td>\n",
       "      <td>4830.018407</td>\n",
       "    </tr>\n",
       "    <tr>\n",
       "      <th>4</th>\n",
       "      <td>601328.SH</td>\n",
       "      <td>4.578800e+11</td>\n",
       "      <td>5.049865e+07</td>\n",
       "      <td>9067.172343</td>\n",
       "    </tr>\n",
       "    <tr>\n",
       "      <th>5</th>\n",
       "      <td>600150.SH</td>\n",
       "      <td>1.989145e+10</td>\n",
       "      <td>5.079741e+06</td>\n",
       "      <td>3915.838712</td>\n",
       "    </tr>\n",
       "    <tr>\n",
       "      <th>6</th>\n",
       "      <td>000728.SZ</td>\n",
       "      <td>1.666901e+10</td>\n",
       "      <td>6.122100e+06</td>\n",
       "      <td>2722.760829</td>\n",
       "    </tr>\n",
       "    <tr>\n",
       "      <th>7</th>\n",
       "      <td>600036.SH</td>\n",
       "      <td>3.023980e+11</td>\n",
       "      <td>4.183972e+07</td>\n",
       "      <td>7227.533362</td>\n",
       "    </tr>\n",
       "    <tr>\n",
       "      <th>8</th>\n",
       "      <td>600660.SH</td>\n",
       "      <td>8.311906e+09</td>\n",
       "      <td>2.431625e+06</td>\n",
       "      <td>3418.251050</td>\n",
       "    </tr>\n",
       "    <tr>\n",
       "      <th>9</th>\n",
       "      <td>601998.SH</td>\n",
       "      <td>2.576850e+11</td>\n",
       "      <td>3.808488e+07</td>\n",
       "      <td>6766.070198</td>\n",
       "    </tr>\n",
       "  </tbody>\n",
       "</table>\n",
       "</div>"
      ],
      "text/plain": [
       "    WINDCODE   BE_20140930   ME_20141231  BE_ME_ratio\n",
       "0  000157.SZ  4.187137e+10  5.440404e+06  7696.372911\n",
       "1  600887.SH  1.812761e+10  8.773294e+06  2066.226630\n",
       "2  600276.SH  7.839263e+09  5.636965e+06  1390.688545\n",
       "3  600009.SH  1.826081e+10  3.780692e+06  4830.018407\n",
       "4  601328.SH  4.578800e+11  5.049865e+07  9067.172343\n",
       "5  600150.SH  1.989145e+10  5.079741e+06  3915.838712\n",
       "6  000728.SZ  1.666901e+10  6.122100e+06  2722.760829\n",
       "7  600036.SH  3.023980e+11  4.183972e+07  7227.533362\n",
       "8  600660.SH  8.311906e+09  2.431625e+06  3418.251050\n",
       "9  601998.SH  2.576850e+11  3.808488e+07  6766.070198"
      ]
     },
     "execution_count": 17,
     "metadata": {},
     "output_type": "execute_result"
    }
   ],
   "source": [
    "BEME_ratio_df[:10]"
   ]
  },
  {
   "cell_type": "code",
   "execution_count": 18,
   "metadata": {
    "collapsed": true
   },
   "outputs": [],
   "source": [
    "def normalize_list(input_list):\n",
    "    empty_list = [None]*len(input_list)\n",
    "    for i in range(len(input_list)):\n",
    "        empty_list[i] = (input_list[i]-input_list.mean())/input_list.std()\n",
    "    return empty_list"
   ]
  },
  {
   "cell_type": "code",
   "execution_count": 19,
   "metadata": {
    "collapsed": true
   },
   "outputs": [],
   "source": [
    "norm_BEME_ratio = normalize_list(BEME_ratio_df['BE_ME_ratio'])"
   ]
  },
  {
   "cell_type": "code",
   "execution_count": 20,
   "metadata": {
    "collapsed": true
   },
   "outputs": [],
   "source": [
    "# Add norm_BEME_ratio as a new column to dataframe BEME_ratio_df\n",
    "se_norm = pd.Series(norm_BEME_ratio)\n",
    "BEME_ratio_df[\"norm_BEME_ratio\"] = se_norm.values"
   ]
  },
  {
   "cell_type": "code",
   "execution_count": 61,
   "metadata": {
    "collapsed": false
   },
   "outputs": [
    {
     "data": {
      "text/html": [
       "<div>\n",
       "<table border=\"1\" class=\"dataframe\">\n",
       "  <thead>\n",
       "    <tr style=\"text-align: right;\">\n",
       "      <th></th>\n",
       "      <th>WINDCODE</th>\n",
       "      <th>BE_20140930</th>\n",
       "      <th>ME_20141231</th>\n",
       "      <th>BE_ME_ratio</th>\n",
       "      <th>norm_BEME_ratio</th>\n",
       "    </tr>\n",
       "  </thead>\n",
       "  <tbody>\n",
       "    <tr>\n",
       "      <th>0</th>\n",
       "      <td>000157.SZ</td>\n",
       "      <td>4.187137e+10</td>\n",
       "      <td>5.440404e+06</td>\n",
       "      <td>7696.372911</td>\n",
       "      <td>1.492577</td>\n",
       "    </tr>\n",
       "    <tr>\n",
       "      <th>1</th>\n",
       "      <td>600887.SH</td>\n",
       "      <td>1.812761e+10</td>\n",
       "      <td>8.773294e+06</td>\n",
       "      <td>2066.226630</td>\n",
       "      <td>-0.716115</td>\n",
       "    </tr>\n",
       "    <tr>\n",
       "      <th>2</th>\n",
       "      <td>600276.SH</td>\n",
       "      <td>7.839263e+09</td>\n",
       "      <td>5.636965e+06</td>\n",
       "      <td>1390.688545</td>\n",
       "      <td>-0.981127</td>\n",
       "    </tr>\n",
       "    <tr>\n",
       "      <th>3</th>\n",
       "      <td>600009.SH</td>\n",
       "      <td>1.826081e+10</td>\n",
       "      <td>3.780692e+06</td>\n",
       "      <td>4830.018407</td>\n",
       "      <td>0.368114</td>\n",
       "    </tr>\n",
       "    <tr>\n",
       "      <th>4</th>\n",
       "      <td>601328.SH</td>\n",
       "      <td>4.578800e+11</td>\n",
       "      <td>5.049865e+07</td>\n",
       "      <td>9067.172343</td>\n",
       "      <td>2.030339</td>\n",
       "    </tr>\n",
       "    <tr>\n",
       "      <th>5</th>\n",
       "      <td>600150.SH</td>\n",
       "      <td>1.989145e+10</td>\n",
       "      <td>5.079741e+06</td>\n",
       "      <td>3915.838712</td>\n",
       "      <td>0.009483</td>\n",
       "    </tr>\n",
       "    <tr>\n",
       "      <th>6</th>\n",
       "      <td>000728.SZ</td>\n",
       "      <td>1.666901e+10</td>\n",
       "      <td>6.122100e+06</td>\n",
       "      <td>2722.760829</td>\n",
       "      <td>-0.458558</td>\n",
       "    </tr>\n",
       "    <tr>\n",
       "      <th>7</th>\n",
       "      <td>600036.SH</td>\n",
       "      <td>3.023980e+11</td>\n",
       "      <td>4.183972e+07</td>\n",
       "      <td>7227.533362</td>\n",
       "      <td>1.308653</td>\n",
       "    </tr>\n",
       "    <tr>\n",
       "      <th>8</th>\n",
       "      <td>600660.SH</td>\n",
       "      <td>8.311906e+09</td>\n",
       "      <td>2.431625e+06</td>\n",
       "      <td>3418.251050</td>\n",
       "      <td>-0.185719</td>\n",
       "    </tr>\n",
       "    <tr>\n",
       "      <th>9</th>\n",
       "      <td>601998.SH</td>\n",
       "      <td>2.576850e+11</td>\n",
       "      <td>3.808488e+07</td>\n",
       "      <td>6766.070198</td>\n",
       "      <td>1.127622</td>\n",
       "    </tr>\n",
       "  </tbody>\n",
       "</table>\n",
       "</div>"
      ],
      "text/plain": [
       "    WINDCODE   BE_20140930   ME_20141231  BE_ME_ratio  norm_BEME_ratio\n",
       "0  000157.SZ  4.187137e+10  5.440404e+06  7696.372911         1.492577\n",
       "1  600887.SH  1.812761e+10  8.773294e+06  2066.226630        -0.716115\n",
       "2  600276.SH  7.839263e+09  5.636965e+06  1390.688545        -0.981127\n",
       "3  600009.SH  1.826081e+10  3.780692e+06  4830.018407         0.368114\n",
       "4  601328.SH  4.578800e+11  5.049865e+07  9067.172343         2.030339\n",
       "5  600150.SH  1.989145e+10  5.079741e+06  3915.838712         0.009483\n",
       "6  000728.SZ  1.666901e+10  6.122100e+06  2722.760829        -0.458558\n",
       "7  600036.SH  3.023980e+11  4.183972e+07  7227.533362         1.308653\n",
       "8  600660.SH  8.311906e+09  2.431625e+06  3418.251050        -0.185719\n",
       "9  601998.SH  2.576850e+11  3.808488e+07  6766.070198         1.127622"
      ]
     },
     "execution_count": 61,
     "metadata": {},
     "output_type": "execute_result"
    }
   ],
   "source": [
    "BEME_ratio_df[:10]"
   ]
  },
  {
   "cell_type": "code",
   "execution_count": 22,
   "metadata": {
    "collapsed": true
   },
   "outputs": [],
   "source": [
    "# Save df as csv for 2014 whole year use\n",
    "BEME_ratio_df.to_csv(\"BEME_ratio_df_2015.csv\")"
   ]
  },
  {
   "cell_type": "markdown",
   "metadata": {},
   "source": [
    "### X2"
   ]
  },
  {
   "cell_type": "code",
   "execution_count": 23,
   "metadata": {
    "collapsed": true
   },
   "outputs": [],
   "source": [
    "os.chdir('/Users/yiliwang/Documents/ACR Internship/data/')\n",
    "files = [file for file in os.listdir( os.curdir ) if file.endswith(\".csv\")]\n",
    "frames = {}\n",
    "for each_file in files:\n",
    "    frames[os.path.splitext(each_file)[0]] = pd.read_csv(each_file)"
   ]
  },
  {
   "cell_type": "code",
   "execution_count": 24,
   "metadata": {
    "collapsed": true
   },
   "outputs": [],
   "source": [
    "start_close = [None]*len(BEME_ratio_df['WINDCODE'])\n",
    "end_close = [None]*len(BEME_ratio_df['WINDCODE'])"
   ]
  },
  {
   "cell_type": "code",
   "execution_count": 128,
   "metadata": {
    "collapsed": false
   },
   "outputs": [],
   "source": [
    "for i in range(len(BEME_ratio_df['WINDCODE'])):\n",
    "    company = BEME_ratio_df['WINDCODE'][i]\n",
    "    if frames[company][frames[company]['TRADE_DT'] == 20140930]['S_DQ_ADJCLOSE'].empty == False:\n",
    "        start_close[i] =float(frames[company][frames[company]['TRADE_DT'] == 20140930]['S_DQ_ADJCLOSE'])\n",
    "    end_close[i] = float(frames[company][frames[company]['TRADE_DT'] == 20141231]['S_DQ_ADJCLOSE'])"
   ]
  },
  {
   "cell_type": "code",
   "execution_count": 136,
   "metadata": {
    "collapsed": false
   },
   "outputs": [],
   "source": [
    "# There is a problem with start_close: there is an empty cell"
   ]
  },
  {
   "cell_type": "code",
   "execution_count": 133,
   "metadata": {
    "collapsed": false
   },
   "outputs": [],
   "source": [
    "com_qtr_return = [None]*len(BEME_ratio_df['WINDCODE']) # create an empty list to store return for individual company"
   ]
  },
  {
   "cell_type": "code",
   "execution_count": 134,
   "metadata": {
    "collapsed": true
   },
   "outputs": [],
   "source": [
    "for i in range(len(BEME_ratio_df['WINDCODE'])):\n",
    "    com_qtr_return[i] = (end_close[i] - start_close[i])/start_close[i]"
   ]
  },
  {
   "cell_type": "code",
   "execution_count": 70,
   "metadata": {
    "collapsed": true
   },
   "outputs": [],
   "source": [
    "csi300_IndexData= pd.read_csv(\"/Users/yiliwang/Documents/ACR Internship/csi_300_IndexData_daily_.csv\", header=0)"
   ]
  },
  {
   "cell_type": "code",
   "execution_count": 137,
   "metadata": {
    "collapsed": false
   },
   "outputs": [],
   "source": [
    "index_start = float(csi300_IndexData[csi300_IndexData['date'] == '2014-09-30']['last_price']) \n",
    "index_end = float(csi300_IndexData[csi300_IndexData['date'] == '2014-12-31']['last_price'].mean())"
   ]
  },
  {
   "cell_type": "code",
   "execution_count": 138,
   "metadata": {
    "collapsed": false
   },
   "outputs": [],
   "source": [
    "index_qtr_return = (index_end - index_start)/index_start # calculate the index quarterly return"
   ]
  },
  {
   "cell_type": "code",
   "execution_count": 139,
   "metadata": {
    "collapsed": false
   },
   "outputs": [
    {
     "name": "stdout",
     "output_type": "stream",
     "text": [
      "0.445406648068\n"
     ]
    }
   ],
   "source": [
    "print index_qtr_return"
   ]
  },
  {
   "cell_type": "code",
   "execution_count": 140,
   "metadata": {
    "collapsed": true
   },
   "outputs": [],
   "source": [
    "diff_return_com_csi300 = [None]*len(BEME_ratio_df['WINDCODE'])"
   ]
  },
  {
   "cell_type": "code",
   "execution_count": 141,
   "metadata": {
    "collapsed": true
   },
   "outputs": [],
   "source": [
    "for i in range(len(BEME_ratio_df['WINDCODE'])):\n",
    "    diff_return_com_csi300[i] = com_qtr_return[i] - index_qtr_return"
   ]
  },
  {
   "cell_type": "code",
   "execution_count": 143,
   "metadata": {
    "collapsed": false
   },
   "outputs": [
    {
     "data": {
      "text/plain": [
       "[-0.0016479583871043535,\n",
       " -0.33999812157300857,\n",
       " -0.4343527603654525,\n",
       " -0.14272642625654214,\n",
       " 0.14030763764628335,\n",
       " -0.4327516028115491,\n",
       " 0.8279371182335102,\n",
       " 0.1514835816836801,\n",
       " -0.2914123797534762,\n",
       " 0.34626001859866434]"
      ]
     },
     "execution_count": 143,
     "metadata": {},
     "output_type": "execute_result"
    }
   ],
   "source": [
    "diff_return_com_csi300[:10]"
   ]
  },
  {
   "cell_type": "code",
   "execution_count": 255,
   "metadata": {
    "collapsed": true
   },
   "outputs": [],
   "source": [
    "Weighted_Return = pd.DataFrame({'Company':BEME_ratio_df['WINDCODE'],'start_price': start_close,'end_price': end_close,'qtr_return':com_qtr_return,'diff_csi300_LAST':diff_return_com_csi300})"
   ]
  },
  {
   "cell_type": "code",
   "execution_count": 256,
   "metadata": {
    "collapsed": false,
    "scrolled": true
   },
   "outputs": [],
   "source": [
    "# Fix the empty cell problem\n",
    "Weighted_Return = Weighted_Return.drop([87]).reset_index(drop=True)"
   ]
  },
  {
   "cell_type": "code",
   "execution_count": 257,
   "metadata": {
    "collapsed": false
   },
   "outputs": [],
   "source": [
    "Weighted_Return['norm_diff_csi300_LAST'] = normalize_list(Weighted_Return['diff_csi300_LAST'])"
   ]
  },
  {
   "cell_type": "code",
   "execution_count": 258,
   "metadata": {
    "collapsed": true
   },
   "outputs": [],
   "source": [
    "Weighted_Return.to_csv(\"LAST_Weighted_Return_2015_Q1.csv\")"
   ]
  },
  {
   "cell_type": "markdown",
   "metadata": {},
   "source": [
    "### X3"
   ]
  },
  {
   "cell_type": "code",
   "execution_count": 212,
   "metadata": {
    "collapsed": true
   },
   "outputs": [],
   "source": [
    "dates_trade = frames['000001.SZ']['TRADE_DT'].unique()\n",
    "dates_trade.sort() # sort the date"
   ]
  },
  {
   "cell_type": "code",
   "execution_count": 213,
   "metadata": {
    "collapsed": false
   },
   "outputs": [],
   "source": [
    "start_dateind = list(dates_trade).index(20141231) # index of start date\n",
    "end_dateind = list(dates_trade).index(20150331) # index of end date"
   ]
  },
  {
   "cell_type": "code",
   "execution_count": 214,
   "metadata": {
    "collapsed": true
   },
   "outputs": [],
   "source": [
    "target_dates = dates_trade[start_dateind:end_dateind+1]"
   ]
  },
  {
   "cell_type": "code",
   "execution_count": 215,
   "metadata": {
    "collapsed": false
   },
   "outputs": [
    {
     "data": {
      "text/plain": [
       "array([20141231, 20150105, 20150106, 20150107, 20150108, 20150109,\n",
       "       20150112, 20150113, 20150114, 20150115, 20150116, 20150119,\n",
       "       20150120, 20150121, 20150122, 20150123, 20150126, 20150127,\n",
       "       20150128, 20150129, 20150130, 20150202, 20150203, 20150204,\n",
       "       20150205, 20150206, 20150209, 20150210, 20150211, 20150212,\n",
       "       20150213, 20150216, 20150217, 20150225, 20150226, 20150227,\n",
       "       20150302, 20150303, 20150304, 20150305, 20150306, 20150309,\n",
       "       20150310, 20150311, 20150312, 20150313, 20150316, 20150317,\n",
       "       20150318, 20150319, 20150320, 20150323, 20150324, 20150325,\n",
       "       20150326, 20150327, 20150330, 20150331])"
      ]
     },
     "execution_count": 215,
     "metadata": {},
     "output_type": "execute_result"
    }
   ],
   "source": [
    "target_dates "
   ]
  },
  {
   "cell_type": "code",
   "execution_count": 216,
   "metadata": {
    "collapsed": true
   },
   "outputs": [],
   "source": [
    "def find_FAST_mean(company): # For a given company, calculate mean of FLOAT_A_SHR_TODAY *close price (unadjusted) on trading days\n",
    "    FAST_product = [None]*len(target_dates)\n",
    "    \n",
    "    for i in range(len(target_dates)):\n",
    "        close_p = frames[company][frames[company]['TRADE_DT'] == target_dates[i]]['S_DQ_CLOSE'].values # get close price on a particular date\n",
    "        \n",
    "        # dataframe of the company\n",
    "        df_company = AShareEODDerivativeIndicator[AShareEODDerivativeIndicator['S_INFO_WINDCODE'] ==company]\n",
    "        FAST_day = float(df_company[df_company['TRADE_DT']==target_dates[i]]['FLOAT_A_SHR_TODAY']) #FLOAT_A_SHR_TODAY of a particular day\n",
    "        \n",
    "        FAST_product[i] = FAST_day*close_p\n",
    "        \n",
    "    FAST_mean = np.mean(FAST_product)\n",
    "    return FAST_mean"
   ]
  },
  {
   "cell_type": "code",
   "execution_count": 217,
   "metadata": {
    "collapsed": true
   },
   "outputs": [],
   "source": [
    "BEME_ratio_df_2015 = pd.read_csv(\"/Users/yiliwang/Documents/ACR Internship/Three_Factor_Model/2015_Q1/BEME_ratio_df_2015.csv\", header=0)\n",
    "norm_BEME_ratio_list = list(BEME_ratio_df_2015['norm_BEME_ratio'])"
   ]
  },
  {
   "cell_type": "code",
   "execution_count": 219,
   "metadata": {
    "collapsed": false
   },
   "outputs": [],
   "source": [
    "FAST_mean_list = [find_FAST_mean(company) for company in Weighted_Return['Company']]"
   ]
  },
  {
   "cell_type": "code",
   "execution_count": 220,
   "metadata": {
    "collapsed": false
   },
   "outputs": [],
   "source": [
    "FAST_mean_df = pd.DataFrame({'Company':Weighted_Return['Company'],'FAST_mean':FAST_mean_list})"
   ]
  },
  {
   "cell_type": "code",
   "execution_count": 221,
   "metadata": {
    "collapsed": false,
    "scrolled": true
   },
   "outputs": [],
   "source": [
    "FAST_mean_df['FAST_mean_norm'] = normalize_list(FAST_mean_df['FAST_mean'])"
   ]
  },
  {
   "cell_type": "code",
   "execution_count": 223,
   "metadata": {
    "collapsed": true
   },
   "outputs": [],
   "source": [
    "FAST_mean_df.to_csv(\"FAST_mean_2015_Q1.csv\") # save it as csv"
   ]
  },
  {
   "cell_type": "code",
   "execution_count": 222,
   "metadata": {
    "collapsed": false
   },
   "outputs": [
    {
     "data": {
      "text/plain": [
       "(271, 3)"
      ]
     },
     "execution_count": 222,
     "metadata": {},
     "output_type": "execute_result"
    }
   ],
   "source": [
    "FAST_mean_df.shape"
   ]
  },
  {
   "cell_type": "markdown",
   "metadata": {},
   "source": [
    "#### Y"
   ]
  },
  {
   "cell_type": "code",
   "execution_count": 240,
   "metadata": {
    "collapsed": true
   },
   "outputs": [],
   "source": [
    "# Obatin Close Price on starting and end dates for current qtr\n",
    "start_close_c = [None]*len(Weighted_Return['Company'])\n",
    "end_close_c = [None]*len(Weighted_Return['Company'])"
   ]
  },
  {
   "cell_type": "code",
   "execution_count": 241,
   "metadata": {
    "collapsed": false
   },
   "outputs": [],
   "source": [
    "for i in range(len(Weighted_Return['Company'])):\n",
    "    company = Weighted_Return['Company'][i]\n",
    "    start_close_c[i] =float(frames[company][frames[company]['TRADE_DT'] == 20141231]['S_DQ_ADJCLOSE'])\n",
    "    end_close_c[i] = float(frames[company][frames[company]['TRADE_DT'] ==20150331]['S_DQ_ADJCLOSE'])"
   ]
  },
  {
   "cell_type": "code",
   "execution_count": 242,
   "metadata": {
    "collapsed": true
   },
   "outputs": [],
   "source": [
    "com_qtr_return_CURRENT = [None]*len(Weighted_Return['Company']) "
   ]
  },
  {
   "cell_type": "code",
   "execution_count": 243,
   "metadata": {
    "collapsed": false
   },
   "outputs": [],
   "source": [
    "for i in range(len(Weighted_Return['Company'])):\n",
    "    com_qtr_return_CURRENT[i] = (end_close_c[i] - start_close_c[i])/start_close_c[i]"
   ]
  },
  {
   "cell_type": "code",
   "execution_count": 244,
   "metadata": {
    "collapsed": false,
    "scrolled": true
   },
   "outputs": [],
   "source": [
    "index_start_c = float(csi300_IndexData[csi300_IndexData['date'] == '2014-12-31']['last_price']) \n",
    "index_end_c = float(csi300_IndexData[csi300_IndexData['date'] == '2015-03-31']['last_price'].mean()) "
   ]
  },
  {
   "cell_type": "code",
   "execution_count": 246,
   "metadata": {
    "collapsed": false
   },
   "outputs": [],
   "source": [
    "index_qtr_return_CURRENT = (index_end_c - index_start_c)/index_start_c # calculate the index quarterly return"
   ]
  },
  {
   "cell_type": "code",
   "execution_count": 247,
   "metadata": {
    "collapsed": false
   },
   "outputs": [
    {
     "data": {
      "text/plain": [
       "0.146766492994139"
      ]
     },
     "execution_count": 247,
     "metadata": {},
     "output_type": "execute_result"
    }
   ],
   "source": [
    "index_qtr_return_CURRENT"
   ]
  },
  {
   "cell_type": "code",
   "execution_count": 248,
   "metadata": {
    "collapsed": true
   },
   "outputs": [],
   "source": [
    "diff_return_com_csi300_CURRENT = [None]*len(Weighted_Return['Company'])"
   ]
  },
  {
   "cell_type": "code",
   "execution_count": 249,
   "metadata": {
    "collapsed": true
   },
   "outputs": [],
   "source": [
    "for i in range(len(Weighted_Return['Company'])):\n",
    "    diff_return_com_csi300_CURRENT[i] = com_qtr_return_CURRENT[i] - index_qtr_return_CURRENT"
   ]
  },
  {
   "cell_type": "code",
   "execution_count": 251,
   "metadata": {
    "collapsed": false
   },
   "outputs": [],
   "source": [
    "Y_2015_Q1 = pd.DataFrame({'Company':Weighted_Return['Company'],'Y':diff_return_com_csi300_CURRENT})"
   ]
  },
  {
   "cell_type": "code",
   "execution_count": 252,
   "metadata": {
    "collapsed": true
   },
   "outputs": [],
   "source": [
    "Y_2015_Q1.to_csv(\"Y_2015_Q1.csv\")"
   ]
  },
  {
   "cell_type": "code",
   "execution_count": 266,
   "metadata": {
    "collapsed": false
   },
   "outputs": [],
   "source": [
    "del norm_BEME_ratio_list[87] # to keep same length of lists"
   ]
  },
  {
   "cell_type": "code",
   "execution_count": 267,
   "metadata": {
    "collapsed": false
   },
   "outputs": [],
   "source": [
    "TFM_2015_Q1 = pd.DataFrame({'X_1':norm_BEME_ratio_list,'X_2':Weighted_Return['norm_diff_csi300_LAST'], 'X_3': FAST_mean_df['FAST_mean_norm'], 'Y':diff_return_com_csi300_CURRENT})"
   ]
  },
  {
   "cell_type": "code",
   "execution_count": 268,
   "metadata": {
    "collapsed": false,
    "scrolled": true
   },
   "outputs": [
    {
     "data": {
      "text/html": [
       "<div>\n",
       "<table border=\"1\" class=\"dataframe\">\n",
       "  <thead>\n",
       "    <tr style=\"text-align: right;\">\n",
       "      <th></th>\n",
       "      <th>X_1</th>\n",
       "      <th>X_2</th>\n",
       "      <th>X_3</th>\n",
       "      <th>Y</th>\n",
       "    </tr>\n",
       "  </thead>\n",
       "  <tbody>\n",
       "    <tr>\n",
       "      <th>0</th>\n",
       "      <td>1.492577</td>\n",
       "      <td>0.172273</td>\n",
       "      <td>-0.190166</td>\n",
       "      <td>-0.109961</td>\n",
       "    </tr>\n",
       "    <tr>\n",
       "      <th>1</th>\n",
       "      <td>-0.716115</td>\n",
       "      <td>-0.546482</td>\n",
       "      <td>0.071973</td>\n",
       "      <td>-0.069223</td>\n",
       "    </tr>\n",
       "    <tr>\n",
       "      <th>2</th>\n",
       "      <td>-0.981127</td>\n",
       "      <td>-0.746919</td>\n",
       "      <td>-0.061710</td>\n",
       "      <td>0.083235</td>\n",
       "    </tr>\n",
       "    <tr>\n",
       "      <th>3</th>\n",
       "      <td>0.368114</td>\n",
       "      <td>-0.127419</td>\n",
       "      <td>-0.287801</td>\n",
       "      <td>0.083634</td>\n",
       "    </tr>\n",
       "    <tr>\n",
       "      <th>4</th>\n",
       "      <td>2.030339</td>\n",
       "      <td>0.473829</td>\n",
       "      <td>0.786992</td>\n",
       "      <td>-0.206827</td>\n",
       "    </tr>\n",
       "    <tr>\n",
       "      <th>5</th>\n",
       "      <td>0.009483</td>\n",
       "      <td>-0.743517</td>\n",
       "      <td>-0.124192</td>\n",
       "      <td>0.074619</td>\n",
       "    </tr>\n",
       "    <tr>\n",
       "      <th>6</th>\n",
       "      <td>-0.458558</td>\n",
       "      <td>1.934555</td>\n",
       "      <td>-0.051034</td>\n",
       "      <td>-0.047180</td>\n",
       "    </tr>\n",
       "    <tr>\n",
       "      <th>7</th>\n",
       "      <td>1.308653</td>\n",
       "      <td>0.497570</td>\n",
       "      <td>1.384712</td>\n",
       "      <td>-0.208240</td>\n",
       "    </tr>\n",
       "    <tr>\n",
       "      <th>8</th>\n",
       "      <td>-0.185719</td>\n",
       "      <td>-0.443271</td>\n",
       "      <td>-0.257481</td>\n",
       "      <td>0.231320</td>\n",
       "    </tr>\n",
       "    <tr>\n",
       "      <th>9</th>\n",
       "      <td>1.127622</td>\n",
       "      <td>0.911332</td>\n",
       "      <td>0.906995</td>\n",
       "      <td>-0.242697</td>\n",
       "    </tr>\n",
       "    <tr>\n",
       "      <th>10</th>\n",
       "      <td>-0.564372</td>\n",
       "      <td>-0.849644</td>\n",
       "      <td>-0.296592</td>\n",
       "      <td>0.278454</td>\n",
       "    </tr>\n",
       "    <tr>\n",
       "      <th>11</th>\n",
       "      <td>-0.389409</td>\n",
       "      <td>-1.210895</td>\n",
       "      <td>-0.328406</td>\n",
       "      <td>0.266738</td>\n",
       "    </tr>\n",
       "    <tr>\n",
       "      <th>12</th>\n",
       "      <td>-0.885794</td>\n",
       "      <td>-0.278179</td>\n",
       "      <td>-0.035074</td>\n",
       "      <td>-0.091343</td>\n",
       "    </tr>\n",
       "    <tr>\n",
       "      <th>13</th>\n",
       "      <td>-0.173973</td>\n",
       "      <td>0.729318</td>\n",
       "      <td>-0.037829</td>\n",
       "      <td>-0.131754</td>\n",
       "    </tr>\n",
       "    <tr>\n",
       "      <th>14</th>\n",
       "      <td>0.005782</td>\n",
       "      <td>-0.802211</td>\n",
       "      <td>-0.300499</td>\n",
       "      <td>0.704837</td>\n",
       "    </tr>\n",
       "    <tr>\n",
       "      <th>15</th>\n",
       "      <td>-1.090564</td>\n",
       "      <td>-0.741678</td>\n",
       "      <td>-0.298251</td>\n",
       "      <td>0.277476</td>\n",
       "    </tr>\n",
       "    <tr>\n",
       "      <th>16</th>\n",
       "      <td>0.281890</td>\n",
       "      <td>0.004746</td>\n",
       "      <td>-0.082711</td>\n",
       "      <td>0.130729</td>\n",
       "    </tr>\n",
       "    <tr>\n",
       "      <th>17</th>\n",
       "      <td>1.041108</td>\n",
       "      <td>-0.424166</td>\n",
       "      <td>-0.348473</td>\n",
       "      <td>0.079511</td>\n",
       "    </tr>\n",
       "    <tr>\n",
       "      <th>18</th>\n",
       "      <td>-0.339772</td>\n",
       "      <td>-0.266983</td>\n",
       "      <td>-0.364948</td>\n",
       "      <td>0.181482</td>\n",
       "    </tr>\n",
       "    <tr>\n",
       "      <th>19</th>\n",
       "      <td>-0.225542</td>\n",
       "      <td>-0.055892</td>\n",
       "      <td>-0.348462</td>\n",
       "      <td>0.075745</td>\n",
       "    </tr>\n",
       "    <tr>\n",
       "      <th>20</th>\n",
       "      <td>1.286993</td>\n",
       "      <td>0.648015</td>\n",
       "      <td>-0.184170</td>\n",
       "      <td>0.128609</td>\n",
       "    </tr>\n",
       "    <tr>\n",
       "      <th>21</th>\n",
       "      <td>1.193931</td>\n",
       "      <td>0.321832</td>\n",
       "      <td>0.308447</td>\n",
       "      <td>-0.152526</td>\n",
       "    </tr>\n",
       "    <tr>\n",
       "      <th>22</th>\n",
       "      <td>-0.678870</td>\n",
       "      <td>-0.584677</td>\n",
       "      <td>-0.348331</td>\n",
       "      <td>0.345604</td>\n",
       "    </tr>\n",
       "    <tr>\n",
       "      <th>23</th>\n",
       "      <td>-0.540858</td>\n",
       "      <td>2.139694</td>\n",
       "      <td>0.410115</td>\n",
       "      <td>-0.071652</td>\n",
       "    </tr>\n",
       "    <tr>\n",
       "      <th>24</th>\n",
       "      <td>0.347299</td>\n",
       "      <td>-1.363768</td>\n",
       "      <td>-0.399681</td>\n",
       "      <td>0.260144</td>\n",
       "    </tr>\n",
       "    <tr>\n",
       "      <th>25</th>\n",
       "      <td>-0.506087</td>\n",
       "      <td>1.981679</td>\n",
       "      <td>0.037240</td>\n",
       "      <td>-0.146766</td>\n",
       "    </tr>\n",
       "    <tr>\n",
       "      <th>26</th>\n",
       "      <td>-0.762415</td>\n",
       "      <td>-0.645210</td>\n",
       "      <td>-0.328237</td>\n",
       "      <td>0.181901</td>\n",
       "    </tr>\n",
       "    <tr>\n",
       "      <th>27</th>\n",
       "      <td>-0.560536</td>\n",
       "      <td>0.007371</td>\n",
       "      <td>0.131665</td>\n",
       "      <td>0.104983</td>\n",
       "    </tr>\n",
       "    <tr>\n",
       "      <th>28</th>\n",
       "      <td>0.768341</td>\n",
       "      <td>1.237173</td>\n",
       "      <td>0.003666</td>\n",
       "      <td>-0.035655</td>\n",
       "    </tr>\n",
       "    <tr>\n",
       "      <th>29</th>\n",
       "      <td>1.177451</td>\n",
       "      <td>0.917509</td>\n",
       "      <td>-0.016190</td>\n",
       "      <td>-0.207242</td>\n",
       "    </tr>\n",
       "    <tr>\n",
       "      <th>...</th>\n",
       "      <td>...</td>\n",
       "      <td>...</td>\n",
       "      <td>...</td>\n",
       "      <td>...</td>\n",
       "    </tr>\n",
       "    <tr>\n",
       "      <th>241</th>\n",
       "      <td>-0.461875</td>\n",
       "      <td>-0.221827</td>\n",
       "      <td>-0.140050</td>\n",
       "      <td>-0.039320</td>\n",
       "    </tr>\n",
       "    <tr>\n",
       "      <th>242</th>\n",
       "      <td>2.669061</td>\n",
       "      <td>0.534626</td>\n",
       "      <td>0.202021</td>\n",
       "      <td>-0.130558</td>\n",
       "    </tr>\n",
       "    <tr>\n",
       "      <th>243</th>\n",
       "      <td>-0.485615</td>\n",
       "      <td>-0.681888</td>\n",
       "      <td>-0.219830</td>\n",
       "      <td>-0.005655</td>\n",
       "    </tr>\n",
       "    <tr>\n",
       "      <th>244</th>\n",
       "      <td>-0.901843</td>\n",
       "      <td>-0.373986</td>\n",
       "      <td>-0.200113</td>\n",
       "      <td>-0.096541</td>\n",
       "    </tr>\n",
       "    <tr>\n",
       "      <th>245</th>\n",
       "      <td>-1.261759</td>\n",
       "      <td>0.661279</td>\n",
       "      <td>-0.254954</td>\n",
       "      <td>0.281386</td>\n",
       "    </tr>\n",
       "    <tr>\n",
       "      <th>246</th>\n",
       "      <td>1.369701</td>\n",
       "      <td>0.379446</td>\n",
       "      <td>-0.277497</td>\n",
       "      <td>0.932599</td>\n",
       "    </tr>\n",
       "    <tr>\n",
       "      <th>247</th>\n",
       "      <td>-0.397951</td>\n",
       "      <td>1.169754</td>\n",
       "      <td>-0.231109</td>\n",
       "      <td>0.189171</td>\n",
       "    </tr>\n",
       "    <tr>\n",
       "      <th>248</th>\n",
       "      <td>0.066189</td>\n",
       "      <td>-0.150108</td>\n",
       "      <td>-0.187170</td>\n",
       "      <td>0.061218</td>\n",
       "    </tr>\n",
       "    <tr>\n",
       "      <th>249</th>\n",
       "      <td>-0.614699</td>\n",
       "      <td>-0.410216</td>\n",
       "      <td>0.820998</td>\n",
       "      <td>-0.113334</td>\n",
       "    </tr>\n",
       "    <tr>\n",
       "      <th>250</th>\n",
       "      <td>-0.562921</td>\n",
       "      <td>2.333223</td>\n",
       "      <td>0.310291</td>\n",
       "      <td>-0.020792</td>\n",
       "    </tr>\n",
       "    <tr>\n",
       "      <th>251</th>\n",
       "      <td>-0.996171</td>\n",
       "      <td>-1.114947</td>\n",
       "      <td>-0.354051</td>\n",
       "      <td>0.344105</td>\n",
       "    </tr>\n",
       "    <tr>\n",
       "      <th>252</th>\n",
       "      <td>-0.131163</td>\n",
       "      <td>-0.458739</td>\n",
       "      <td>-0.255175</td>\n",
       "      <td>0.056176</td>\n",
       "    </tr>\n",
       "    <tr>\n",
       "      <th>253</th>\n",
       "      <td>-0.405193</td>\n",
       "      <td>2.805858</td>\n",
       "      <td>0.347190</td>\n",
       "      <td>0.083353</td>\n",
       "    </tr>\n",
       "    <tr>\n",
       "      <th>254</th>\n",
       "      <td>-0.662857</td>\n",
       "      <td>-0.543471</td>\n",
       "      <td>-0.255736</td>\n",
       "      <td>0.177072</td>\n",
       "    </tr>\n",
       "    <tr>\n",
       "      <th>255</th>\n",
       "      <td>1.998631</td>\n",
       "      <td>0.365850</td>\n",
       "      <td>4.768064</td>\n",
       "      <td>-0.091211</td>\n",
       "    </tr>\n",
       "    <tr>\n",
       "      <th>256</th>\n",
       "      <td>1.315665</td>\n",
       "      <td>0.257365</td>\n",
       "      <td>-0.186102</td>\n",
       "      <td>0.017864</td>\n",
       "    </tr>\n",
       "    <tr>\n",
       "      <th>257</th>\n",
       "      <td>-1.317023</td>\n",
       "      <td>-0.136852</td>\n",
       "      <td>-0.153378</td>\n",
       "      <td>0.841560</td>\n",
       "    </tr>\n",
       "    <tr>\n",
       "      <th>258</th>\n",
       "      <td>-1.005786</td>\n",
       "      <td>1.522507</td>\n",
       "      <td>-0.323086</td>\n",
       "      <td>0.045906</td>\n",
       "    </tr>\n",
       "    <tr>\n",
       "      <th>259</th>\n",
       "      <td>0.134515</td>\n",
       "      <td>-0.779061</td>\n",
       "      <td>-0.304343</td>\n",
       "      <td>0.280949</td>\n",
       "    </tr>\n",
       "    <tr>\n",
       "      <th>260</th>\n",
       "      <td>-0.486142</td>\n",
       "      <td>1.140783</td>\n",
       "      <td>-0.171382</td>\n",
       "      <td>0.881634</td>\n",
       "    </tr>\n",
       "    <tr>\n",
       "      <th>261</th>\n",
       "      <td>1.137482</td>\n",
       "      <td>-1.036022</td>\n",
       "      <td>-0.410959</td>\n",
       "      <td>0.468335</td>\n",
       "    </tr>\n",
       "    <tr>\n",
       "      <th>262</th>\n",
       "      <td>-0.020360</td>\n",
       "      <td>-0.329052</td>\n",
       "      <td>-0.238992</td>\n",
       "      <td>0.202077</td>\n",
       "    </tr>\n",
       "    <tr>\n",
       "      <th>263</th>\n",
       "      <td>1.267234</td>\n",
       "      <td>0.563490</td>\n",
       "      <td>-0.189318</td>\n",
       "      <td>-0.133204</td>\n",
       "    </tr>\n",
       "    <tr>\n",
       "      <th>264</th>\n",
       "      <td>-0.931489</td>\n",
       "      <td>-0.510896</td>\n",
       "      <td>-0.278615</td>\n",
       "      <td>0.039417</td>\n",
       "    </tr>\n",
       "    <tr>\n",
       "      <th>265</th>\n",
       "      <td>-0.773246</td>\n",
       "      <td>-0.623948</td>\n",
       "      <td>-0.230090</td>\n",
       "      <td>0.669125</td>\n",
       "    </tr>\n",
       "    <tr>\n",
       "      <th>266</th>\n",
       "      <td>2.346056</td>\n",
       "      <td>-0.517021</td>\n",
       "      <td>-0.394208</td>\n",
       "      <td>0.052372</td>\n",
       "    </tr>\n",
       "    <tr>\n",
       "      <th>267</th>\n",
       "      <td>1.243438</td>\n",
       "      <td>0.991643</td>\n",
       "      <td>-0.288639</td>\n",
       "      <td>0.036693</td>\n",
       "    </tr>\n",
       "    <tr>\n",
       "      <th>268</th>\n",
       "      <td>-0.438762</td>\n",
       "      <td>-0.824710</td>\n",
       "      <td>-0.298767</td>\n",
       "      <td>0.142696</td>\n",
       "    </tr>\n",
       "    <tr>\n",
       "      <th>269</th>\n",
       "      <td>0.727463</td>\n",
       "      <td>0.876806</td>\n",
       "      <td>-0.126936</td>\n",
       "      <td>-0.113478</td>\n",
       "    </tr>\n",
       "    <tr>\n",
       "      <th>270</th>\n",
       "      <td>-0.573209</td>\n",
       "      <td>0.815760</td>\n",
       "      <td>-0.141394</td>\n",
       "      <td>0.032303</td>\n",
       "    </tr>\n",
       "  </tbody>\n",
       "</table>\n",
       "<p>271 rows × 4 columns</p>\n",
       "</div>"
      ],
      "text/plain": [
       "          X_1       X_2       X_3         Y\n",
       "0    1.492577  0.172273 -0.190166 -0.109961\n",
       "1   -0.716115 -0.546482  0.071973 -0.069223\n",
       "2   -0.981127 -0.746919 -0.061710  0.083235\n",
       "3    0.368114 -0.127419 -0.287801  0.083634\n",
       "4    2.030339  0.473829  0.786992 -0.206827\n",
       "5    0.009483 -0.743517 -0.124192  0.074619\n",
       "6   -0.458558  1.934555 -0.051034 -0.047180\n",
       "7    1.308653  0.497570  1.384712 -0.208240\n",
       "8   -0.185719 -0.443271 -0.257481  0.231320\n",
       "9    1.127622  0.911332  0.906995 -0.242697\n",
       "10  -0.564372 -0.849644 -0.296592  0.278454\n",
       "11  -0.389409 -1.210895 -0.328406  0.266738\n",
       "12  -0.885794 -0.278179 -0.035074 -0.091343\n",
       "13  -0.173973  0.729318 -0.037829 -0.131754\n",
       "14   0.005782 -0.802211 -0.300499  0.704837\n",
       "15  -1.090564 -0.741678 -0.298251  0.277476\n",
       "16   0.281890  0.004746 -0.082711  0.130729\n",
       "17   1.041108 -0.424166 -0.348473  0.079511\n",
       "18  -0.339772 -0.266983 -0.364948  0.181482\n",
       "19  -0.225542 -0.055892 -0.348462  0.075745\n",
       "20   1.286993  0.648015 -0.184170  0.128609\n",
       "21   1.193931  0.321832  0.308447 -0.152526\n",
       "22  -0.678870 -0.584677 -0.348331  0.345604\n",
       "23  -0.540858  2.139694  0.410115 -0.071652\n",
       "24   0.347299 -1.363768 -0.399681  0.260144\n",
       "25  -0.506087  1.981679  0.037240 -0.146766\n",
       "26  -0.762415 -0.645210 -0.328237  0.181901\n",
       "27  -0.560536  0.007371  0.131665  0.104983\n",
       "28   0.768341  1.237173  0.003666 -0.035655\n",
       "29   1.177451  0.917509 -0.016190 -0.207242\n",
       "..        ...       ...       ...       ...\n",
       "241 -0.461875 -0.221827 -0.140050 -0.039320\n",
       "242  2.669061  0.534626  0.202021 -0.130558\n",
       "243 -0.485615 -0.681888 -0.219830 -0.005655\n",
       "244 -0.901843 -0.373986 -0.200113 -0.096541\n",
       "245 -1.261759  0.661279 -0.254954  0.281386\n",
       "246  1.369701  0.379446 -0.277497  0.932599\n",
       "247 -0.397951  1.169754 -0.231109  0.189171\n",
       "248  0.066189 -0.150108 -0.187170  0.061218\n",
       "249 -0.614699 -0.410216  0.820998 -0.113334\n",
       "250 -0.562921  2.333223  0.310291 -0.020792\n",
       "251 -0.996171 -1.114947 -0.354051  0.344105\n",
       "252 -0.131163 -0.458739 -0.255175  0.056176\n",
       "253 -0.405193  2.805858  0.347190  0.083353\n",
       "254 -0.662857 -0.543471 -0.255736  0.177072\n",
       "255  1.998631  0.365850  4.768064 -0.091211\n",
       "256  1.315665  0.257365 -0.186102  0.017864\n",
       "257 -1.317023 -0.136852 -0.153378  0.841560\n",
       "258 -1.005786  1.522507 -0.323086  0.045906\n",
       "259  0.134515 -0.779061 -0.304343  0.280949\n",
       "260 -0.486142  1.140783 -0.171382  0.881634\n",
       "261  1.137482 -1.036022 -0.410959  0.468335\n",
       "262 -0.020360 -0.329052 -0.238992  0.202077\n",
       "263  1.267234  0.563490 -0.189318 -0.133204\n",
       "264 -0.931489 -0.510896 -0.278615  0.039417\n",
       "265 -0.773246 -0.623948 -0.230090  0.669125\n",
       "266  2.346056 -0.517021 -0.394208  0.052372\n",
       "267  1.243438  0.991643 -0.288639  0.036693\n",
       "268 -0.438762 -0.824710 -0.298767  0.142696\n",
       "269  0.727463  0.876806 -0.126936 -0.113478\n",
       "270 -0.573209  0.815760 -0.141394  0.032303\n",
       "\n",
       "[271 rows x 4 columns]"
      ]
     },
     "execution_count": 268,
     "metadata": {},
     "output_type": "execute_result"
    }
   ],
   "source": [
    "TFM_2015_Q1"
   ]
  },
  {
   "cell_type": "code",
   "execution_count": 269,
   "metadata": {
    "collapsed": true
   },
   "outputs": [],
   "source": [
    "TFM_2015_Q1.to_csv(\"TFM_2015_Q1.csv\")"
   ]
  },
  {
   "cell_type": "code",
   "execution_count": 270,
   "metadata": {
    "collapsed": true
   },
   "outputs": [],
   "source": [
    "def outlier_index(list_name, std_num):\n",
    "    mean = list_name.mean() # mean\n",
    "    std = np.std(list_name, axis=0) # standard deviation\n",
    "    \n",
    "    upper_b = mean+std_num*std\n",
    "    lower_b = mean-std_num*std\n",
    "    \n",
    "    ind_upper = [i for i in range(len(list_name)) if list_name[i] > upper_b]\n",
    "    ind_lower = [i for i in range(len(list_name)) if list_name[i] < lower_b]\n",
    "    outlier_index = ind_upper+ind_lower\n",
    "    \n",
    "    return outlier_index"
   ]
  },
  {
   "cell_type": "code",
   "execution_count": 271,
   "metadata": {
    "collapsed": true
   },
   "outputs": [],
   "source": [
    "outlier_all =outlier_index(TFM_2015_Q1['X_1'], 5) + outlier_index(TFM_2015_Q1['X_2'], 5)+ outlier_index(TFM_2015_Q1['X_3'], 5)+ outlier_index(TFM_2015_Q1['Y'], 5)"
   ]
  },
  {
   "cell_type": "code",
   "execution_count": 272,
   "metadata": {
    "collapsed": true
   },
   "outputs": [],
   "source": [
    "TFM_2015_Q1_NO = TFM_2015_Q1.drop(TFM_2015_Q1.index[outlier_all])"
   ]
  },
  {
   "cell_type": "code",
   "execution_count": 273,
   "metadata": {
    "collapsed": false
   },
   "outputs": [
    {
     "data": {
      "text/html": [
       "<div>\n",
       "<table border=\"1\" class=\"dataframe\">\n",
       "  <thead>\n",
       "    <tr style=\"text-align: right;\">\n",
       "      <th></th>\n",
       "      <th>X_1</th>\n",
       "      <th>X_2</th>\n",
       "      <th>X_3</th>\n",
       "      <th>Y</th>\n",
       "    </tr>\n",
       "  </thead>\n",
       "  <tbody>\n",
       "    <tr>\n",
       "      <th>0</th>\n",
       "      <td>1.492577</td>\n",
       "      <td>0.172273</td>\n",
       "      <td>-0.190166</td>\n",
       "      <td>-0.109961</td>\n",
       "    </tr>\n",
       "    <tr>\n",
       "      <th>1</th>\n",
       "      <td>-0.716115</td>\n",
       "      <td>-0.546482</td>\n",
       "      <td>0.071973</td>\n",
       "      <td>-0.069223</td>\n",
       "    </tr>\n",
       "    <tr>\n",
       "      <th>2</th>\n",
       "      <td>-0.981127</td>\n",
       "      <td>-0.746919</td>\n",
       "      <td>-0.061710</td>\n",
       "      <td>0.083235</td>\n",
       "    </tr>\n",
       "    <tr>\n",
       "      <th>3</th>\n",
       "      <td>0.368114</td>\n",
       "      <td>-0.127419</td>\n",
       "      <td>-0.287801</td>\n",
       "      <td>0.083634</td>\n",
       "    </tr>\n",
       "    <tr>\n",
       "      <th>4</th>\n",
       "      <td>2.030339</td>\n",
       "      <td>0.473829</td>\n",
       "      <td>0.786992</td>\n",
       "      <td>-0.206827</td>\n",
       "    </tr>\n",
       "    <tr>\n",
       "      <th>5</th>\n",
       "      <td>0.009483</td>\n",
       "      <td>-0.743517</td>\n",
       "      <td>-0.124192</td>\n",
       "      <td>0.074619</td>\n",
       "    </tr>\n",
       "    <tr>\n",
       "      <th>6</th>\n",
       "      <td>-0.458558</td>\n",
       "      <td>1.934555</td>\n",
       "      <td>-0.051034</td>\n",
       "      <td>-0.047180</td>\n",
       "    </tr>\n",
       "    <tr>\n",
       "      <th>7</th>\n",
       "      <td>1.308653</td>\n",
       "      <td>0.497570</td>\n",
       "      <td>1.384712</td>\n",
       "      <td>-0.208240</td>\n",
       "    </tr>\n",
       "    <tr>\n",
       "      <th>8</th>\n",
       "      <td>-0.185719</td>\n",
       "      <td>-0.443271</td>\n",
       "      <td>-0.257481</td>\n",
       "      <td>0.231320</td>\n",
       "    </tr>\n",
       "    <tr>\n",
       "      <th>9</th>\n",
       "      <td>1.127622</td>\n",
       "      <td>0.911332</td>\n",
       "      <td>0.906995</td>\n",
       "      <td>-0.242697</td>\n",
       "    </tr>\n",
       "  </tbody>\n",
       "</table>\n",
       "</div>"
      ],
      "text/plain": [
       "        X_1       X_2       X_3         Y\n",
       "0  1.492577  0.172273 -0.190166 -0.109961\n",
       "1 -0.716115 -0.546482  0.071973 -0.069223\n",
       "2 -0.981127 -0.746919 -0.061710  0.083235\n",
       "3  0.368114 -0.127419 -0.287801  0.083634\n",
       "4  2.030339  0.473829  0.786992 -0.206827\n",
       "5  0.009483 -0.743517 -0.124192  0.074619\n",
       "6 -0.458558  1.934555 -0.051034 -0.047180\n",
       "7  1.308653  0.497570  1.384712 -0.208240\n",
       "8 -0.185719 -0.443271 -0.257481  0.231320\n",
       "9  1.127622  0.911332  0.906995 -0.242697"
      ]
     },
     "execution_count": 273,
     "metadata": {},
     "output_type": "execute_result"
    }
   ],
   "source": [
    "TFM_2015_Q1_NO[:10]"
   ]
  },
  {
   "cell_type": "code",
   "execution_count": 274,
   "metadata": {
    "collapsed": true
   },
   "outputs": [],
   "source": [
    "TFM_2015_Q1_NO.to_csv(\"TFM_2015_Q1_NO.csv\")"
   ]
  },
  {
   "cell_type": "markdown",
   "metadata": {},
   "source": [
    "# ************* Result DataFrame: TFM_2015_Q1_NO.csv *************"
   ]
  },
  {
   "cell_type": "code",
   "execution_count": null,
   "metadata": {
    "collapsed": true
   },
   "outputs": [],
   "source": []
  }
 ],
 "metadata": {
  "anaconda-cloud": {},
  "kernelspec": {
   "display_name": "Python [conda root]",
   "language": "python",
   "name": "conda-root-py"
  },
  "language_info": {
   "codemirror_mode": {
    "name": "ipython",
    "version": 2
   },
   "file_extension": ".py",
   "mimetype": "text/x-python",
   "name": "python",
   "nbconvert_exporter": "python",
   "pygments_lexer": "ipython2",
   "version": "2.7.12"
  }
 },
 "nbformat": 4,
 "nbformat_minor": 1
}
