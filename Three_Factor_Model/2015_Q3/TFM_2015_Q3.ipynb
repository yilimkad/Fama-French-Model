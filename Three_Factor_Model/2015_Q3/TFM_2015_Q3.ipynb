{
 "cells": [
  {
   "cell_type": "markdown",
   "metadata": {},
   "source": [
    "# Time Period: 20150630-20150930"
   ]
  },
  {
   "cell_type": "code",
   "execution_count": 1,
   "metadata": {
    "collapsed": true
   },
   "outputs": [],
   "source": [
    "import pandas as pd\n",
    "import glob\n",
    "import os\n",
    "import numpy as np\n",
    "from sklearn import linear_model\n",
    "import matplotlib.pyplot as plt\n",
    "%matplotlib inline"
   ]
  },
  {
   "cell_type": "code",
   "execution_count": 2,
   "metadata": {
    "collapsed": true
   },
   "outputs": [],
   "source": [
    "AShareEODDerivativeIndicator = pd.read_csv(\"/Users/yiliwang/Documents/ACR Internship/Supplementary datasets/EODDerivativeIndicator.csv\", header=0)"
   ]
  },
  {
   "cell_type": "markdown",
   "metadata": {},
   "source": [
    "### X1"
   ]
  },
  {
   "cell_type": "code",
   "execution_count": 3,
   "metadata": {
    "collapsed": true
   },
   "outputs": [],
   "source": [
    "BEME_ratio_df_2015 = pd.read_csv(\"/Users/yiliwang/Documents/ACR Internship/Three_Factor_Model/2015_Q1/BEME_ratio_df_2015.csv\", header=0)"
   ]
  },
  {
   "cell_type": "code",
   "execution_count": 4,
   "metadata": {
    "collapsed": true
   },
   "outputs": [],
   "source": [
    "norm_BEME_ratio_list = list(BEME_ratio_df_2015['norm_BEME_ratio'])"
   ]
  },
  {
   "cell_type": "markdown",
   "metadata": {},
   "source": [
    "### X2: 2015Q2 return"
   ]
  },
  {
   "cell_type": "code",
   "execution_count": 5,
   "metadata": {
    "collapsed": true
   },
   "outputs": [],
   "source": [
    "os.chdir('/Users/yiliwang/Documents/ACR Internship/data/')\n",
    "files = [file for file in os.listdir( os.curdir ) if file.endswith(\".csv\")]\n",
    "# Store files to dictionary using their own name\n",
    "frames = {}\n",
    "for each_file in files:\n",
    "    frames[os.path.splitext(each_file)[0]] = pd.read_csv(each_file)"
   ]
  },
  {
   "cell_type": "code",
   "execution_count": 6,
   "metadata": {
    "collapsed": true
   },
   "outputs": [],
   "source": [
    "start_close = [None]*len(BEME_ratio_df_2015['WINDCODE'])\n",
    "end_close = [None]*len(BEME_ratio_df_2015['WINDCODE'])"
   ]
  },
  {
   "cell_type": "code",
   "execution_count": 7,
   "metadata": {
    "collapsed": true
   },
   "outputs": [],
   "source": [
    "for i in range(len(BEME_ratio_df_2015['WINDCODE'])):\n",
    "    company = BEME_ratio_df_2015['WINDCODE'][i]\n",
    "    start_close[i] =float(frames[company][frames[company]['TRADE_DT'] == 20150331]['S_DQ_ADJCLOSE'])\n",
    "    end_close[i] = float(frames[company][frames[company]['TRADE_DT'] == 20150630]['S_DQ_ADJCLOSE'])"
   ]
  },
  {
   "cell_type": "code",
   "execution_count": 8,
   "metadata": {
    "collapsed": true
   },
   "outputs": [],
   "source": [
    "com_qtr_return = [None]*len(BEME_ratio_df_2015['WINDCODE'])"
   ]
  },
  {
   "cell_type": "code",
   "execution_count": 9,
   "metadata": {
    "collapsed": true
   },
   "outputs": [],
   "source": [
    "for i in range(len(BEME_ratio_df_2015['WINDCODE'])):\n",
    "    com_qtr_return[i] = (end_close[i] - start_close[i])/start_close[i]"
   ]
  },
  {
   "cell_type": "code",
   "execution_count": 10,
   "metadata": {
    "collapsed": true
   },
   "outputs": [],
   "source": [
    "csi300_IndexData= pd.read_csv(\"/Users/yiliwang/Documents/ACR Internship/csi_300_IndexData_daily_.csv\", header=0)"
   ]
  },
  {
   "cell_type": "code",
   "execution_count": 12,
   "metadata": {
    "collapsed": false
   },
   "outputs": [],
   "source": [
    "index_start = float(csi300_IndexData[csi300_IndexData['date'] == '2015-03-30']['last_price'].mean()) # index price on start day\n",
    "index_end = float(csi300_IndexData[csi300_IndexData['date'] == '2015-06-30']['last_price'].mean())  "
   ]
  },
  {
   "cell_type": "code",
   "execution_count": 13,
   "metadata": {
    "collapsed": true
   },
   "outputs": [],
   "source": [
    "index_qtr_return = (index_end - index_start)/index_start # calculate the index quarterly return"
   ]
  },
  {
   "cell_type": "code",
   "execution_count": 14,
   "metadata": {
    "collapsed": false
   },
   "outputs": [
    {
     "name": "stdout",
     "output_type": "stream",
     "text": [
      "0.0940609618148\n"
     ]
    }
   ],
   "source": [
    "print index_qtr_return"
   ]
  },
  {
   "cell_type": "code",
   "execution_count": 15,
   "metadata": {
    "collapsed": true
   },
   "outputs": [],
   "source": [
    "diff_return_com_csi300 = [None]*len(BEME_ratio_df_2015['WINDCODE'])"
   ]
  },
  {
   "cell_type": "code",
   "execution_count": 16,
   "metadata": {
    "collapsed": true
   },
   "outputs": [],
   "source": [
    "for i in range(len(BEME_ratio_df_2015['WINDCODE'])):\n",
    "    diff_return_com_csi300[i] = com_qtr_return[i] - index_qtr_return"
   ]
  },
  {
   "cell_type": "code",
   "execution_count": 17,
   "metadata": {
    "collapsed": true
   },
   "outputs": [],
   "source": [
    "Weighted_Return = pd.DataFrame({'Company':BEME_ratio_df_2015['WINDCODE'],'diff_csi300_LAST': diff_return_com_csi300})"
   ]
  },
  {
   "cell_type": "code",
   "execution_count": 18,
   "metadata": {
    "collapsed": true
   },
   "outputs": [],
   "source": [
    "# Normalize Function\n",
    "def normalize_list(input_list):\n",
    "    empty_list = [None]*len(input_list)\n",
    "    for i in range(len(input_list)):\n",
    "        empty_list[i] = (input_list[i]-input_list.mean())/input_list.std()\n",
    "    return empty_list"
   ]
  },
  {
   "cell_type": "code",
   "execution_count": 19,
   "metadata": {
    "collapsed": true
   },
   "outputs": [],
   "source": [
    "Weighted_Return['norm_diff_csi300_LAST'] = normalize_list(Weighted_Return['diff_csi300_LAST'])"
   ]
  },
  {
   "cell_type": "code",
   "execution_count": 20,
   "metadata": {
    "collapsed": true
   },
   "outputs": [],
   "source": [
    "Weighted_Return.to_csv(\"LAST_Weighted_Return_2015_Q3.csv\")"
   ]
  },
  {
   "cell_type": "markdown",
   "metadata": {},
   "source": [
    "### X3"
   ]
  },
  {
   "cell_type": "code",
   "execution_count": 21,
   "metadata": {
    "collapsed": true
   },
   "outputs": [],
   "source": [
    "# Extract trading dates of certain period \n",
    "dates_trade = frames['000001.SZ']['TRADE_DT'].unique()\n",
    "dates_trade.sort() # sort the date\n",
    "\n",
    "start_dateind = list(dates_trade).index(20150630) # index of start date\n",
    "end_dateind = list(dates_trade).index(20150930) # index of end date"
   ]
  },
  {
   "cell_type": "code",
   "execution_count": 22,
   "metadata": {
    "collapsed": true
   },
   "outputs": [],
   "source": [
    "target_dates = dates_trade[start_dateind:end_dateind+1]"
   ]
  },
  {
   "cell_type": "code",
   "execution_count": 23,
   "metadata": {
    "collapsed": false
   },
   "outputs": [
    {
     "data": {
      "text/plain": [
       "array([20150630, 20150701, 20150702, 20150703, 20150706, 20150707,\n",
       "       20150708, 20150709, 20150710, 20150713, 20150714, 20150715,\n",
       "       20150716, 20150717, 20150720, 20150721, 20150722, 20150723,\n",
       "       20150724, 20150727, 20150728, 20150729, 20150730, 20150731,\n",
       "       20150803, 20150804, 20150805, 20150806, 20150807, 20150810,\n",
       "       20150811, 20150812, 20150813, 20150814, 20150817, 20150818,\n",
       "       20150819, 20150820, 20150821, 20150824, 20150825, 20150826,\n",
       "       20150827, 20150828, 20150831, 20150901, 20150902, 20150907,\n",
       "       20150908, 20150909, 20150910, 20150911, 20150914, 20150915,\n",
       "       20150916, 20150917, 20150918, 20150921, 20150922, 20150923,\n",
       "       20150924, 20150925, 20150928, 20150929, 20150930])"
      ]
     },
     "execution_count": 23,
     "metadata": {},
     "output_type": "execute_result"
    }
   ],
   "source": [
    "target_dates"
   ]
  },
  {
   "cell_type": "code",
   "execution_count": 24,
   "metadata": {
    "collapsed": true
   },
   "outputs": [],
   "source": [
    "def find_FAST_mean(company): # For a given company, calculate mean of FLOAT_A_SHR_TODAY *close price (unadjusted) on trading days\n",
    "    FAST_product = [None]*len(target_dates)\n",
    "    \n",
    "    for i in range(len(target_dates)):\n",
    "        close_p = frames[company][frames[company]['TRADE_DT'] == target_dates[i]]['S_DQ_CLOSE'].values # get close price on a particular date\n",
    "        \n",
    "        # dataframe of the company\n",
    "        df_company = AShareEODDerivativeIndicator[AShareEODDerivativeIndicator['S_INFO_WINDCODE'] ==company]\n",
    "        FAST_day = float(df_company[df_company['TRADE_DT']==target_dates[i]]['FLOAT_A_SHR_TODAY']) #FLOAT_A_SHR_TODAY of a particular day\n",
    "        \n",
    "        FAST_product[i] = FAST_day*close_p\n",
    "        \n",
    "    FAST_mean = np.mean(FAST_product)\n",
    "    return FAST_mean"
   ]
  },
  {
   "cell_type": "code",
   "execution_count": 25,
   "metadata": {
    "collapsed": true
   },
   "outputs": [],
   "source": [
    "FAST_mean_list = [find_FAST_mean(company) for company in BEME_ratio_df_2015['WINDCODE']]"
   ]
  },
  {
   "cell_type": "code",
   "execution_count": 26,
   "metadata": {
    "collapsed": true
   },
   "outputs": [],
   "source": [
    "FAST_mean_df = pd.DataFrame({'Company':BEME_ratio_df_2015['WINDCODE'],'FAST_mean':FAST_mean_list})\n",
    "FAST_mean_df['FAST_mean_norm'] = normalize_list(FAST_mean_df['FAST_mean'])"
   ]
  },
  {
   "cell_type": "code",
   "execution_count": 28,
   "metadata": {
    "collapsed": false,
    "scrolled": true
   },
   "outputs": [
    {
     "data": {
      "text/html": [
       "<div>\n",
       "<table border=\"1\" class=\"dataframe\">\n",
       "  <thead>\n",
       "    <tr style=\"text-align: right;\">\n",
       "      <th></th>\n",
       "      <th>Company</th>\n",
       "      <th>FAST_mean</th>\n",
       "      <th>FAST_mean_norm</th>\n",
       "    </tr>\n",
       "  </thead>\n",
       "  <tbody>\n",
       "    <tr>\n",
       "      <th>0</th>\n",
       "      <td>000157.SZ</td>\n",
       "      <td>3.804816e+06</td>\n",
       "      <td>-0.241393</td>\n",
       "    </tr>\n",
       "    <tr>\n",
       "      <th>1</th>\n",
       "      <td>600887.SH</td>\n",
       "      <td>1.019532e+07</td>\n",
       "      <td>0.147077</td>\n",
       "    </tr>\n",
       "    <tr>\n",
       "      <th>2</th>\n",
       "      <td>600276.SH</td>\n",
       "      <td>8.781451e+06</td>\n",
       "      <td>0.061130</td>\n",
       "    </tr>\n",
       "    <tr>\n",
       "      <th>3</th>\n",
       "      <td>600009.SH</td>\n",
       "      <td>3.101536e+06</td>\n",
       "      <td>-0.284145</td>\n",
       "    </tr>\n",
       "    <tr>\n",
       "      <th>4</th>\n",
       "      <td>601328.SH</td>\n",
       "      <td>2.422352e+07</td>\n",
       "      <td>0.999833</td>\n",
       "    </tr>\n",
       "    <tr>\n",
       "      <th>5</th>\n",
       "      <td>600150.SH</td>\n",
       "      <td>5.501954e+06</td>\n",
       "      <td>-0.138226</td>\n",
       "    </tr>\n",
       "    <tr>\n",
       "      <th>6</th>\n",
       "      <td>000728.SZ</td>\n",
       "      <td>4.230943e+06</td>\n",
       "      <td>-0.215490</td>\n",
       "    </tr>\n",
       "    <tr>\n",
       "      <th>7</th>\n",
       "      <td>600036.SH</td>\n",
       "      <td>3.639358e+07</td>\n",
       "      <td>1.739636</td>\n",
       "    </tr>\n",
       "    <tr>\n",
       "      <th>8</th>\n",
       "      <td>600660.SH</td>\n",
       "      <td>2.610169e+06</td>\n",
       "      <td>-0.314014</td>\n",
       "    </tr>\n",
       "    <tr>\n",
       "      <th>9</th>\n",
       "      <td>601998.SH</td>\n",
       "      <td>2.382825e+07</td>\n",
       "      <td>0.975805</td>\n",
       "    </tr>\n",
       "  </tbody>\n",
       "</table>\n",
       "</div>"
      ],
      "text/plain": [
       "     Company     FAST_mean  FAST_mean_norm\n",
       "0  000157.SZ  3.804816e+06       -0.241393\n",
       "1  600887.SH  1.019532e+07        0.147077\n",
       "2  600276.SH  8.781451e+06        0.061130\n",
       "3  600009.SH  3.101536e+06       -0.284145\n",
       "4  601328.SH  2.422352e+07        0.999833\n",
       "5  600150.SH  5.501954e+06       -0.138226\n",
       "6  000728.SZ  4.230943e+06       -0.215490\n",
       "7  600036.SH  3.639358e+07        1.739636\n",
       "8  600660.SH  2.610169e+06       -0.314014\n",
       "9  601998.SH  2.382825e+07        0.975805"
      ]
     },
     "execution_count": 28,
     "metadata": {},
     "output_type": "execute_result"
    }
   ],
   "source": [
    "FAST_mean_df[:10]"
   ]
  },
  {
   "cell_type": "code",
   "execution_count": 29,
   "metadata": {
    "collapsed": true
   },
   "outputs": [],
   "source": [
    "FAST_mean_df.to_csv(\"FAST_mean_2015_Q3.csv\") # save it as csv"
   ]
  },
  {
   "cell_type": "markdown",
   "metadata": {},
   "source": [
    "### Y"
   ]
  },
  {
   "cell_type": "code",
   "execution_count": 30,
   "metadata": {
    "collapsed": true
   },
   "outputs": [],
   "source": [
    "# Obatin Close Price on starting and end dates for current qtr\n",
    "start_close_c = [None]*len(BEME_ratio_df_2015['WINDCODE'])\n",
    "end_close_c = [None]*len(BEME_ratio_df_2015['WINDCODE'])"
   ]
  },
  {
   "cell_type": "code",
   "execution_count": 31,
   "metadata": {
    "collapsed": true
   },
   "outputs": [],
   "source": [
    "for i in range(len(BEME_ratio_df_2015['WINDCODE'])):\n",
    "    company = BEME_ratio_df_2015['WINDCODE'][i]\n",
    "    start_close_c[i] =float(frames[company][frames[company]['TRADE_DT'] == 20150630]['S_DQ_ADJCLOSE'])\n",
    "    end_close_c[i] = float(frames[company][frames[company]['TRADE_DT'] ==20150930]['S_DQ_ADJCLOSE'])"
   ]
  },
  {
   "cell_type": "code",
   "execution_count": 32,
   "metadata": {
    "collapsed": true
   },
   "outputs": [],
   "source": [
    "com_qtr_return_CURRENT = [None]*len(BEME_ratio_df_2015['WINDCODE']) "
   ]
  },
  {
   "cell_type": "code",
   "execution_count": 33,
   "metadata": {
    "collapsed": true
   },
   "outputs": [],
   "source": [
    "for i in range(len(BEME_ratio_df_2015['WINDCODE'])):\n",
    "    com_qtr_return_CURRENT[i] = (end_close_c[i] - start_close_c[i])/start_close_c[i]"
   ]
  },
  {
   "cell_type": "code",
   "execution_count": 34,
   "metadata": {
    "collapsed": true
   },
   "outputs": [],
   "source": [
    "index_start_c = float(csi300_IndexData[csi300_IndexData['date'] == '2015-06-30']['last_price'].mean()) \n",
    "index_end_c = float(csi300_IndexData[csi300_IndexData['date'] == '2015-09-30']['last_price'].mean()) "
   ]
  },
  {
   "cell_type": "code",
   "execution_count": 35,
   "metadata": {
    "collapsed": true
   },
   "outputs": [],
   "source": [
    "index_qtr_return_CURRENT = (index_end_c - index_start_c)/index_start_c # calculate the index quarterly return"
   ]
  },
  {
   "cell_type": "code",
   "execution_count": 36,
   "metadata": {
    "collapsed": false
   },
   "outputs": [
    {
     "data": {
      "text/plain": [
       "-0.283879232004793"
      ]
     },
     "execution_count": 36,
     "metadata": {},
     "output_type": "execute_result"
    }
   ],
   "source": [
    "index_qtr_return_CURRENT"
   ]
  },
  {
   "cell_type": "code",
   "execution_count": 37,
   "metadata": {
    "collapsed": true
   },
   "outputs": [],
   "source": [
    "diff_return_com_csi300_CURRENT = [None]*len(BEME_ratio_df_2015['WINDCODE'])"
   ]
  },
  {
   "cell_type": "code",
   "execution_count": 38,
   "metadata": {
    "collapsed": true
   },
   "outputs": [],
   "source": [
    "for i in range(len(BEME_ratio_df_2015['WINDCODE'])):\n",
    "    diff_return_com_csi300_CURRENT[i] = com_qtr_return_CURRENT[i] - index_qtr_return_CURRENT"
   ]
  },
  {
   "cell_type": "code",
   "execution_count": 39,
   "metadata": {
    "collapsed": false
   },
   "outputs": [
    {
     "data": {
      "text/plain": [
       "[-0.09599235839311326,\n",
       " 0.09764091293814664,\n",
       " 0.3209183932610733,\n",
       " 0.16871840205639022,\n",
       " 0.02193655684555723,\n",
       " -0.029535041018600494,\n",
       " -0.29377335015483147,\n",
       " 0.26855208105167605,\n",
       " 0.11371446460828655,\n",
       " 0.04461542832381146]"
      ]
     },
     "execution_count": 39,
     "metadata": {},
     "output_type": "execute_result"
    }
   ],
   "source": [
    "diff_return_com_csi300_CURRENT[0:10]"
   ]
  },
  {
   "cell_type": "code",
   "execution_count": 40,
   "metadata": {
    "collapsed": true
   },
   "outputs": [],
   "source": [
    "Y_2015_Q3 = pd.DataFrame({'Company':BEME_ratio_df_2015['WINDCODE'],'Y':diff_return_com_csi300_CURRENT})"
   ]
  },
  {
   "cell_type": "code",
   "execution_count": 41,
   "metadata": {
    "collapsed": true
   },
   "outputs": [],
   "source": [
    "Y_2015_Q3.to_csv(\"Y_2015_Q3.csv\")"
   ]
  },
  {
   "cell_type": "code",
   "execution_count": 42,
   "metadata": {
    "collapsed": true
   },
   "outputs": [],
   "source": [
    "TFM_2015_Q3 = pd.DataFrame({'X_1':norm_BEME_ratio_list,'X_2':Weighted_Return['norm_diff_csi300_LAST'], 'X_3': FAST_mean_df['FAST_mean_norm'], 'Y':diff_return_com_csi300_CURRENT})"
   ]
  },
  {
   "cell_type": "code",
   "execution_count": 43,
   "metadata": {
    "collapsed": true
   },
   "outputs": [],
   "source": [
    "TFM_2015_Q3.to_csv(\"TFM_2015_Q3.csv\")"
   ]
  },
  {
   "cell_type": "code",
   "execution_count": 44,
   "metadata": {
    "collapsed": true
   },
   "outputs": [],
   "source": [
    "def outlier_index(list_name, std_num):\n",
    "    mean = list_name.mean() # mean\n",
    "    std = np.std(list_name, axis=0) # standard deviation\n",
    "    \n",
    "    upper_b = mean+std_num*std\n",
    "    lower_b = mean-std_num*std\n",
    "    \n",
    "    ind_upper = [i for i in range(len(list_name)) if list_name[i] > upper_b]\n",
    "    ind_lower = [i for i in range(len(list_name)) if list_name[i] < lower_b]\n",
    "    outlier_index = ind_upper+ind_lower\n",
    "    \n",
    "    return outlier_index\n"
   ]
  },
  {
   "cell_type": "code",
   "execution_count": 45,
   "metadata": {
    "collapsed": true
   },
   "outputs": [],
   "source": [
    "outlier_all =outlier_index(TFM_2015_Q3['X_1'], 5) + outlier_index(TFM_2015_Q3['X_2'], 5)+ outlier_index(TFM_2015_Q3['X_3'], 5)+ outlier_index(TFM_2015_Q3['Y'], 5)"
   ]
  },
  {
   "cell_type": "code",
   "execution_count": 46,
   "metadata": {
    "collapsed": true
   },
   "outputs": [],
   "source": [
    "TFM_2015_Q3_NO = TFM_2015_Q3.drop(TFM_2015_Q3.index[outlier_all])"
   ]
  },
  {
   "cell_type": "code",
   "execution_count": 47,
   "metadata": {
    "collapsed": true
   },
   "outputs": [],
   "source": [
    "TFM_2015_Q3_NO.to_csv(\"TFM_2015_Q3_NO.csv\")"
   ]
  },
  {
   "cell_type": "markdown",
   "metadata": {},
   "source": [
    "# ************* Result DataFrame: TFM_2015_Q3_NO.csv *************"
   ]
  },
  {
   "cell_type": "code",
   "execution_count": null,
   "metadata": {
    "collapsed": true
   },
   "outputs": [],
   "source": []
  }
 ],
 "metadata": {
  "anaconda-cloud": {},
  "kernelspec": {
   "display_name": "Python [conda root]",
   "language": "python",
   "name": "conda-root-py"
  },
  "language_info": {
   "codemirror_mode": {
    "name": "ipython",
    "version": 2
   },
   "file_extension": ".py",
   "mimetype": "text/x-python",
   "name": "python",
   "nbconvert_exporter": "python",
   "pygments_lexer": "ipython2",
   "version": "2.7.12"
  }
 },
 "nbformat": 4,
 "nbformat_minor": 1
}
